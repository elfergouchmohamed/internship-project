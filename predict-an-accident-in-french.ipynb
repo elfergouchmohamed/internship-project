{
 "cells": [
  {
   "cell_type": "markdown",
   "id": "265b4d54",
   "metadata": {
    "papermill": {
     "duration": 0.039155,
     "end_time": "2022-08-29T12:39:23.030247",
     "exception": false,
     "start_time": "2022-08-29T12:39:22.991092",
     "status": "completed"
    },
    "tags": []
   },
   "source": [
    "# Predict Accidents "
   ]
  },
  {
   "cell_type": "markdown",
   "id": "dc53730d",
   "metadata": {
    "papermill": {
     "duration": 0.028621,
     "end_time": "2022-08-29T12:39:23.089033",
     "exception": false,
     "start_time": "2022-08-29T12:39:23.060412",
     "status": "completed"
    },
    "tags": []
   },
   "source": [
    "## Import Libraries "
   ]
  },
  {
   "cell_type": "code",
   "execution_count": 1,
   "id": "13cc3f87",
   "metadata": {
    "_cell_guid": "b1076dfc-b9ad-4769-8c92-a6c4dae69d19",
    "_uuid": "8f2839f25d086af736a60e9eeb907d3b93b6e0e5",
    "execution": {
     "iopub.execute_input": "2022-08-29T12:39:23.150983Z",
     "iopub.status.busy": "2022-08-29T12:39:23.150069Z",
     "iopub.status.idle": "2022-08-29T12:39:24.469691Z",
     "shell.execute_reply": "2022-08-29T12:39:24.468318Z"
    },
    "papermill": {
     "duration": 1.354881,
     "end_time": "2022-08-29T12:39:24.472900",
     "exception": false,
     "start_time": "2022-08-29T12:39:23.118019",
     "status": "completed"
    },
    "tags": []
   },
   "outputs": [],
   "source": [
    "import numpy as np \n",
    "import pandas as pd \n",
    "from sklearn.impute import KNNImputer\n",
    "import warnings\n",
    "import statistics as s\n",
    "warnings.filterwarnings(\"ignore\")"
   ]
  },
  {
   "cell_type": "markdown",
   "id": "996f4c66",
   "metadata": {
    "papermill": {
     "duration": 0.034952,
     "end_time": "2022-08-29T12:39:24.540438",
     "exception": false,
     "start_time": "2022-08-29T12:39:24.505486",
     "status": "completed"
    },
    "tags": []
   },
   "source": [
    "## Import Data"
   ]
  },
  {
   "cell_type": "code",
   "execution_count": 2,
   "id": "23852fa4",
   "metadata": {
    "execution": {
     "iopub.execute_input": "2022-08-29T12:39:24.616926Z",
     "iopub.status.busy": "2022-08-29T12:39:24.616405Z",
     "iopub.status.idle": "2022-08-29T12:39:24.630575Z",
     "shell.execute_reply": "2022-08-29T12:39:24.629194Z"
    },
    "papermill": {
     "duration": 0.055547,
     "end_time": "2022-08-29T12:39:24.633635",
     "exception": false,
     "start_time": "2022-08-29T12:39:24.578088",
     "status": "completed"
    },
    "tags": []
   },
   "outputs": [
    {
     "name": "stdout",
     "output_type": "stream",
     "text": [
      "/kaggle/input/accidents-in-france-from-2005-to-2016/vehicles.csv\n",
      "/kaggle/input/accidents-in-france-from-2005-to-2016/holidays.csv\n",
      "/kaggle/input/accidents-in-france-from-2005-to-2016/users.csv\n",
      "/kaggle/input/accidents-in-france-from-2005-to-2016/places.csv\n",
      "/kaggle/input/accidents-in-france-from-2005-to-2016/caracteristics.csv\n"
     ]
    }
   ],
   "source": [
    "import os\n",
    "for dirname, _, filenames in os.walk('/kaggle/input'):\n",
    "    for filename in filenames:\n",
    "        print(os.path.join(dirname, filename))"
   ]
  },
  {
   "cell_type": "code",
   "execution_count": 3,
   "id": "df313b5a",
   "metadata": {
    "execution": {
     "iopub.execute_input": "2022-08-29T12:39:24.694227Z",
     "iopub.status.busy": "2022-08-29T12:39:24.693390Z",
     "iopub.status.idle": "2022-08-29T12:39:26.895506Z",
     "shell.execute_reply": "2022-08-29T12:39:26.894487Z"
    },
    "papermill": {
     "duration": 2.235386,
     "end_time": "2022-08-29T12:39:26.898478",
     "exception": false,
     "start_time": "2022-08-29T12:39:24.663092",
     "status": "completed"
    },
    "tags": []
   },
   "outputs": [],
   "source": [
    "dirname_caracteristics = '/kaggle/input/accidents-in-france-from-2005-to-2016/caracteristics.csv'\n",
    "df_caracteristics = pd.read_csv(dirname_caracteristics, encoding = 'latin-1')"
   ]
  },
  {
   "cell_type": "code",
   "execution_count": 4,
   "id": "f17abf01",
   "metadata": {
    "execution": {
     "iopub.execute_input": "2022-08-29T12:39:26.958864Z",
     "iopub.status.busy": "2022-08-29T12:39:26.957912Z",
     "iopub.status.idle": "2022-08-29T12:39:28.468298Z",
     "shell.execute_reply": "2022-08-29T12:39:28.467060Z"
    },
    "papermill": {
     "duration": 1.543737,
     "end_time": "2022-08-29T12:39:28.471239",
     "exception": false,
     "start_time": "2022-08-29T12:39:26.927502",
     "status": "completed"
    },
    "tags": []
   },
   "outputs": [],
   "source": [
    "dirname_places = '/kaggle/input/accidents-in-france-from-2005-to-2016/places.csv'\n",
    "df_places = pd.read_csv(dirname_places)"
   ]
  },
  {
   "cell_type": "code",
   "execution_count": 5,
   "id": "de87246f",
   "metadata": {
    "execution": {
     "iopub.execute_input": "2022-08-29T12:39:28.534024Z",
     "iopub.status.busy": "2022-08-29T12:39:28.533522Z",
     "iopub.status.idle": "2022-08-29T12:39:31.124487Z",
     "shell.execute_reply": "2022-08-29T12:39:31.123218Z"
    },
    "papermill": {
     "duration": 2.626574,
     "end_time": "2022-08-29T12:39:31.127478",
     "exception": false,
     "start_time": "2022-08-29T12:39:28.500904",
     "status": "completed"
    },
    "tags": []
   },
   "outputs": [],
   "source": [
    "dirname_users = '/kaggle/input/accidents-in-france-from-2005-to-2016/users.csv'\n",
    "df_users = pd.read_csv(dirname_users)"
   ]
  },
  {
   "cell_type": "markdown",
   "id": "a67a4821",
   "metadata": {
    "papermill": {
     "duration": 0.027592,
     "end_time": "2022-08-29T12:39:31.183541",
     "exception": false,
     "start_time": "2022-08-29T12:39:31.155949",
     "status": "completed"
    },
    "tags": []
   },
   "source": [
    "# Describe Tables "
   ]
  },
  {
   "cell_type": "markdown",
   "id": "f312d94e",
   "metadata": {
    "papermill": {
     "duration": 0.02847,
     "end_time": "2022-08-29T12:39:31.240617",
     "exception": false,
     "start_time": "2022-08-29T12:39:31.212147",
     "status": "completed"
    },
    "tags": []
   },
   "source": [
    "### <center> caracteristics table"
   ]
  },
  {
   "cell_type": "code",
   "execution_count": 6,
   "id": "c20fdb52",
   "metadata": {
    "execution": {
     "iopub.execute_input": "2022-08-29T12:39:31.299644Z",
     "iopub.status.busy": "2022-08-29T12:39:31.298967Z",
     "iopub.status.idle": "2022-08-29T12:39:31.338308Z",
     "shell.execute_reply": "2022-08-29T12:39:31.337149Z"
    },
    "papermill": {
     "duration": 0.072535,
     "end_time": "2022-08-29T12:39:31.341485",
     "exception": false,
     "start_time": "2022-08-29T12:39:31.268950",
     "status": "completed"
    },
    "tags": []
   },
   "outputs": [
    {
     "data": {
      "text/html": [
       "<div>\n",
       "<style scoped>\n",
       "    .dataframe tbody tr th:only-of-type {\n",
       "        vertical-align: middle;\n",
       "    }\n",
       "\n",
       "    .dataframe tbody tr th {\n",
       "        vertical-align: top;\n",
       "    }\n",
       "\n",
       "    .dataframe thead th {\n",
       "        text-align: right;\n",
       "    }\n",
       "</style>\n",
       "<table border=\"1\" class=\"dataframe\">\n",
       "  <thead>\n",
       "    <tr style=\"text-align: right;\">\n",
       "      <th></th>\n",
       "      <th>Num_Acc</th>\n",
       "      <th>an</th>\n",
       "      <th>mois</th>\n",
       "      <th>jour</th>\n",
       "      <th>hrmn</th>\n",
       "      <th>lum</th>\n",
       "      <th>agg</th>\n",
       "      <th>int</th>\n",
       "      <th>atm</th>\n",
       "      <th>col</th>\n",
       "      <th>com</th>\n",
       "      <th>adr</th>\n",
       "      <th>gps</th>\n",
       "      <th>lat</th>\n",
       "      <th>long</th>\n",
       "      <th>dep</th>\n",
       "    </tr>\n",
       "  </thead>\n",
       "  <tbody>\n",
       "    <tr>\n",
       "      <th>0</th>\n",
       "      <td>201600000001</td>\n",
       "      <td>16</td>\n",
       "      <td>2</td>\n",
       "      <td>1</td>\n",
       "      <td>1445</td>\n",
       "      <td>1</td>\n",
       "      <td>2</td>\n",
       "      <td>1</td>\n",
       "      <td>8.0</td>\n",
       "      <td>3.0</td>\n",
       "      <td>5.0</td>\n",
       "      <td>46, rue Sonneville</td>\n",
       "      <td>M</td>\n",
       "      <td>0.0</td>\n",
       "      <td>0.0</td>\n",
       "      <td>590</td>\n",
       "    </tr>\n",
       "    <tr>\n",
       "      <th>1</th>\n",
       "      <td>201600000002</td>\n",
       "      <td>16</td>\n",
       "      <td>3</td>\n",
       "      <td>16</td>\n",
       "      <td>1800</td>\n",
       "      <td>1</td>\n",
       "      <td>2</td>\n",
       "      <td>6</td>\n",
       "      <td>1.0</td>\n",
       "      <td>6.0</td>\n",
       "      <td>5.0</td>\n",
       "      <td>1a rue du cimetière</td>\n",
       "      <td>M</td>\n",
       "      <td>0.0</td>\n",
       "      <td>0.0</td>\n",
       "      <td>590</td>\n",
       "    </tr>\n",
       "    <tr>\n",
       "      <th>2</th>\n",
       "      <td>201600000003</td>\n",
       "      <td>16</td>\n",
       "      <td>7</td>\n",
       "      <td>13</td>\n",
       "      <td>1900</td>\n",
       "      <td>1</td>\n",
       "      <td>1</td>\n",
       "      <td>1</td>\n",
       "      <td>1.0</td>\n",
       "      <td>6.0</td>\n",
       "      <td>11.0</td>\n",
       "      <td>NaN</td>\n",
       "      <td>M</td>\n",
       "      <td>0.0</td>\n",
       "      <td>0.0</td>\n",
       "      <td>590</td>\n",
       "    </tr>\n",
       "    <tr>\n",
       "      <th>3</th>\n",
       "      <td>201600000004</td>\n",
       "      <td>16</td>\n",
       "      <td>8</td>\n",
       "      <td>15</td>\n",
       "      <td>1930</td>\n",
       "      <td>2</td>\n",
       "      <td>2</td>\n",
       "      <td>1</td>\n",
       "      <td>7.0</td>\n",
       "      <td>3.0</td>\n",
       "      <td>477.0</td>\n",
       "      <td>52 rue victor hugo</td>\n",
       "      <td>M</td>\n",
       "      <td>0.0</td>\n",
       "      <td>0.0</td>\n",
       "      <td>590</td>\n",
       "    </tr>\n",
       "    <tr>\n",
       "      <th>4</th>\n",
       "      <td>201600000005</td>\n",
       "      <td>16</td>\n",
       "      <td>12</td>\n",
       "      <td>23</td>\n",
       "      <td>1100</td>\n",
       "      <td>1</td>\n",
       "      <td>2</td>\n",
       "      <td>3</td>\n",
       "      <td>1.0</td>\n",
       "      <td>3.0</td>\n",
       "      <td>11.0</td>\n",
       "      <td>rue Joliot curie</td>\n",
       "      <td>M</td>\n",
       "      <td>0.0</td>\n",
       "      <td>0.0</td>\n",
       "      <td>590</td>\n",
       "    </tr>\n",
       "    <tr>\n",
       "      <th>...</th>\n",
       "      <td>...</td>\n",
       "      <td>...</td>\n",
       "      <td>...</td>\n",
       "      <td>...</td>\n",
       "      <td>...</td>\n",
       "      <td>...</td>\n",
       "      <td>...</td>\n",
       "      <td>...</td>\n",
       "      <td>...</td>\n",
       "      <td>...</td>\n",
       "      <td>...</td>\n",
       "      <td>...</td>\n",
       "      <td>...</td>\n",
       "      <td>...</td>\n",
       "      <td>...</td>\n",
       "      <td>...</td>\n",
       "    </tr>\n",
       "    <tr>\n",
       "      <th>839980</th>\n",
       "      <td>200500087950</td>\n",
       "      <td>5</td>\n",
       "      <td>12</td>\n",
       "      <td>21</td>\n",
       "      <td>2035</td>\n",
       "      <td>5</td>\n",
       "      <td>2</td>\n",
       "      <td>2</td>\n",
       "      <td>1.0</td>\n",
       "      <td>3.0</td>\n",
       "      <td>416.0</td>\n",
       "      <td>sans, LEBLOND(RUE M. ET</td>\n",
       "      <td>NaN</td>\n",
       "      <td>NaN</td>\n",
       "      <td>NaN</td>\n",
       "      <td>974</td>\n",
       "    </tr>\n",
       "    <tr>\n",
       "      <th>839981</th>\n",
       "      <td>200500087951</td>\n",
       "      <td>5</td>\n",
       "      <td>12</td>\n",
       "      <td>23</td>\n",
       "      <td>1010</td>\n",
       "      <td>1</td>\n",
       "      <td>2</td>\n",
       "      <td>1</td>\n",
       "      <td>1.0</td>\n",
       "      <td>3.0</td>\n",
       "      <td>416.0</td>\n",
       "      <td>SANS, PRESIDENT MITTERAN</td>\n",
       "      <td>NaN</td>\n",
       "      <td>NaN</td>\n",
       "      <td>NaN</td>\n",
       "      <td>974</td>\n",
       "    </tr>\n",
       "    <tr>\n",
       "      <th>839982</th>\n",
       "      <td>200500087952</td>\n",
       "      <td>5</td>\n",
       "      <td>12</td>\n",
       "      <td>26</td>\n",
       "      <td>1715</td>\n",
       "      <td>1</td>\n",
       "      <td>2</td>\n",
       "      <td>2</td>\n",
       "      <td>1.0</td>\n",
       "      <td>3.0</td>\n",
       "      <td>416.0</td>\n",
       "      <td>SANS, LEBLOND(RUE M. ET</td>\n",
       "      <td>NaN</td>\n",
       "      <td>NaN</td>\n",
       "      <td>NaN</td>\n",
       "      <td>974</td>\n",
       "    </tr>\n",
       "    <tr>\n",
       "      <th>839983</th>\n",
       "      <td>200500087953</td>\n",
       "      <td>5</td>\n",
       "      <td>12</td>\n",
       "      <td>27</td>\n",
       "      <td>1500</td>\n",
       "      <td>1</td>\n",
       "      <td>2</td>\n",
       "      <td>3</td>\n",
       "      <td>2.0</td>\n",
       "      <td>5.0</td>\n",
       "      <td>416.0</td>\n",
       "      <td>SANS, HUBERT DE LISLE(BO</td>\n",
       "      <td>NaN</td>\n",
       "      <td>NaN</td>\n",
       "      <td>NaN</td>\n",
       "      <td>974</td>\n",
       "    </tr>\n",
       "    <tr>\n",
       "      <th>839984</th>\n",
       "      <td>200500087954</td>\n",
       "      <td>5</td>\n",
       "      <td>12</td>\n",
       "      <td>31</td>\n",
       "      <td>2100</td>\n",
       "      <td>5</td>\n",
       "      <td>2</td>\n",
       "      <td>1</td>\n",
       "      <td>2.0</td>\n",
       "      <td>7.0</td>\n",
       "      <td>414.0</td>\n",
       "      <td>RN01</td>\n",
       "      <td>NaN</td>\n",
       "      <td>NaN</td>\n",
       "      <td>NaN</td>\n",
       "      <td>974</td>\n",
       "    </tr>\n",
       "  </tbody>\n",
       "</table>\n",
       "<p>839985 rows × 16 columns</p>\n",
       "</div>"
      ],
      "text/plain": [
       "             Num_Acc  an  mois  jour  hrmn  lum  agg  int  atm  col    com  \\\n",
       "0       201600000001  16     2     1  1445    1    2    1  8.0  3.0    5.0   \n",
       "1       201600000002  16     3    16  1800    1    2    6  1.0  6.0    5.0   \n",
       "2       201600000003  16     7    13  1900    1    1    1  1.0  6.0   11.0   \n",
       "3       201600000004  16     8    15  1930    2    2    1  7.0  3.0  477.0   \n",
       "4       201600000005  16    12    23  1100    1    2    3  1.0  3.0   11.0   \n",
       "...              ...  ..   ...   ...   ...  ...  ...  ...  ...  ...    ...   \n",
       "839980  200500087950   5    12    21  2035    5    2    2  1.0  3.0  416.0   \n",
       "839981  200500087951   5    12    23  1010    1    2    1  1.0  3.0  416.0   \n",
       "839982  200500087952   5    12    26  1715    1    2    2  1.0  3.0  416.0   \n",
       "839983  200500087953   5    12    27  1500    1    2    3  2.0  5.0  416.0   \n",
       "839984  200500087954   5    12    31  2100    5    2    1  2.0  7.0  414.0   \n",
       "\n",
       "                             adr  gps  lat long  dep  \n",
       "0             46, rue Sonneville    M  0.0  0.0  590  \n",
       "1            1a rue du cimetière    M  0.0  0.0  590  \n",
       "2                            NaN    M  0.0  0.0  590  \n",
       "3             52 rue victor hugo    M  0.0  0.0  590  \n",
       "4               rue Joliot curie    M  0.0  0.0  590  \n",
       "...                          ...  ...  ...  ...  ...  \n",
       "839980   sans, LEBLOND(RUE M. ET  NaN  NaN  NaN  974  \n",
       "839981  SANS, PRESIDENT MITTERAN  NaN  NaN  NaN  974  \n",
       "839982   SANS, LEBLOND(RUE M. ET  NaN  NaN  NaN  974  \n",
       "839983  SANS, HUBERT DE LISLE(BO  NaN  NaN  NaN  974  \n",
       "839984                      RN01  NaN  NaN  NaN  974  \n",
       "\n",
       "[839985 rows x 16 columns]"
      ]
     },
     "execution_count": 6,
     "metadata": {},
     "output_type": "execute_result"
    }
   ],
   "source": [
    "df_caracteristics"
   ]
  },
  {
   "cell_type": "code",
   "execution_count": 7,
   "id": "347131ce",
   "metadata": {
    "execution": {
     "iopub.execute_input": "2022-08-29T12:39:31.401814Z",
     "iopub.status.busy": "2022-08-29T12:39:31.400874Z",
     "iopub.status.idle": "2022-08-29T12:39:31.547228Z",
     "shell.execute_reply": "2022-08-29T12:39:31.545432Z"
    },
    "papermill": {
     "duration": 0.17958,
     "end_time": "2022-08-29T12:39:31.550137",
     "exception": false,
     "start_time": "2022-08-29T12:39:31.370557",
     "status": "completed"
    },
    "tags": []
   },
   "outputs": [
    {
     "name": "stdout",
     "output_type": "stream",
     "text": [
      "<class 'pandas.core.frame.DataFrame'>\n",
      "RangeIndex: 839985 entries, 0 to 839984\n",
      "Data columns (total 16 columns):\n",
      " #   Column   Non-Null Count   Dtype  \n",
      "---  ------   --------------   -----  \n",
      " 0   Num_Acc  839985 non-null  int64  \n",
      " 1   an       839985 non-null  int64  \n",
      " 2   mois     839985 non-null  int64  \n",
      " 3   jour     839985 non-null  int64  \n",
      " 4   hrmn     839985 non-null  int64  \n",
      " 5   lum      839985 non-null  int64  \n",
      " 6   agg      839985 non-null  int64  \n",
      " 7   int      839985 non-null  int64  \n",
      " 8   atm      839930 non-null  float64\n",
      " 9   col      839974 non-null  float64\n",
      " 10  com      839983 non-null  float64\n",
      " 11  adr      699443 non-null  object \n",
      " 12  gps      366226 non-null  object \n",
      " 13  lat      362471 non-null  float64\n",
      " 14  long     362467 non-null  object \n",
      " 15  dep      839985 non-null  int64  \n",
      "dtypes: float64(4), int64(9), object(3)\n",
      "memory usage: 102.5+ MB\n"
     ]
    }
   ],
   "source": [
    "df_caracteristics.info()"
   ]
  },
  {
   "cell_type": "markdown",
   "id": "8a8ca43d",
   "metadata": {
    "papermill": {
     "duration": 0.028149,
     "end_time": "2022-08-29T12:39:31.607116",
     "exception": false,
     "start_time": "2022-08-29T12:39:31.578967",
     "status": "completed"
    },
    "tags": []
   },
   "source": [
    "### <center> Users table"
   ]
  },
  {
   "cell_type": "code",
   "execution_count": 8,
   "id": "b871720f",
   "metadata": {
    "execution": {
     "iopub.execute_input": "2022-08-29T12:39:31.666838Z",
     "iopub.status.busy": "2022-08-29T12:39:31.666352Z",
     "iopub.status.idle": "2022-08-29T12:39:31.693450Z",
     "shell.execute_reply": "2022-08-29T12:39:31.692312Z"
    },
    "papermill": {
     "duration": 0.059895,
     "end_time": "2022-08-29T12:39:31.695719",
     "exception": false,
     "start_time": "2022-08-29T12:39:31.635824",
     "status": "completed"
    },
    "tags": []
   },
   "outputs": [
    {
     "data": {
      "text/html": [
       "<div>\n",
       "<style scoped>\n",
       "    .dataframe tbody tr th:only-of-type {\n",
       "        vertical-align: middle;\n",
       "    }\n",
       "\n",
       "    .dataframe tbody tr th {\n",
       "        vertical-align: top;\n",
       "    }\n",
       "\n",
       "    .dataframe thead th {\n",
       "        text-align: right;\n",
       "    }\n",
       "</style>\n",
       "<table border=\"1\" class=\"dataframe\">\n",
       "  <thead>\n",
       "    <tr style=\"text-align: right;\">\n",
       "      <th></th>\n",
       "      <th>Num_Acc</th>\n",
       "      <th>place</th>\n",
       "      <th>catu</th>\n",
       "      <th>grav</th>\n",
       "      <th>sexe</th>\n",
       "      <th>trajet</th>\n",
       "      <th>secu</th>\n",
       "      <th>locp</th>\n",
       "      <th>actp</th>\n",
       "      <th>etatp</th>\n",
       "      <th>an_nais</th>\n",
       "      <th>num_veh</th>\n",
       "    </tr>\n",
       "  </thead>\n",
       "  <tbody>\n",
       "    <tr>\n",
       "      <th>0</th>\n",
       "      <td>201600000001</td>\n",
       "      <td>1.0</td>\n",
       "      <td>1</td>\n",
       "      <td>1</td>\n",
       "      <td>2</td>\n",
       "      <td>0.0</td>\n",
       "      <td>11.0</td>\n",
       "      <td>0.0</td>\n",
       "      <td>0.0</td>\n",
       "      <td>0.0</td>\n",
       "      <td>1983.0</td>\n",
       "      <td>B02</td>\n",
       "    </tr>\n",
       "    <tr>\n",
       "      <th>1</th>\n",
       "      <td>201600000001</td>\n",
       "      <td>1.0</td>\n",
       "      <td>1</td>\n",
       "      <td>3</td>\n",
       "      <td>1</td>\n",
       "      <td>9.0</td>\n",
       "      <td>21.0</td>\n",
       "      <td>0.0</td>\n",
       "      <td>0.0</td>\n",
       "      <td>0.0</td>\n",
       "      <td>2001.0</td>\n",
       "      <td>A01</td>\n",
       "    </tr>\n",
       "    <tr>\n",
       "      <th>2</th>\n",
       "      <td>201600000002</td>\n",
       "      <td>1.0</td>\n",
       "      <td>1</td>\n",
       "      <td>3</td>\n",
       "      <td>1</td>\n",
       "      <td>5.0</td>\n",
       "      <td>11.0</td>\n",
       "      <td>0.0</td>\n",
       "      <td>0.0</td>\n",
       "      <td>0.0</td>\n",
       "      <td>1960.0</td>\n",
       "      <td>A01</td>\n",
       "    </tr>\n",
       "    <tr>\n",
       "      <th>3</th>\n",
       "      <td>201600000002</td>\n",
       "      <td>2.0</td>\n",
       "      <td>2</td>\n",
       "      <td>3</td>\n",
       "      <td>1</td>\n",
       "      <td>0.0</td>\n",
       "      <td>11.0</td>\n",
       "      <td>0.0</td>\n",
       "      <td>0.0</td>\n",
       "      <td>0.0</td>\n",
       "      <td>2000.0</td>\n",
       "      <td>A01</td>\n",
       "    </tr>\n",
       "    <tr>\n",
       "      <th>4</th>\n",
       "      <td>201600000002</td>\n",
       "      <td>3.0</td>\n",
       "      <td>2</td>\n",
       "      <td>3</td>\n",
       "      <td>2</td>\n",
       "      <td>0.0</td>\n",
       "      <td>11.0</td>\n",
       "      <td>0.0</td>\n",
       "      <td>0.0</td>\n",
       "      <td>0.0</td>\n",
       "      <td>1962.0</td>\n",
       "      <td>A01</td>\n",
       "    </tr>\n",
       "    <tr>\n",
       "      <th>...</th>\n",
       "      <td>...</td>\n",
       "      <td>...</td>\n",
       "      <td>...</td>\n",
       "      <td>...</td>\n",
       "      <td>...</td>\n",
       "      <td>...</td>\n",
       "      <td>...</td>\n",
       "      <td>...</td>\n",
       "      <td>...</td>\n",
       "      <td>...</td>\n",
       "      <td>...</td>\n",
       "      <td>...</td>\n",
       "    </tr>\n",
       "    <tr>\n",
       "      <th>1876000</th>\n",
       "      <td>200500087953</td>\n",
       "      <td>1.0</td>\n",
       "      <td>1</td>\n",
       "      <td>1</td>\n",
       "      <td>1</td>\n",
       "      <td>0.0</td>\n",
       "      <td>13.0</td>\n",
       "      <td>0.0</td>\n",
       "      <td>0.0</td>\n",
       "      <td>0.0</td>\n",
       "      <td>1972.0</td>\n",
       "      <td>B01</td>\n",
       "    </tr>\n",
       "    <tr>\n",
       "      <th>1876001</th>\n",
       "      <td>200500087953</td>\n",
       "      <td>1.0</td>\n",
       "      <td>1</td>\n",
       "      <td>1</td>\n",
       "      <td>1</td>\n",
       "      <td>0.0</td>\n",
       "      <td>13.0</td>\n",
       "      <td>0.0</td>\n",
       "      <td>0.0</td>\n",
       "      <td>0.0</td>\n",
       "      <td>1965.0</td>\n",
       "      <td>C01</td>\n",
       "    </tr>\n",
       "    <tr>\n",
       "      <th>1876002</th>\n",
       "      <td>200500087953</td>\n",
       "      <td>1.0</td>\n",
       "      <td>1</td>\n",
       "      <td>4</td>\n",
       "      <td>1</td>\n",
       "      <td>5.0</td>\n",
       "      <td>23.0</td>\n",
       "      <td>0.0</td>\n",
       "      <td>0.0</td>\n",
       "      <td>0.0</td>\n",
       "      <td>1990.0</td>\n",
       "      <td>A01</td>\n",
       "    </tr>\n",
       "    <tr>\n",
       "      <th>1876003</th>\n",
       "      <td>200500087954</td>\n",
       "      <td>1.0</td>\n",
       "      <td>1</td>\n",
       "      <td>4</td>\n",
       "      <td>1</td>\n",
       "      <td>0.0</td>\n",
       "      <td>13.0</td>\n",
       "      <td>0.0</td>\n",
       "      <td>0.0</td>\n",
       "      <td>0.0</td>\n",
       "      <td>1951.0</td>\n",
       "      <td>A01</td>\n",
       "    </tr>\n",
       "    <tr>\n",
       "      <th>1876004</th>\n",
       "      <td>200500087954</td>\n",
       "      <td>2.0</td>\n",
       "      <td>2</td>\n",
       "      <td>4</td>\n",
       "      <td>2</td>\n",
       "      <td>0.0</td>\n",
       "      <td>13.0</td>\n",
       "      <td>0.0</td>\n",
       "      <td>0.0</td>\n",
       "      <td>0.0</td>\n",
       "      <td>1946.0</td>\n",
       "      <td>A01</td>\n",
       "    </tr>\n",
       "  </tbody>\n",
       "</table>\n",
       "<p>1876005 rows × 12 columns</p>\n",
       "</div>"
      ],
      "text/plain": [
       "              Num_Acc  place  catu  grav  sexe  trajet  secu  locp  actp  \\\n",
       "0        201600000001    1.0     1     1     2     0.0  11.0   0.0   0.0   \n",
       "1        201600000001    1.0     1     3     1     9.0  21.0   0.0   0.0   \n",
       "2        201600000002    1.0     1     3     1     5.0  11.0   0.0   0.0   \n",
       "3        201600000002    2.0     2     3     1     0.0  11.0   0.0   0.0   \n",
       "4        201600000002    3.0     2     3     2     0.0  11.0   0.0   0.0   \n",
       "...               ...    ...   ...   ...   ...     ...   ...   ...   ...   \n",
       "1876000  200500087953    1.0     1     1     1     0.0  13.0   0.0   0.0   \n",
       "1876001  200500087953    1.0     1     1     1     0.0  13.0   0.0   0.0   \n",
       "1876002  200500087953    1.0     1     4     1     5.0  23.0   0.0   0.0   \n",
       "1876003  200500087954    1.0     1     4     1     0.0  13.0   0.0   0.0   \n",
       "1876004  200500087954    2.0     2     4     2     0.0  13.0   0.0   0.0   \n",
       "\n",
       "         etatp  an_nais num_veh  \n",
       "0          0.0   1983.0     B02  \n",
       "1          0.0   2001.0     A01  \n",
       "2          0.0   1960.0     A01  \n",
       "3          0.0   2000.0     A01  \n",
       "4          0.0   1962.0     A01  \n",
       "...        ...      ...     ...  \n",
       "1876000    0.0   1972.0     B01  \n",
       "1876001    0.0   1965.0     C01  \n",
       "1876002    0.0   1990.0     A01  \n",
       "1876003    0.0   1951.0     A01  \n",
       "1876004    0.0   1946.0     A01  \n",
       "\n",
       "[1876005 rows x 12 columns]"
      ]
     },
     "execution_count": 8,
     "metadata": {},
     "output_type": "execute_result"
    }
   ],
   "source": [
    "df_users"
   ]
  },
  {
   "cell_type": "code",
   "execution_count": 9,
   "id": "cb06014a",
   "metadata": {
    "execution": {
     "iopub.execute_input": "2022-08-29T12:39:31.756249Z",
     "iopub.status.busy": "2022-08-29T12:39:31.755762Z",
     "iopub.status.idle": "2022-08-29T12:39:31.768699Z",
     "shell.execute_reply": "2022-08-29T12:39:31.767585Z"
    },
    "papermill": {
     "duration": 0.046327,
     "end_time": "2022-08-29T12:39:31.771210",
     "exception": false,
     "start_time": "2022-08-29T12:39:31.724883",
     "status": "completed"
    },
    "tags": []
   },
   "outputs": [
    {
     "name": "stdout",
     "output_type": "stream",
     "text": [
      "<class 'pandas.core.frame.DataFrame'>\n",
      "RangeIndex: 1876005 entries, 0 to 1876004\n",
      "Data columns (total 12 columns):\n",
      " #   Column   Dtype  \n",
      "---  ------   -----  \n",
      " 0   Num_Acc  int64  \n",
      " 1   place    float64\n",
      " 2   catu     int64  \n",
      " 3   grav     int64  \n",
      " 4   sexe     int64  \n",
      " 5   trajet   float64\n",
      " 6   secu     float64\n",
      " 7   locp     float64\n",
      " 8   actp     float64\n",
      " 9   etatp    float64\n",
      " 10  an_nais  float64\n",
      " 11  num_veh  object \n",
      "dtypes: float64(7), int64(4), object(1)\n",
      "memory usage: 171.8+ MB\n"
     ]
    }
   ],
   "source": [
    "df_users.info()"
   ]
  },
  {
   "cell_type": "markdown",
   "id": "1b3b8df1",
   "metadata": {
    "papermill": {
     "duration": 0.028883,
     "end_time": "2022-08-29T12:39:31.829603",
     "exception": false,
     "start_time": "2022-08-29T12:39:31.800720",
     "status": "completed"
    },
    "tags": []
   },
   "source": [
    "### <center> Places table"
   ]
  },
  {
   "cell_type": "code",
   "execution_count": 10,
   "id": "480860d0",
   "metadata": {
    "execution": {
     "iopub.execute_input": "2022-08-29T12:39:31.891689Z",
     "iopub.status.busy": "2022-08-29T12:39:31.891159Z",
     "iopub.status.idle": "2022-08-29T12:39:31.930454Z",
     "shell.execute_reply": "2022-08-29T12:39:31.929335Z"
    },
    "papermill": {
     "duration": 0.072917,
     "end_time": "2022-08-29T12:39:31.932686",
     "exception": false,
     "start_time": "2022-08-29T12:39:31.859769",
     "status": "completed"
    },
    "tags": []
   },
   "outputs": [
    {
     "data": {
      "text/html": [
       "<div>\n",
       "<style scoped>\n",
       "    .dataframe tbody tr th:only-of-type {\n",
       "        vertical-align: middle;\n",
       "    }\n",
       "\n",
       "    .dataframe tbody tr th {\n",
       "        vertical-align: top;\n",
       "    }\n",
       "\n",
       "    .dataframe thead th {\n",
       "        text-align: right;\n",
       "    }\n",
       "</style>\n",
       "<table border=\"1\" class=\"dataframe\">\n",
       "  <thead>\n",
       "    <tr style=\"text-align: right;\">\n",
       "      <th></th>\n",
       "      <th>Num_Acc</th>\n",
       "      <th>catr</th>\n",
       "      <th>voie</th>\n",
       "      <th>v1</th>\n",
       "      <th>v2</th>\n",
       "      <th>circ</th>\n",
       "      <th>nbv</th>\n",
       "      <th>pr</th>\n",
       "      <th>pr1</th>\n",
       "      <th>vosp</th>\n",
       "      <th>prof</th>\n",
       "      <th>plan</th>\n",
       "      <th>lartpc</th>\n",
       "      <th>larrout</th>\n",
       "      <th>surf</th>\n",
       "      <th>infra</th>\n",
       "      <th>situ</th>\n",
       "      <th>env1</th>\n",
       "    </tr>\n",
       "  </thead>\n",
       "  <tbody>\n",
       "    <tr>\n",
       "      <th>0</th>\n",
       "      <td>201600000001</td>\n",
       "      <td>3.0</td>\n",
       "      <td>39</td>\n",
       "      <td>NaN</td>\n",
       "      <td>NaN</td>\n",
       "      <td>2.0</td>\n",
       "      <td>0.0</td>\n",
       "      <td>NaN</td>\n",
       "      <td>NaN</td>\n",
       "      <td>0.0</td>\n",
       "      <td>1.0</td>\n",
       "      <td>3.0</td>\n",
       "      <td>0.0</td>\n",
       "      <td>0.0</td>\n",
       "      <td>1.0</td>\n",
       "      <td>0.0</td>\n",
       "      <td>1.0</td>\n",
       "      <td>0.0</td>\n",
       "    </tr>\n",
       "    <tr>\n",
       "      <th>1</th>\n",
       "      <td>201600000002</td>\n",
       "      <td>3.0</td>\n",
       "      <td>39</td>\n",
       "      <td>NaN</td>\n",
       "      <td>NaN</td>\n",
       "      <td>1.0</td>\n",
       "      <td>0.0</td>\n",
       "      <td>NaN</td>\n",
       "      <td>NaN</td>\n",
       "      <td>0.0</td>\n",
       "      <td>1.0</td>\n",
       "      <td>2.0</td>\n",
       "      <td>0.0</td>\n",
       "      <td>58.0</td>\n",
       "      <td>1.0</td>\n",
       "      <td>0.0</td>\n",
       "      <td>1.0</td>\n",
       "      <td>0.0</td>\n",
       "    </tr>\n",
       "    <tr>\n",
       "      <th>2</th>\n",
       "      <td>201600000003</td>\n",
       "      <td>3.0</td>\n",
       "      <td>1</td>\n",
       "      <td>NaN</td>\n",
       "      <td>NaN</td>\n",
       "      <td>2.0</td>\n",
       "      <td>2.0</td>\n",
       "      <td>NaN</td>\n",
       "      <td>NaN</td>\n",
       "      <td>0.0</td>\n",
       "      <td>1.0</td>\n",
       "      <td>3.0</td>\n",
       "      <td>0.0</td>\n",
       "      <td>68.0</td>\n",
       "      <td>2.0</td>\n",
       "      <td>0.0</td>\n",
       "      <td>3.0</td>\n",
       "      <td>99.0</td>\n",
       "    </tr>\n",
       "    <tr>\n",
       "      <th>3</th>\n",
       "      <td>201600000004</td>\n",
       "      <td>4.0</td>\n",
       "      <td>0</td>\n",
       "      <td>NaN</td>\n",
       "      <td>NaN</td>\n",
       "      <td>2.0</td>\n",
       "      <td>0.0</td>\n",
       "      <td>NaN</td>\n",
       "      <td>NaN</td>\n",
       "      <td>0.0</td>\n",
       "      <td>1.0</td>\n",
       "      <td>1.0</td>\n",
       "      <td>0.0</td>\n",
       "      <td>0.0</td>\n",
       "      <td>1.0</td>\n",
       "      <td>0.0</td>\n",
       "      <td>1.0</td>\n",
       "      <td>99.0</td>\n",
       "    </tr>\n",
       "    <tr>\n",
       "      <th>4</th>\n",
       "      <td>201600000005</td>\n",
       "      <td>4.0</td>\n",
       "      <td>0</td>\n",
       "      <td>NaN</td>\n",
       "      <td>NaN</td>\n",
       "      <td>0.0</td>\n",
       "      <td>0.0</td>\n",
       "      <td>NaN</td>\n",
       "      <td>NaN</td>\n",
       "      <td>0.0</td>\n",
       "      <td>0.0</td>\n",
       "      <td>1.0</td>\n",
       "      <td>0.0</td>\n",
       "      <td>0.0</td>\n",
       "      <td>1.0</td>\n",
       "      <td>0.0</td>\n",
       "      <td>1.0</td>\n",
       "      <td>3.0</td>\n",
       "    </tr>\n",
       "    <tr>\n",
       "      <th>...</th>\n",
       "      <td>...</td>\n",
       "      <td>...</td>\n",
       "      <td>...</td>\n",
       "      <td>...</td>\n",
       "      <td>...</td>\n",
       "      <td>...</td>\n",
       "      <td>...</td>\n",
       "      <td>...</td>\n",
       "      <td>...</td>\n",
       "      <td>...</td>\n",
       "      <td>...</td>\n",
       "      <td>...</td>\n",
       "      <td>...</td>\n",
       "      <td>...</td>\n",
       "      <td>...</td>\n",
       "      <td>...</td>\n",
       "      <td>...</td>\n",
       "      <td>...</td>\n",
       "    </tr>\n",
       "    <tr>\n",
       "      <th>839980</th>\n",
       "      <td>200500087950</td>\n",
       "      <td>4.0</td>\n",
       "      <td>0.0</td>\n",
       "      <td>0.0</td>\n",
       "      <td>NaN</td>\n",
       "      <td>2.0</td>\n",
       "      <td>3.0</td>\n",
       "      <td>NaN</td>\n",
       "      <td>NaN</td>\n",
       "      <td>0.0</td>\n",
       "      <td>1.0</td>\n",
       "      <td>1.0</td>\n",
       "      <td>0.0</td>\n",
       "      <td>80.0</td>\n",
       "      <td>1.0</td>\n",
       "      <td>0.0</td>\n",
       "      <td>1.0</td>\n",
       "      <td>3.0</td>\n",
       "    </tr>\n",
       "    <tr>\n",
       "      <th>839981</th>\n",
       "      <td>200500087951</td>\n",
       "      <td>4.0</td>\n",
       "      <td>0.0</td>\n",
       "      <td>0.0</td>\n",
       "      <td>NaN</td>\n",
       "      <td>2.0</td>\n",
       "      <td>2.0</td>\n",
       "      <td>NaN</td>\n",
       "      <td>NaN</td>\n",
       "      <td>0.0</td>\n",
       "      <td>1.0</td>\n",
       "      <td>2.0</td>\n",
       "      <td>0.0</td>\n",
       "      <td>70.0</td>\n",
       "      <td>1.0</td>\n",
       "      <td>0.0</td>\n",
       "      <td>1.0</td>\n",
       "      <td>0.0</td>\n",
       "    </tr>\n",
       "    <tr>\n",
       "      <th>839982</th>\n",
       "      <td>200500087952</td>\n",
       "      <td>4.0</td>\n",
       "      <td>0.0</td>\n",
       "      <td>0.0</td>\n",
       "      <td>NaN</td>\n",
       "      <td>1.0</td>\n",
       "      <td>2.0</td>\n",
       "      <td>NaN</td>\n",
       "      <td>NaN</td>\n",
       "      <td>0.0</td>\n",
       "      <td>1.0</td>\n",
       "      <td>1.0</td>\n",
       "      <td>0.0</td>\n",
       "      <td>75.0</td>\n",
       "      <td>1.0</td>\n",
       "      <td>0.0</td>\n",
       "      <td>1.0</td>\n",
       "      <td>3.0</td>\n",
       "    </tr>\n",
       "    <tr>\n",
       "      <th>839983</th>\n",
       "      <td>200500087953</td>\n",
       "      <td>4.0</td>\n",
       "      <td>0.0</td>\n",
       "      <td>0.0</td>\n",
       "      <td>NaN</td>\n",
       "      <td>2.0</td>\n",
       "      <td>0.0</td>\n",
       "      <td>NaN</td>\n",
       "      <td>NaN</td>\n",
       "      <td>0.0</td>\n",
       "      <td>1.0</td>\n",
       "      <td>1.0</td>\n",
       "      <td>0.0</td>\n",
       "      <td>150.0</td>\n",
       "      <td>1.0</td>\n",
       "      <td>0.0</td>\n",
       "      <td>1.0</td>\n",
       "      <td>0.0</td>\n",
       "    </tr>\n",
       "    <tr>\n",
       "      <th>839984</th>\n",
       "      <td>200500087954</td>\n",
       "      <td>2.0</td>\n",
       "      <td>0.0</td>\n",
       "      <td>0.0</td>\n",
       "      <td>NaN</td>\n",
       "      <td>3.0</td>\n",
       "      <td>2.0</td>\n",
       "      <td>76.0</td>\n",
       "      <td>0.0</td>\n",
       "      <td>0.0</td>\n",
       "      <td>1.0</td>\n",
       "      <td>2.0</td>\n",
       "      <td>20.0</td>\n",
       "      <td>75.0</td>\n",
       "      <td>2.0</td>\n",
       "      <td>0.0</td>\n",
       "      <td>1.0</td>\n",
       "      <td>0.0</td>\n",
       "    </tr>\n",
       "  </tbody>\n",
       "</table>\n",
       "<p>839985 rows × 18 columns</p>\n",
       "</div>"
      ],
      "text/plain": [
       "             Num_Acc  catr voie   v1   v2  circ  nbv    pr  pr1  vosp  prof  \\\n",
       "0       201600000001   3.0   39  NaN  NaN   2.0  0.0   NaN  NaN   0.0   1.0   \n",
       "1       201600000002   3.0   39  NaN  NaN   1.0  0.0   NaN  NaN   0.0   1.0   \n",
       "2       201600000003   3.0    1  NaN  NaN   2.0  2.0   NaN  NaN   0.0   1.0   \n",
       "3       201600000004   4.0    0  NaN  NaN   2.0  0.0   NaN  NaN   0.0   1.0   \n",
       "4       201600000005   4.0    0  NaN  NaN   0.0  0.0   NaN  NaN   0.0   0.0   \n",
       "...              ...   ...  ...  ...  ...   ...  ...   ...  ...   ...   ...   \n",
       "839980  200500087950   4.0  0.0  0.0  NaN   2.0  3.0   NaN  NaN   0.0   1.0   \n",
       "839981  200500087951   4.0  0.0  0.0  NaN   2.0  2.0   NaN  NaN   0.0   1.0   \n",
       "839982  200500087952   4.0  0.0  0.0  NaN   1.0  2.0   NaN  NaN   0.0   1.0   \n",
       "839983  200500087953   4.0  0.0  0.0  NaN   2.0  0.0   NaN  NaN   0.0   1.0   \n",
       "839984  200500087954   2.0  0.0  0.0  NaN   3.0  2.0  76.0  0.0   0.0   1.0   \n",
       "\n",
       "        plan  lartpc  larrout  surf  infra  situ  env1  \n",
       "0        3.0     0.0      0.0   1.0    0.0   1.0   0.0  \n",
       "1        2.0     0.0     58.0   1.0    0.0   1.0   0.0  \n",
       "2        3.0     0.0     68.0   2.0    0.0   3.0  99.0  \n",
       "3        1.0     0.0      0.0   1.0    0.0   1.0  99.0  \n",
       "4        1.0     0.0      0.0   1.0    0.0   1.0   3.0  \n",
       "...      ...     ...      ...   ...    ...   ...   ...  \n",
       "839980   1.0     0.0     80.0   1.0    0.0   1.0   3.0  \n",
       "839981   2.0     0.0     70.0   1.0    0.0   1.0   0.0  \n",
       "839982   1.0     0.0     75.0   1.0    0.0   1.0   3.0  \n",
       "839983   1.0     0.0    150.0   1.0    0.0   1.0   0.0  \n",
       "839984   2.0    20.0     75.0   2.0    0.0   1.0   0.0  \n",
       "\n",
       "[839985 rows x 18 columns]"
      ]
     },
     "execution_count": 10,
     "metadata": {},
     "output_type": "execute_result"
    }
   ],
   "source": [
    "df_places"
   ]
  },
  {
   "cell_type": "code",
   "execution_count": 11,
   "id": "0e26ce3f",
   "metadata": {
    "execution": {
     "iopub.execute_input": "2022-08-29T12:39:31.994743Z",
     "iopub.status.busy": "2022-08-29T12:39:31.994225Z",
     "iopub.status.idle": "2022-08-29T12:39:32.098784Z",
     "shell.execute_reply": "2022-08-29T12:39:32.097557Z"
    },
    "papermill": {
     "duration": 0.139122,
     "end_time": "2022-08-29T12:39:32.101701",
     "exception": false,
     "start_time": "2022-08-29T12:39:31.962579",
     "status": "completed"
    },
    "tags": []
   },
   "outputs": [
    {
     "name": "stdout",
     "output_type": "stream",
     "text": [
      "<class 'pandas.core.frame.DataFrame'>\n",
      "RangeIndex: 839985 entries, 0 to 839984\n",
      "Data columns (total 18 columns):\n",
      " #   Column   Non-Null Count   Dtype  \n",
      "---  ------   --------------   -----  \n",
      " 0   Num_Acc  839985 non-null  int64  \n",
      " 1   catr     839984 non-null  float64\n",
      " 2   voie     780914 non-null  object \n",
      " 3   v1       332816 non-null  float64\n",
      " 4   v2       33953 non-null   object \n",
      " 5   circ     839187 non-null  float64\n",
      " 6   nbv      838195 non-null  float64\n",
      " 7   pr       414770 non-null  float64\n",
      " 8   pr1      413463 non-null  float64\n",
      " 9   vosp     838345 non-null  float64\n",
      " 10  prof     838924 non-null  float64\n",
      " 11  plan     838909 non-null  float64\n",
      " 12  lartpc   830440 non-null  float64\n",
      " 13  larrout  831706 non-null  float64\n",
      " 14  surf     838968 non-null  float64\n",
      " 15  infra    838707 non-null  float64\n",
      " 16  situ     838983 non-null  float64\n",
      " 17  env1     838709 non-null  float64\n",
      "dtypes: float64(15), int64(1), object(2)\n",
      "memory usage: 115.4+ MB\n"
     ]
    }
   ],
   "source": [
    "df_places.info()"
   ]
  },
  {
   "cell_type": "markdown",
   "id": "aec3ce73",
   "metadata": {
    "papermill": {
     "duration": 0.031444,
     "end_time": "2022-08-29T12:39:32.165224",
     "exception": false,
     "start_time": "2022-08-29T12:39:32.133780",
     "status": "completed"
    },
    "tags": []
   },
   "source": [
    "#### Compare nombre of accident \n",
    "in this case we remark that both \"Caracteristics\" and \"Places\" have the same number of accident.\n",
    "However \"Users\" had \"1876005\" accident , we conclude one user had more than one accident."
   ]
  },
  {
   "cell_type": "code",
   "execution_count": 12,
   "id": "7972b023",
   "metadata": {
    "execution": {
     "iopub.execute_input": "2022-08-29T12:39:32.227620Z",
     "iopub.status.busy": "2022-08-29T12:39:32.227124Z",
     "iopub.status.idle": "2022-08-29T12:39:32.235921Z",
     "shell.execute_reply": "2022-08-29T12:39:32.234703Z"
    },
    "papermill": {
     "duration": 0.042732,
     "end_time": "2022-08-29T12:39:32.238179",
     "exception": false,
     "start_time": "2022-08-29T12:39:32.195447",
     "status": "completed"
    },
    "tags": []
   },
   "outputs": [
    {
     "data": {
      "text/plain": [
       "839985"
      ]
     },
     "execution_count": 12,
     "metadata": {},
     "output_type": "execute_result"
    }
   ],
   "source": [
    "df_caracteristics[\"Num_Acc\"].count()"
   ]
  },
  {
   "cell_type": "code",
   "execution_count": 13,
   "id": "65e88067",
   "metadata": {
    "execution": {
     "iopub.execute_input": "2022-08-29T12:39:32.301270Z",
     "iopub.status.busy": "2022-08-29T12:39:32.300471Z",
     "iopub.status.idle": "2022-08-29T12:39:32.308411Z",
     "shell.execute_reply": "2022-08-29T12:39:32.307578Z"
    },
    "papermill": {
     "duration": 0.04208,
     "end_time": "2022-08-29T12:39:32.310572",
     "exception": false,
     "start_time": "2022-08-29T12:39:32.268492",
     "status": "completed"
    },
    "tags": []
   },
   "outputs": [
    {
     "data": {
      "text/plain": [
       "839985"
      ]
     },
     "execution_count": 13,
     "metadata": {},
     "output_type": "execute_result"
    }
   ],
   "source": [
    "df_places[\"Num_Acc\"].count()"
   ]
  },
  {
   "cell_type": "code",
   "execution_count": 14,
   "id": "97983ced",
   "metadata": {
    "execution": {
     "iopub.execute_input": "2022-08-29T12:39:32.373319Z",
     "iopub.status.busy": "2022-08-29T12:39:32.372462Z",
     "iopub.status.idle": "2022-08-29T12:39:32.382095Z",
     "shell.execute_reply": "2022-08-29T12:39:32.381338Z"
    },
    "papermill": {
     "duration": 0.043387,
     "end_time": "2022-08-29T12:39:32.384021",
     "exception": false,
     "start_time": "2022-08-29T12:39:32.340634",
     "status": "completed"
    },
    "tags": []
   },
   "outputs": [
    {
     "data": {
      "text/plain": [
       "1876005"
      ]
     },
     "execution_count": 14,
     "metadata": {},
     "output_type": "execute_result"
    }
   ],
   "source": [
    "df_users[\"Num_Acc\"].count()"
   ]
  },
  {
   "cell_type": "markdown",
   "id": "fb402cd3",
   "metadata": {
    "papermill": {
     "duration": 0.029506,
     "end_time": "2022-08-29T12:39:32.443463",
     "exception": false,
     "start_time": "2022-08-29T12:39:32.413957",
     "status": "completed"
    },
    "tags": []
   },
   "source": [
    "# Preprocessing\n",
    "Before chose module of machine learning we should drop useless column in this predict and clean data from Nan value and zero values."
   ]
  },
  {
   "cell_type": "markdown",
   "id": "8b65db93",
   "metadata": {
    "papermill": {
     "duration": 0.033171,
     "end_time": "2022-08-29T12:39:32.506236",
     "exception": false,
     "start_time": "2022-08-29T12:39:32.473065",
     "status": "completed"
    },
    "tags": []
   },
   "source": [
    "### 1- Caracteristics :"
   ]
  },
  {
   "cell_type": "code",
   "execution_count": 15,
   "id": "1bb135cc",
   "metadata": {
    "execution": {
     "iopub.execute_input": "2022-08-29T12:39:32.569847Z",
     "iopub.status.busy": "2022-08-29T12:39:32.568992Z",
     "iopub.status.idle": "2022-08-29T12:39:33.054754Z",
     "shell.execute_reply": "2022-08-29T12:39:33.053696Z"
    },
    "papermill": {
     "duration": 0.520776,
     "end_time": "2022-08-29T12:39:33.057937",
     "exception": false,
     "start_time": "2022-08-29T12:39:32.537161",
     "status": "completed"
    },
    "tags": []
   },
   "outputs": [
    {
     "data": {
      "text/html": [
       "<div>\n",
       "<style scoped>\n",
       "    .dataframe tbody tr th:only-of-type {\n",
       "        vertical-align: middle;\n",
       "    }\n",
       "\n",
       "    .dataframe tbody tr th {\n",
       "        vertical-align: top;\n",
       "    }\n",
       "\n",
       "    .dataframe thead th {\n",
       "        text-align: right;\n",
       "    }\n",
       "</style>\n",
       "<table border=\"1\" class=\"dataframe\">\n",
       "  <thead>\n",
       "    <tr style=\"text-align: right;\">\n",
       "      <th></th>\n",
       "      <th>Num_Acc</th>\n",
       "      <th>an</th>\n",
       "      <th>mois</th>\n",
       "      <th>jour</th>\n",
       "      <th>hrmn</th>\n",
       "      <th>lum</th>\n",
       "      <th>agg</th>\n",
       "      <th>int</th>\n",
       "      <th>atm</th>\n",
       "      <th>col</th>\n",
       "      <th>com</th>\n",
       "      <th>lat</th>\n",
       "      <th>dep</th>\n",
       "    </tr>\n",
       "  </thead>\n",
       "  <tbody>\n",
       "    <tr>\n",
       "      <th>count</th>\n",
       "      <td>8.399850e+05</td>\n",
       "      <td>839985.000000</td>\n",
       "      <td>839985.000000</td>\n",
       "      <td>839985.000000</td>\n",
       "      <td>839985.000000</td>\n",
       "      <td>839985.000000</td>\n",
       "      <td>839985.000000</td>\n",
       "      <td>839985.000000</td>\n",
       "      <td>839930.000000</td>\n",
       "      <td>839974.000000</td>\n",
       "      <td>839983.000000</td>\n",
       "      <td>3.624710e+05</td>\n",
       "      <td>839985.000000</td>\n",
       "    </tr>\n",
       "    <tr>\n",
       "      <th>mean</th>\n",
       "      <td>2.010011e+11</td>\n",
       "      <td>10.011129</td>\n",
       "      <td>6.679437</td>\n",
       "      <td>15.594687</td>\n",
       "      <td>1381.093505</td>\n",
       "      <td>1.912588</td>\n",
       "      <td>1.685924</td>\n",
       "      <td>1.694066</td>\n",
       "      <td>1.547116</td>\n",
       "      <td>4.187484</td>\n",
       "      <td>186.510172</td>\n",
       "      <td>2.849715e+06</td>\n",
       "      <td>564.257671</td>\n",
       "    </tr>\n",
       "    <tr>\n",
       "      <th>std</th>\n",
       "      <td>3.458009e+08</td>\n",
       "      <td>3.458059</td>\n",
       "      <td>3.389489</td>\n",
       "      <td>8.750201</td>\n",
       "      <td>540.757462</td>\n",
       "      <td>1.517900</td>\n",
       "      <td>0.464147</td>\n",
       "      <td>1.510792</td>\n",
       "      <td>1.587668</td>\n",
       "      <td>1.974998</td>\n",
       "      <td>171.873105</td>\n",
       "      <td>2.284591e+06</td>\n",
       "      <td>291.153083</td>\n",
       "    </tr>\n",
       "    <tr>\n",
       "      <th>min</th>\n",
       "      <td>2.005000e+11</td>\n",
       "      <td>5.000000</td>\n",
       "      <td>1.000000</td>\n",
       "      <td>1.000000</td>\n",
       "      <td>1.000000</td>\n",
       "      <td>1.000000</td>\n",
       "      <td>1.000000</td>\n",
       "      <td>0.000000</td>\n",
       "      <td>1.000000</td>\n",
       "      <td>1.000000</td>\n",
       "      <td>0.000000</td>\n",
       "      <td>0.000000e+00</td>\n",
       "      <td>10.000000</td>\n",
       "    </tr>\n",
       "    <tr>\n",
       "      <th>25%</th>\n",
       "      <td>2.007000e+11</td>\n",
       "      <td>7.000000</td>\n",
       "      <td>4.000000</td>\n",
       "      <td>8.000000</td>\n",
       "      <td>1000.000000</td>\n",
       "      <td>1.000000</td>\n",
       "      <td>1.000000</td>\n",
       "      <td>1.000000</td>\n",
       "      <td>1.000000</td>\n",
       "      <td>3.000000</td>\n",
       "      <td>55.000000</td>\n",
       "      <td>0.000000e+00</td>\n",
       "      <td>310.000000</td>\n",
       "    </tr>\n",
       "    <tr>\n",
       "      <th>50%</th>\n",
       "      <td>2.010000e+11</td>\n",
       "      <td>10.000000</td>\n",
       "      <td>7.000000</td>\n",
       "      <td>15.000000</td>\n",
       "      <td>1446.000000</td>\n",
       "      <td>1.000000</td>\n",
       "      <td>2.000000</td>\n",
       "      <td>1.000000</td>\n",
       "      <td>1.000000</td>\n",
       "      <td>3.000000</td>\n",
       "      <td>118.000000</td>\n",
       "      <td>4.370200e+06</td>\n",
       "      <td>630.000000</td>\n",
       "    </tr>\n",
       "    <tr>\n",
       "      <th>75%</th>\n",
       "      <td>2.013000e+11</td>\n",
       "      <td>13.000000</td>\n",
       "      <td>10.000000</td>\n",
       "      <td>23.000000</td>\n",
       "      <td>1810.000000</td>\n",
       "      <td>3.000000</td>\n",
       "      <td>2.000000</td>\n",
       "      <td>2.000000</td>\n",
       "      <td>1.000000</td>\n",
       "      <td>6.000000</td>\n",
       "      <td>278.000000</td>\n",
       "      <td>4.799218e+06</td>\n",
       "      <td>780.000000</td>\n",
       "    </tr>\n",
       "    <tr>\n",
       "      <th>max</th>\n",
       "      <td>2.016001e+11</td>\n",
       "      <td>16.000000</td>\n",
       "      <td>12.000000</td>\n",
       "      <td>31.000000</td>\n",
       "      <td>2359.000000</td>\n",
       "      <td>5.000000</td>\n",
       "      <td>2.000000</td>\n",
       "      <td>9.000000</td>\n",
       "      <td>9.000000</td>\n",
       "      <td>7.000000</td>\n",
       "      <td>987.000000</td>\n",
       "      <td>5.564823e+06</td>\n",
       "      <td>976.000000</td>\n",
       "    </tr>\n",
       "  </tbody>\n",
       "</table>\n",
       "</div>"
      ],
      "text/plain": [
       "            Num_Acc             an           mois           jour  \\\n",
       "count  8.399850e+05  839985.000000  839985.000000  839985.000000   \n",
       "mean   2.010011e+11      10.011129       6.679437      15.594687   \n",
       "std    3.458009e+08       3.458059       3.389489       8.750201   \n",
       "min    2.005000e+11       5.000000       1.000000       1.000000   \n",
       "25%    2.007000e+11       7.000000       4.000000       8.000000   \n",
       "50%    2.010000e+11      10.000000       7.000000      15.000000   \n",
       "75%    2.013000e+11      13.000000      10.000000      23.000000   \n",
       "max    2.016001e+11      16.000000      12.000000      31.000000   \n",
       "\n",
       "                hrmn            lum            agg            int  \\\n",
       "count  839985.000000  839985.000000  839985.000000  839985.000000   \n",
       "mean     1381.093505       1.912588       1.685924       1.694066   \n",
       "std       540.757462       1.517900       0.464147       1.510792   \n",
       "min         1.000000       1.000000       1.000000       0.000000   \n",
       "25%      1000.000000       1.000000       1.000000       1.000000   \n",
       "50%      1446.000000       1.000000       2.000000       1.000000   \n",
       "75%      1810.000000       3.000000       2.000000       2.000000   \n",
       "max      2359.000000       5.000000       2.000000       9.000000   \n",
       "\n",
       "                 atm            col            com           lat  \\\n",
       "count  839930.000000  839974.000000  839983.000000  3.624710e+05   \n",
       "mean        1.547116       4.187484     186.510172  2.849715e+06   \n",
       "std         1.587668       1.974998     171.873105  2.284591e+06   \n",
       "min         1.000000       1.000000       0.000000  0.000000e+00   \n",
       "25%         1.000000       3.000000      55.000000  0.000000e+00   \n",
       "50%         1.000000       3.000000     118.000000  4.370200e+06   \n",
       "75%         1.000000       6.000000     278.000000  4.799218e+06   \n",
       "max         9.000000       7.000000     987.000000  5.564823e+06   \n",
       "\n",
       "                 dep  \n",
       "count  839985.000000  \n",
       "mean      564.257671  \n",
       "std       291.153083  \n",
       "min        10.000000  \n",
       "25%       310.000000  \n",
       "50%       630.000000  \n",
       "75%       780.000000  \n",
       "max       976.000000  "
      ]
     },
     "execution_count": 15,
     "metadata": {},
     "output_type": "execute_result"
    }
   ],
   "source": [
    "df_caracteristics.describe()"
   ]
  },
  {
   "cell_type": "code",
   "execution_count": 16,
   "id": "efb80752",
   "metadata": {
    "execution": {
     "iopub.execute_input": "2022-08-29T12:39:33.121605Z",
     "iopub.status.busy": "2022-08-29T12:39:33.120756Z",
     "iopub.status.idle": "2022-08-29T12:39:33.163711Z",
     "shell.execute_reply": "2022-08-29T12:39:33.162505Z"
    },
    "papermill": {
     "duration": 0.077726,
     "end_time": "2022-08-29T12:39:33.166369",
     "exception": false,
     "start_time": "2022-08-29T12:39:33.088643",
     "status": "completed"
    },
    "tags": []
   },
   "outputs": [
    {
     "data": {
      "text/html": [
       "<div>\n",
       "<style scoped>\n",
       "    .dataframe tbody tr th:only-of-type {\n",
       "        vertical-align: middle;\n",
       "    }\n",
       "\n",
       "    .dataframe tbody tr th {\n",
       "        vertical-align: top;\n",
       "    }\n",
       "\n",
       "    .dataframe thead th {\n",
       "        text-align: right;\n",
       "    }\n",
       "</style>\n",
       "<table border=\"1\" class=\"dataframe\">\n",
       "  <thead>\n",
       "    <tr style=\"text-align: right;\">\n",
       "      <th></th>\n",
       "      <th>Num_Acc</th>\n",
       "      <th>an</th>\n",
       "      <th>mois</th>\n",
       "      <th>jour</th>\n",
       "      <th>hrmn</th>\n",
       "      <th>lum</th>\n",
       "      <th>int</th>\n",
       "      <th>atm</th>\n",
       "    </tr>\n",
       "  </thead>\n",
       "  <tbody>\n",
       "    <tr>\n",
       "      <th>0</th>\n",
       "      <td>201600000001</td>\n",
       "      <td>16</td>\n",
       "      <td>2</td>\n",
       "      <td>1</td>\n",
       "      <td>1445</td>\n",
       "      <td>1</td>\n",
       "      <td>1</td>\n",
       "      <td>8.0</td>\n",
       "    </tr>\n",
       "    <tr>\n",
       "      <th>1</th>\n",
       "      <td>201600000002</td>\n",
       "      <td>16</td>\n",
       "      <td>3</td>\n",
       "      <td>16</td>\n",
       "      <td>1800</td>\n",
       "      <td>1</td>\n",
       "      <td>6</td>\n",
       "      <td>1.0</td>\n",
       "    </tr>\n",
       "    <tr>\n",
       "      <th>2</th>\n",
       "      <td>201600000003</td>\n",
       "      <td>16</td>\n",
       "      <td>7</td>\n",
       "      <td>13</td>\n",
       "      <td>1900</td>\n",
       "      <td>1</td>\n",
       "      <td>1</td>\n",
       "      <td>1.0</td>\n",
       "    </tr>\n",
       "    <tr>\n",
       "      <th>3</th>\n",
       "      <td>201600000004</td>\n",
       "      <td>16</td>\n",
       "      <td>8</td>\n",
       "      <td>15</td>\n",
       "      <td>1930</td>\n",
       "      <td>2</td>\n",
       "      <td>1</td>\n",
       "      <td>7.0</td>\n",
       "    </tr>\n",
       "    <tr>\n",
       "      <th>4</th>\n",
       "      <td>201600000005</td>\n",
       "      <td>16</td>\n",
       "      <td>12</td>\n",
       "      <td>23</td>\n",
       "      <td>1100</td>\n",
       "      <td>1</td>\n",
       "      <td>3</td>\n",
       "      <td>1.0</td>\n",
       "    </tr>\n",
       "  </tbody>\n",
       "</table>\n",
       "</div>"
      ],
      "text/plain": [
       "        Num_Acc  an  mois  jour  hrmn  lum  int  atm\n",
       "0  201600000001  16     2     1  1445    1    1  8.0\n",
       "1  201600000002  16     3    16  1800    1    6  1.0\n",
       "2  201600000003  16     7    13  1900    1    1  1.0\n",
       "3  201600000004  16     8    15  1930    2    1  7.0\n",
       "4  201600000005  16    12    23  1100    1    3  1.0"
      ]
     },
     "execution_count": 16,
     "metadata": {},
     "output_type": "execute_result"
    }
   ],
   "source": [
    "df_caracteristics = df_caracteristics.drop([ \"col\", \"com\", \"adr\", \"gps\", \"lat\", \"long\", \"dep\", \"agg\"], axis=1)\n",
    "df_caracteristics.head()"
   ]
  },
  {
   "cell_type": "code",
   "execution_count": 17,
   "id": "e4a84f53",
   "metadata": {
    "execution": {
     "iopub.execute_input": "2022-08-29T12:39:33.231355Z",
     "iopub.status.busy": "2022-08-29T12:39:33.230120Z",
     "iopub.status.idle": "2022-08-29T12:39:33.251652Z",
     "shell.execute_reply": "2022-08-29T12:39:33.250475Z"
    },
    "papermill": {
     "duration": 0.056741,
     "end_time": "2022-08-29T12:39:33.254414",
     "exception": false,
     "start_time": "2022-08-29T12:39:33.197673",
     "status": "completed"
    },
    "tags": []
   },
   "outputs": [
    {
     "data": {
      "text/plain": [
       "Num_Acc     0\n",
       "an          0\n",
       "mois        0\n",
       "jour        0\n",
       "hrmn        0\n",
       "lum         0\n",
       "int         0\n",
       "atm        55\n",
       "dtype: int64"
      ]
     },
     "execution_count": 17,
     "metadata": {},
     "output_type": "execute_result"
    }
   ],
   "source": [
    "df_caracteristics.isna().sum()"
   ]
  },
  {
   "cell_type": "markdown",
   "id": "e46b4569",
   "metadata": {
    "papermill": {
     "duration": 0.030972,
     "end_time": "2022-08-29T12:39:33.316731",
     "exception": false,
     "start_time": "2022-08-29T12:39:33.285759",
     "status": "completed"
    },
    "tags": []
   },
   "source": [
    "##### 1-A- Clean \"atm\" column :"
   ]
  },
  {
   "cell_type": "code",
   "execution_count": 18,
   "id": "b431cade",
   "metadata": {
    "execution": {
     "iopub.execute_input": "2022-08-29T12:39:33.381509Z",
     "iopub.status.busy": "2022-08-29T12:39:33.380265Z",
     "iopub.status.idle": "2022-08-29T12:39:33.398594Z",
     "shell.execute_reply": "2022-08-29T12:39:33.397734Z"
    },
    "papermill": {
     "duration": 0.053051,
     "end_time": "2022-08-29T12:39:33.400770",
     "exception": false,
     "start_time": "2022-08-29T12:39:33.347719",
     "status": "completed"
    },
    "tags": []
   },
   "outputs": [
    {
     "data": {
      "text/plain": [
       "{nan, 1.0, 2.0, 3.0, 4.0, 5.0, 6.0, 7.0, 8.0, 9.0}"
      ]
     },
     "execution_count": 18,
     "metadata": {},
     "output_type": "execute_result"
    }
   ],
   "source": [
    "set(df_caracteristics[\"atm\"].unique())"
   ]
  },
  {
   "cell_type": "code",
   "execution_count": 19,
   "id": "344ee2ec",
   "metadata": {
    "execution": {
     "iopub.execute_input": "2022-08-29T12:39:33.466147Z",
     "iopub.status.busy": "2022-08-29T12:39:33.465343Z",
     "iopub.status.idle": "2022-08-29T12:39:33.527377Z",
     "shell.execute_reply": "2022-08-29T12:39:33.526376Z"
    },
    "papermill": {
     "duration": 0.097723,
     "end_time": "2022-08-29T12:39:33.529770",
     "exception": false,
     "start_time": "2022-08-29T12:39:33.432047",
     "status": "completed"
    },
    "tags": []
   },
   "outputs": [
    {
     "data": {
      "text/plain": [
       "0         8.0\n",
       "1         1.0\n",
       "2         1.0\n",
       "3         7.0\n",
       "4         1.0\n",
       "         ... \n",
       "839980    1.0\n",
       "839981    1.0\n",
       "839982    1.0\n",
       "839983    2.0\n",
       "839984    2.0\n",
       "Name: atm, Length: 839930, dtype: float64"
      ]
     },
     "execution_count": 19,
     "metadata": {},
     "output_type": "execute_result"
    }
   ],
   "source": [
    "df_caracteristics[~df_caracteristics[\"atm\"].isna()].atm"
   ]
  },
  {
   "cell_type": "code",
   "execution_count": 20,
   "id": "3bb26e25",
   "metadata": {
    "execution": {
     "iopub.execute_input": "2022-08-29T12:39:33.596255Z",
     "iopub.status.busy": "2022-08-29T12:39:33.595072Z",
     "iopub.status.idle": "2022-08-29T12:39:33.661803Z",
     "shell.execute_reply": "2022-08-29T12:39:33.660647Z"
    },
    "papermill": {
     "duration": 0.102499,
     "end_time": "2022-08-29T12:39:33.664269",
     "exception": false,
     "start_time": "2022-08-29T12:39:33.561770",
     "status": "completed"
    },
    "tags": []
   },
   "outputs": [
    {
     "data": {
      "text/plain": [
       "1.0"
      ]
     },
     "execution_count": 20,
     "metadata": {},
     "output_type": "execute_result"
    }
   ],
   "source": [
    "np.median(df_caracteristics[~df_caracteristics[\"atm\"].isna()].atm)"
   ]
  },
  {
   "cell_type": "markdown",
   "id": "1015bdb7",
   "metadata": {
    "papermill": {
     "duration": 0.03127,
     "end_time": "2022-08-29T12:39:33.727248",
     "exception": false,
     "start_time": "2022-08-29T12:39:33.695978",
     "status": "completed"
    },
    "tags": []
   },
   "source": [
    "after search median of \"atm\" column we can replace \"NaN\" value with value \"1\"."
   ]
  },
  {
   "cell_type": "code",
   "execution_count": 21,
   "id": "97c8a1eb",
   "metadata": {
    "execution": {
     "iopub.execute_input": "2022-08-29T12:39:33.793194Z",
     "iopub.status.busy": "2022-08-29T12:39:33.792451Z",
     "iopub.status.idle": "2022-08-29T12:39:33.807728Z",
     "shell.execute_reply": "2022-08-29T12:39:33.806606Z"
    },
    "papermill": {
     "duration": 0.052105,
     "end_time": "2022-08-29T12:39:33.810664",
     "exception": false,
     "start_time": "2022-08-29T12:39:33.758559",
     "status": "completed"
    },
    "tags": []
   },
   "outputs": [],
   "source": [
    "df_caracteristics[\"atm\"] = df_caracteristics[\"atm\"].replace(np.NaN, 1)"
   ]
  },
  {
   "cell_type": "code",
   "execution_count": 22,
   "id": "97d5ff0f",
   "metadata": {
    "execution": {
     "iopub.execute_input": "2022-08-29T12:39:33.876035Z",
     "iopub.status.busy": "2022-08-29T12:39:33.875575Z",
     "iopub.status.idle": "2022-08-29T12:39:33.886729Z",
     "shell.execute_reply": "2022-08-29T12:39:33.885636Z"
    },
    "papermill": {
     "duration": 0.047075,
     "end_time": "2022-08-29T12:39:33.889326",
     "exception": false,
     "start_time": "2022-08-29T12:39:33.842251",
     "status": "completed"
    },
    "tags": []
   },
   "outputs": [],
   "source": [
    "df_caracteristics[\"atm\"] = df_caracteristics[\"atm\"].astype(int)"
   ]
  },
  {
   "cell_type": "code",
   "execution_count": 23,
   "id": "5ed967d2",
   "metadata": {
    "execution": {
     "iopub.execute_input": "2022-08-29T12:39:33.955120Z",
     "iopub.status.busy": "2022-08-29T12:39:33.954654Z",
     "iopub.status.idle": "2022-08-29T12:39:33.967068Z",
     "shell.execute_reply": "2022-08-29T12:39:33.965828Z"
    },
    "papermill": {
     "duration": 0.048297,
     "end_time": "2022-08-29T12:39:33.969391",
     "exception": false,
     "start_time": "2022-08-29T12:39:33.921094",
     "status": "completed"
    },
    "tags": []
   },
   "outputs": [
    {
     "data": {
      "text/plain": [
       "{1, 2, 3, 4, 5, 6, 7, 8, 9}"
      ]
     },
     "execution_count": 23,
     "metadata": {},
     "output_type": "execute_result"
    }
   ],
   "source": [
    "set(df_caracteristics[\"atm\"].unique())"
   ]
  },
  {
   "cell_type": "code",
   "execution_count": 24,
   "id": "79b24dab",
   "metadata": {
    "execution": {
     "iopub.execute_input": "2022-08-29T12:39:34.035224Z",
     "iopub.status.busy": "2022-08-29T12:39:34.034015Z",
     "iopub.status.idle": "2022-08-29T12:39:34.044123Z",
     "shell.execute_reply": "2022-08-29T12:39:34.042998Z"
    },
    "papermill": {
     "duration": 0.0455,
     "end_time": "2022-08-29T12:39:34.046441",
     "exception": false,
     "start_time": "2022-08-29T12:39:34.000941",
     "status": "completed"
    },
    "tags": []
   },
   "outputs": [
    {
     "data": {
      "text/plain": [
       "0"
      ]
     },
     "execution_count": 24,
     "metadata": {},
     "output_type": "execute_result"
    }
   ],
   "source": [
    "df_caracteristics[\"atm\"].isna().sum()"
   ]
  },
  {
   "cell_type": "markdown",
   "id": "09b19d59",
   "metadata": {
    "papermill": {
     "duration": 0.031039,
     "end_time": "2022-08-29T12:39:34.109120",
     "exception": false,
     "start_time": "2022-08-29T12:39:34.078081",
     "status": "completed"
    },
    "tags": []
   },
   "source": [
    "##### 1-B-Clean \"int\" column :"
   ]
  },
  {
   "cell_type": "code",
   "execution_count": 25,
   "id": "d9511220",
   "metadata": {
    "execution": {
     "iopub.execute_input": "2022-08-29T12:39:34.174130Z",
     "iopub.status.busy": "2022-08-29T12:39:34.173221Z",
     "iopub.status.idle": "2022-08-29T12:39:34.182465Z",
     "shell.execute_reply": "2022-08-29T12:39:34.181640Z"
    },
    "papermill": {
     "duration": 0.044177,
     "end_time": "2022-08-29T12:39:34.184563",
     "exception": false,
     "start_time": "2022-08-29T12:39:34.140386",
     "status": "completed"
    },
    "tags": []
   },
   "outputs": [
    {
     "data": {
      "text/plain": [
       "0"
      ]
     },
     "execution_count": 25,
     "metadata": {},
     "output_type": "execute_result"
    }
   ],
   "source": [
    "df_caracteristics[\"int\"].isna().sum()"
   ]
  },
  {
   "cell_type": "code",
   "execution_count": 26,
   "id": "d54bdda9",
   "metadata": {
    "execution": {
     "iopub.execute_input": "2022-08-29T12:39:34.250847Z",
     "iopub.status.busy": "2022-08-29T12:39:34.250375Z",
     "iopub.status.idle": "2022-08-29T12:39:34.327963Z",
     "shell.execute_reply": "2022-08-29T12:39:34.326802Z"
    },
    "papermill": {
     "duration": 0.114126,
     "end_time": "2022-08-29T12:39:34.330598",
     "exception": false,
     "start_time": "2022-08-29T12:39:34.216472",
     "status": "completed"
    },
    "tags": []
   },
   "outputs": [
    {
     "data": {
      "text/plain": [
       "{0, 1, 2, 3, 4, 5, 6, 7, 8, 9}"
      ]
     },
     "execution_count": 26,
     "metadata": {},
     "output_type": "execute_result"
    }
   ],
   "source": [
    "set(df_caracteristics[\"int\"])"
   ]
  },
  {
   "cell_type": "markdown",
   "id": "879bbe32",
   "metadata": {
    "papermill": {
     "duration": 0.031808,
     "end_time": "2022-08-29T12:39:34.394078",
     "exception": false,
     "start_time": "2022-08-29T12:39:34.362270",
     "status": "completed"
    },
    "tags": []
   },
   "source": [
    "<p>Let's change values of type of intersection column to simplify choose.</p>                                                   <p>if we have 1 let's change it to 0 that mean Out of intersection and others number {2, 3, 4, 5, 6, 7, 8, 9} we change it to 1 In of intersection</p>"
   ]
  },
  {
   "cell_type": "code",
   "execution_count": 27,
   "id": "1a8fc578",
   "metadata": {
    "execution": {
     "iopub.execute_input": "2022-08-29T12:39:34.459509Z",
     "iopub.status.busy": "2022-08-29T12:39:34.459030Z",
     "iopub.status.idle": "2022-08-29T12:39:34.464633Z",
     "shell.execute_reply": "2022-08-29T12:39:34.463479Z"
    },
    "papermill": {
     "duration": 0.041039,
     "end_time": "2022-08-29T12:39:34.466938",
     "exception": false,
     "start_time": "2022-08-29T12:39:34.425899",
     "status": "completed"
    },
    "tags": []
   },
   "outputs": [],
   "source": [
    "def convert_int(x):\n",
    "    if x == 1:\n",
    "        return 0\n",
    "    else:\n",
    "        return 1"
   ]
  },
  {
   "cell_type": "code",
   "execution_count": 28,
   "id": "6fb630d6",
   "metadata": {
    "execution": {
     "iopub.execute_input": "2022-08-29T12:39:34.534729Z",
     "iopub.status.busy": "2022-08-29T12:39:34.533399Z",
     "iopub.status.idle": "2022-08-29T12:39:34.872509Z",
     "shell.execute_reply": "2022-08-29T12:39:34.871437Z"
    },
    "papermill": {
     "duration": 0.375387,
     "end_time": "2022-08-29T12:39:34.875468",
     "exception": false,
     "start_time": "2022-08-29T12:39:34.500081",
     "status": "completed"
    },
    "tags": []
   },
   "outputs": [],
   "source": [
    "df_caracteristics[\"int\"] = df_caracteristics[\"int\"].apply(convert_int)"
   ]
  },
  {
   "cell_type": "code",
   "execution_count": 29,
   "id": "32de38c2",
   "metadata": {
    "execution": {
     "iopub.execute_input": "2022-08-29T12:39:34.943301Z",
     "iopub.status.busy": "2022-08-29T12:39:34.942203Z",
     "iopub.status.idle": "2022-08-29T12:39:35.026496Z",
     "shell.execute_reply": "2022-08-29T12:39:35.025339Z"
    },
    "papermill": {
     "duration": 0.121324,
     "end_time": "2022-08-29T12:39:35.029117",
     "exception": false,
     "start_time": "2022-08-29T12:39:34.907793",
     "status": "completed"
    },
    "tags": []
   },
   "outputs": [
    {
     "data": {
      "text/plain": [
       "{0, 1}"
      ]
     },
     "execution_count": 29,
     "metadata": {},
     "output_type": "execute_result"
    }
   ],
   "source": [
    "set(df_caracteristics[\"int\"])"
   ]
  },
  {
   "cell_type": "code",
   "execution_count": 30,
   "id": "09411860",
   "metadata": {
    "execution": {
     "iopub.execute_input": "2022-08-29T12:39:35.096978Z",
     "iopub.status.busy": "2022-08-29T12:39:35.095843Z",
     "iopub.status.idle": "2022-08-29T12:39:35.405598Z",
     "shell.execute_reply": "2022-08-29T12:39:35.404377Z"
    },
    "papermill": {
     "duration": 0.346407,
     "end_time": "2022-08-29T12:39:35.408392",
     "exception": false,
     "start_time": "2022-08-29T12:39:35.061985",
     "status": "completed"
    },
    "tags": []
   },
   "outputs": [
    {
     "data": {
      "text/plain": [
       "<AxesSubplot:>"
      ]
     },
     "execution_count": 30,
     "metadata": {},
     "output_type": "execute_result"
    },
    {
     "data": {
      "image/png": "[encoded data removed]",
      "text/plain": [
       "<Figure size 432x288 with 1 Axes>"
      ]
     },
     "metadata": {
      "needs_background": "light"
     },
     "output_type": "display_data"
    }
   ],
   "source": [
    "df_caracteristics[\"int\"].hist()"
   ]
  },
  {
   "cell_type": "code",
   "execution_count": 31,
   "id": "537958c4",
   "metadata": {
    "execution": {
     "iopub.execute_input": "2022-08-29T12:39:35.475076Z",
     "iopub.status.busy": "2022-08-29T12:39:35.474607Z",
     "iopub.status.idle": "2022-08-29T12:39:35.510359Z",
     "shell.execute_reply": "2022-08-29T12:39:35.508889Z"
    },
    "papermill": {
     "duration": 0.072797,
     "end_time": "2022-08-29T12:39:35.513424",
     "exception": false,
     "start_time": "2022-08-29T12:39:35.440627",
     "status": "completed"
    },
    "tags": []
   },
   "outputs": [],
   "source": [
    "df_caracteristics[\"hrmn\"] = df_caracteristics[\"hrmn\"].div(100).apply(np.floor)"
   ]
  },
  {
   "cell_type": "code",
   "execution_count": 32,
   "id": "1a500a0d",
   "metadata": {
    "execution": {
     "iopub.execute_input": "2022-08-29T12:39:35.599474Z",
     "iopub.status.busy": "2022-08-29T12:39:35.598476Z",
     "iopub.status.idle": "2022-08-29T12:39:35.610682Z",
     "shell.execute_reply": "2022-08-29T12:39:35.609770Z"
    },
    "papermill": {
     "duration": 0.059489,
     "end_time": "2022-08-29T12:39:35.613299",
     "exception": false,
     "start_time": "2022-08-29T12:39:35.553810",
     "status": "completed"
    },
    "tags": []
   },
   "outputs": [],
   "source": [
    "df_caracteristics[\"hrmn\"] = df_caracteristics[\"hrmn\"].astype(int)"
   ]
  },
  {
   "cell_type": "code",
   "execution_count": 33,
   "id": "8ce17e0b",
   "metadata": {
    "execution": {
     "iopub.execute_input": "2022-08-29T12:39:35.685668Z",
     "iopub.status.busy": "2022-08-29T12:39:35.684911Z",
     "iopub.status.idle": "2022-08-29T12:39:35.943021Z",
     "shell.execute_reply": "2022-08-29T12:39:35.941710Z"
    },
    "papermill": {
     "duration": 0.295179,
     "end_time": "2022-08-29T12:39:35.945616",
     "exception": false,
     "start_time": "2022-08-29T12:39:35.650437",
     "status": "completed"
    },
    "tags": []
   },
   "outputs": [
    {
     "data": {
      "text/plain": [
       "<AxesSubplot:>"
      ]
     },
     "execution_count": 33,
     "metadata": {},
     "output_type": "execute_result"
    },
    {
     "data": {
      "image/png": "[encoded data removed]",
      "text/plain": [
       "<Figure size 432x288 with 1 Axes>"
      ]
     },
     "metadata": {
      "needs_background": "light"
     },
     "output_type": "display_data"
    }
   ],
   "source": [
    "df_caracteristics[\"hrmn\"].hist()"
   ]
  },
  {
   "cell_type": "code",
   "execution_count": 34,
   "id": "3f400156",
   "metadata": {
    "execution": {
     "iopub.execute_input": "2022-08-29T12:39:36.014184Z",
     "iopub.status.busy": "2022-08-29T12:39:36.013243Z",
     "iopub.status.idle": "2022-08-29T12:39:36.028827Z",
     "shell.execute_reply": "2022-08-29T12:39:36.027822Z"
    },
    "papermill": {
     "duration": 0.052173,
     "end_time": "2022-08-29T12:39:36.030907",
     "exception": false,
     "start_time": "2022-08-29T12:39:35.978734",
     "status": "completed"
    },
    "tags": []
   },
   "outputs": [
    {
     "data": {
      "text/html": [
       "<div>\n",
       "<style scoped>\n",
       "    .dataframe tbody tr th:only-of-type {\n",
       "        vertical-align: middle;\n",
       "    }\n",
       "\n",
       "    .dataframe tbody tr th {\n",
       "        vertical-align: top;\n",
       "    }\n",
       "\n",
       "    .dataframe thead th {\n",
       "        text-align: right;\n",
       "    }\n",
       "</style>\n",
       "<table border=\"1\" class=\"dataframe\">\n",
       "  <thead>\n",
       "    <tr style=\"text-align: right;\">\n",
       "      <th></th>\n",
       "      <th>Num_Acc</th>\n",
       "      <th>an</th>\n",
       "      <th>mois</th>\n",
       "      <th>jour</th>\n",
       "      <th>hrmn</th>\n",
       "      <th>lum</th>\n",
       "      <th>int</th>\n",
       "      <th>atm</th>\n",
       "    </tr>\n",
       "  </thead>\n",
       "  <tbody>\n",
       "    <tr>\n",
       "      <th>0</th>\n",
       "      <td>201600000001</td>\n",
       "      <td>16</td>\n",
       "      <td>2</td>\n",
       "      <td>1</td>\n",
       "      <td>14</td>\n",
       "      <td>1</td>\n",
       "      <td>0</td>\n",
       "      <td>8</td>\n",
       "    </tr>\n",
       "    <tr>\n",
       "      <th>1</th>\n",
       "      <td>201600000002</td>\n",
       "      <td>16</td>\n",
       "      <td>3</td>\n",
       "      <td>16</td>\n",
       "      <td>18</td>\n",
       "      <td>1</td>\n",
       "      <td>1</td>\n",
       "      <td>1</td>\n",
       "    </tr>\n",
       "    <tr>\n",
       "      <th>2</th>\n",
       "      <td>201600000003</td>\n",
       "      <td>16</td>\n",
       "      <td>7</td>\n",
       "      <td>13</td>\n",
       "      <td>19</td>\n",
       "      <td>1</td>\n",
       "      <td>0</td>\n",
       "      <td>1</td>\n",
       "    </tr>\n",
       "    <tr>\n",
       "      <th>3</th>\n",
       "      <td>201600000004</td>\n",
       "      <td>16</td>\n",
       "      <td>8</td>\n",
       "      <td>15</td>\n",
       "      <td>19</td>\n",
       "      <td>2</td>\n",
       "      <td>0</td>\n",
       "      <td>7</td>\n",
       "    </tr>\n",
       "    <tr>\n",
       "      <th>4</th>\n",
       "      <td>201600000005</td>\n",
       "      <td>16</td>\n",
       "      <td>12</td>\n",
       "      <td>23</td>\n",
       "      <td>11</td>\n",
       "      <td>1</td>\n",
       "      <td>1</td>\n",
       "      <td>1</td>\n",
       "    </tr>\n",
       "    <tr>\n",
       "      <th>...</th>\n",
       "      <td>...</td>\n",
       "      <td>...</td>\n",
       "      <td>...</td>\n",
       "      <td>...</td>\n",
       "      <td>...</td>\n",
       "      <td>...</td>\n",
       "      <td>...</td>\n",
       "      <td>...</td>\n",
       "    </tr>\n",
       "    <tr>\n",
       "      <th>839980</th>\n",
       "      <td>200500087950</td>\n",
       "      <td>5</td>\n",
       "      <td>12</td>\n",
       "      <td>21</td>\n",
       "      <td>20</td>\n",
       "      <td>5</td>\n",
       "      <td>1</td>\n",
       "      <td>1</td>\n",
       "    </tr>\n",
       "    <tr>\n",
       "      <th>839981</th>\n",
       "      <td>200500087951</td>\n",
       "      <td>5</td>\n",
       "      <td>12</td>\n",
       "      <td>23</td>\n",
       "      <td>10</td>\n",
       "      <td>1</td>\n",
       "      <td>0</td>\n",
       "      <td>1</td>\n",
       "    </tr>\n",
       "    <tr>\n",
       "      <th>839982</th>\n",
       "      <td>200500087952</td>\n",
       "      <td>5</td>\n",
       "      <td>12</td>\n",
       "      <td>26</td>\n",
       "      <td>17</td>\n",
       "      <td>1</td>\n",
       "      <td>1</td>\n",
       "      <td>1</td>\n",
       "    </tr>\n",
       "    <tr>\n",
       "      <th>839983</th>\n",
       "      <td>200500087953</td>\n",
       "      <td>5</td>\n",
       "      <td>12</td>\n",
       "      <td>27</td>\n",
       "      <td>15</td>\n",
       "      <td>1</td>\n",
       "      <td>1</td>\n",
       "      <td>2</td>\n",
       "    </tr>\n",
       "    <tr>\n",
       "      <th>839984</th>\n",
       "      <td>200500087954</td>\n",
       "      <td>5</td>\n",
       "      <td>12</td>\n",
       "      <td>31</td>\n",
       "      <td>21</td>\n",
       "      <td>5</td>\n",
       "      <td>0</td>\n",
       "      <td>2</td>\n",
       "    </tr>\n",
       "  </tbody>\n",
       "</table>\n",
       "<p>839985 rows × 8 columns</p>\n",
       "</div>"
      ],
      "text/plain": [
       "             Num_Acc  an  mois  jour  hrmn  lum  int  atm\n",
       "0       201600000001  16     2     1    14    1    0    8\n",
       "1       201600000002  16     3    16    18    1    1    1\n",
       "2       201600000003  16     7    13    19    1    0    1\n",
       "3       201600000004  16     8    15    19    2    0    7\n",
       "4       201600000005  16    12    23    11    1    1    1\n",
       "...              ...  ..   ...   ...   ...  ...  ...  ...\n",
       "839980  200500087950   5    12    21    20    5    1    1\n",
       "839981  200500087951   5    12    23    10    1    0    1\n",
       "839982  200500087952   5    12    26    17    1    1    1\n",
       "839983  200500087953   5    12    27    15    1    1    2\n",
       "839984  200500087954   5    12    31    21    5    0    2\n",
       "\n",
       "[839985 rows x 8 columns]"
      ]
     },
     "execution_count": 34,
     "metadata": {},
     "output_type": "execute_result"
    }
   ],
   "source": [
    "df_caracteristics"
   ]
  },
  {
   "cell_type": "markdown",
   "id": "37158da4",
   "metadata": {
    "papermill": {
     "duration": 0.032884,
     "end_time": "2022-08-29T12:39:36.097423",
     "exception": false,
     "start_time": "2022-08-29T12:39:36.064539",
     "status": "completed"
    },
    "tags": []
   },
   "source": [
    "### 2- Users :"
   ]
  },
  {
   "cell_type": "code",
   "execution_count": 35,
   "id": "a3de70f9",
   "metadata": {
    "execution": {
     "iopub.execute_input": "2022-08-29T12:39:36.165488Z",
     "iopub.status.busy": "2022-08-29T12:39:36.164958Z",
     "iopub.status.idle": "2022-08-29T12:39:37.151056Z",
     "shell.execute_reply": "2022-08-29T12:39:37.149833Z"
    },
    "papermill": {
     "duration": 1.022927,
     "end_time": "2022-08-29T12:39:37.153564",
     "exception": false,
     "start_time": "2022-08-29T12:39:36.130637",
     "status": "completed"
    },
    "tags": []
   },
   "outputs": [
    {
     "data": {
      "text/html": [
       "<div>\n",
       "<style scoped>\n",
       "    .dataframe tbody tr th:only-of-type {\n",
       "        vertical-align: middle;\n",
       "    }\n",
       "\n",
       "    .dataframe tbody tr th {\n",
       "        vertical-align: top;\n",
       "    }\n",
       "\n",
       "    .dataframe thead th {\n",
       "        text-align: right;\n",
       "    }\n",
       "</style>\n",
       "<table border=\"1\" class=\"dataframe\">\n",
       "  <thead>\n",
       "    <tr style=\"text-align: right;\">\n",
       "      <th></th>\n",
       "      <th>Num_Acc</th>\n",
       "      <th>place</th>\n",
       "      <th>catu</th>\n",
       "      <th>grav</th>\n",
       "      <th>sexe</th>\n",
       "      <th>trajet</th>\n",
       "      <th>secu</th>\n",
       "      <th>locp</th>\n",
       "      <th>actp</th>\n",
       "      <th>etatp</th>\n",
       "      <th>an_nais</th>\n",
       "    </tr>\n",
       "  </thead>\n",
       "  <tbody>\n",
       "    <tr>\n",
       "      <th>count</th>\n",
       "      <td>1.876005e+06</td>\n",
       "      <td>1.775639e+06</td>\n",
       "      <td>1.876005e+06</td>\n",
       "      <td>1.876005e+06</td>\n",
       "      <td>1.876005e+06</td>\n",
       "      <td>1.875636e+06</td>\n",
       "      <td>1.832547e+06</td>\n",
       "      <td>1.874341e+06</td>\n",
       "      <td>1.874232e+06</td>\n",
       "      <td>1.874299e+06</td>\n",
       "      <td>1.873654e+06</td>\n",
       "    </tr>\n",
       "    <tr>\n",
       "      <th>mean</th>\n",
       "      <td>2.009992e+11</td>\n",
       "      <td>1.283953e+00</td>\n",
       "      <td>1.341410e+00</td>\n",
       "      <td>2.513080e+00</td>\n",
       "      <td>1.328885e+00</td>\n",
       "      <td>3.075555e+00</td>\n",
       "      <td>1.822304e+01</td>\n",
       "      <td>2.242522e-01</td>\n",
       "      <td>2.762860e-01</td>\n",
       "      <td>1.023823e-01</td>\n",
       "      <td>1.972682e+03</td>\n",
       "    </tr>\n",
       "    <tr>\n",
       "      <th>std</th>\n",
       "      <td>3.464316e+08</td>\n",
       "      <td>9.058402e-01</td>\n",
       "      <td>6.334311e-01</td>\n",
       "      <td>1.332745e+00</td>\n",
       "      <td>4.698081e-01</td>\n",
       "      <td>2.676239e+00</td>\n",
       "      <td>1.977354e+01</td>\n",
       "      <td>8.722973e-01</td>\n",
       "      <td>1.051576e+00</td>\n",
       "      <td>3.800489e-01</td>\n",
       "      <td>1.834448e+01</td>\n",
       "    </tr>\n",
       "    <tr>\n",
       "      <th>min</th>\n",
       "      <td>2.005000e+11</td>\n",
       "      <td>0.000000e+00</td>\n",
       "      <td>1.000000e+00</td>\n",
       "      <td>1.000000e+00</td>\n",
       "      <td>1.000000e+00</td>\n",
       "      <td>0.000000e+00</td>\n",
       "      <td>0.000000e+00</td>\n",
       "      <td>0.000000e+00</td>\n",
       "      <td>0.000000e+00</td>\n",
       "      <td>0.000000e+00</td>\n",
       "      <td>1.896000e+03</td>\n",
       "    </tr>\n",
       "    <tr>\n",
       "      <th>25%</th>\n",
       "      <td>2.007000e+11</td>\n",
       "      <td>1.000000e+00</td>\n",
       "      <td>1.000000e+00</td>\n",
       "      <td>1.000000e+00</td>\n",
       "      <td>1.000000e+00</td>\n",
       "      <td>0.000000e+00</td>\n",
       "      <td>1.100000e+01</td>\n",
       "      <td>0.000000e+00</td>\n",
       "      <td>0.000000e+00</td>\n",
       "      <td>0.000000e+00</td>\n",
       "      <td>1.961000e+03</td>\n",
       "    </tr>\n",
       "    <tr>\n",
       "      <th>50%</th>\n",
       "      <td>2.010000e+11</td>\n",
       "      <td>1.000000e+00</td>\n",
       "      <td>1.000000e+00</td>\n",
       "      <td>3.000000e+00</td>\n",
       "      <td>1.000000e+00</td>\n",
       "      <td>4.000000e+00</td>\n",
       "      <td>1.100000e+01</td>\n",
       "      <td>0.000000e+00</td>\n",
       "      <td>0.000000e+00</td>\n",
       "      <td>0.000000e+00</td>\n",
       "      <td>1.976000e+03</td>\n",
       "    </tr>\n",
       "    <tr>\n",
       "      <th>75%</th>\n",
       "      <td>2.013000e+11</td>\n",
       "      <td>1.000000e+00</td>\n",
       "      <td>2.000000e+00</td>\n",
       "      <td>4.000000e+00</td>\n",
       "      <td>2.000000e+00</td>\n",
       "      <td>5.000000e+00</td>\n",
       "      <td>2.100000e+01</td>\n",
       "      <td>0.000000e+00</td>\n",
       "      <td>0.000000e+00</td>\n",
       "      <td>0.000000e+00</td>\n",
       "      <td>1.987000e+03</td>\n",
       "    </tr>\n",
       "    <tr>\n",
       "      <th>max</th>\n",
       "      <td>2.016001e+11</td>\n",
       "      <td>9.000000e+00</td>\n",
       "      <td>4.000000e+00</td>\n",
       "      <td>4.000000e+00</td>\n",
       "      <td>2.000000e+00</td>\n",
       "      <td>9.000000e+00</td>\n",
       "      <td>9.300000e+01</td>\n",
       "      <td>8.000000e+00</td>\n",
       "      <td>9.000000e+00</td>\n",
       "      <td>3.000000e+00</td>\n",
       "      <td>2.016000e+03</td>\n",
       "    </tr>\n",
       "  </tbody>\n",
       "</table>\n",
       "</div>"
      ],
      "text/plain": [
       "            Num_Acc         place          catu          grav          sexe  \\\n",
       "count  1.876005e+06  1.775639e+06  1.876005e+06  1.876005e+06  1.876005e+06   \n",
       "mean   2.009992e+11  1.283953e+00  1.341410e+00  2.513080e+00  1.328885e+00   \n",
       "std    3.464316e+08  9.058402e-01  6.334311e-01  1.332745e+00  4.698081e-01   \n",
       "min    2.005000e+11  0.000000e+00  1.000000e+00  1.000000e+00  1.000000e+00   \n",
       "25%    2.007000e+11  1.000000e+00  1.000000e+00  1.000000e+00  1.000000e+00   \n",
       "50%    2.010000e+11  1.000000e+00  1.000000e+00  3.000000e+00  1.000000e+00   \n",
       "75%    2.013000e+11  1.000000e+00  2.000000e+00  4.000000e+00  2.000000e+00   \n",
       "max    2.016001e+11  9.000000e+00  4.000000e+00  4.000000e+00  2.000000e+00   \n",
       "\n",
       "             trajet          secu          locp          actp         etatp  \\\n",
       "count  1.875636e+06  1.832547e+06  1.874341e+06  1.874232e+06  1.874299e+06   \n",
       "mean   3.075555e+00  1.822304e+01  2.242522e-01  2.762860e-01  1.023823e-01   \n",
       "std    2.676239e+00  1.977354e+01  8.722973e-01  1.051576e+00  3.800489e-01   \n",
       "min    0.000000e+00  0.000000e+00  0.000000e+00  0.000000e+00  0.000000e+00   \n",
       "25%    0.000000e+00  1.100000e+01  0.000000e+00  0.000000e+00  0.000000e+00   \n",
       "50%    4.000000e+00  1.100000e+01  0.000000e+00  0.000000e+00  0.000000e+00   \n",
       "75%    5.000000e+00  2.100000e+01  0.000000e+00  0.000000e+00  0.000000e+00   \n",
       "max    9.000000e+00  9.300000e+01  8.000000e+00  9.000000e+00  3.000000e+00   \n",
       "\n",
       "            an_nais  \n",
       "count  1.873654e+06  \n",
       "mean   1.972682e+03  \n",
       "std    1.834448e+01  \n",
       "min    1.896000e+03  \n",
       "25%    1.961000e+03  \n",
       "50%    1.976000e+03  \n",
       "75%    1.987000e+03  \n",
       "max    2.016000e+03  "
      ]
     },
     "execution_count": 35,
     "metadata": {},
     "output_type": "execute_result"
    }
   ],
   "source": [
    "df_users.describe()"
   ]
  },
  {
   "cell_type": "code",
   "execution_count": 36,
   "id": "dfad69ff",
   "metadata": {
    "execution": {
     "iopub.execute_input": "2022-08-29T12:39:37.223026Z",
     "iopub.status.busy": "2022-08-29T12:39:37.222171Z",
     "iopub.status.idle": "2022-08-29T12:39:37.243032Z",
     "shell.execute_reply": "2022-08-29T12:39:37.241868Z"
    },
    "papermill": {
     "duration": 0.057988,
     "end_time": "2022-08-29T12:39:37.245255",
     "exception": false,
     "start_time": "2022-08-29T12:39:37.187267",
     "status": "completed"
    },
    "tags": []
   },
   "outputs": [
    {
     "data": {
      "text/html": [
       "<div>\n",
       "<style scoped>\n",
       "    .dataframe tbody tr th:only-of-type {\n",
       "        vertical-align: middle;\n",
       "    }\n",
       "\n",
       "    .dataframe tbody tr th {\n",
       "        vertical-align: top;\n",
       "    }\n",
       "\n",
       "    .dataframe thead th {\n",
       "        text-align: right;\n",
       "    }\n",
       "</style>\n",
       "<table border=\"1\" class=\"dataframe\">\n",
       "  <thead>\n",
       "    <tr style=\"text-align: right;\">\n",
       "      <th></th>\n",
       "      <th>Num_Acc</th>\n",
       "      <th>grav</th>\n",
       "    </tr>\n",
       "  </thead>\n",
       "  <tbody>\n",
       "    <tr>\n",
       "      <th>0</th>\n",
       "      <td>201600000001</td>\n",
       "      <td>1</td>\n",
       "    </tr>\n",
       "    <tr>\n",
       "      <th>1</th>\n",
       "      <td>201600000001</td>\n",
       "      <td>3</td>\n",
       "    </tr>\n",
       "    <tr>\n",
       "      <th>2</th>\n",
       "      <td>201600000002</td>\n",
       "      <td>3</td>\n",
       "    </tr>\n",
       "    <tr>\n",
       "      <th>3</th>\n",
       "      <td>201600000002</td>\n",
       "      <td>3</td>\n",
       "    </tr>\n",
       "    <tr>\n",
       "      <th>4</th>\n",
       "      <td>201600000002</td>\n",
       "      <td>3</td>\n",
       "    </tr>\n",
       "  </tbody>\n",
       "</table>\n",
       "</div>"
      ],
      "text/plain": [
       "        Num_Acc  grav\n",
       "0  201600000001     1\n",
       "1  201600000001     3\n",
       "2  201600000002     3\n",
       "3  201600000002     3\n",
       "4  201600000002     3"
      ]
     },
     "execution_count": 36,
     "metadata": {},
     "output_type": "execute_result"
    }
   ],
   "source": [
    "df_users = df_users.drop([\"place\", \"catu\", \"sexe\", \"trajet\", \"secu\", \"locp\", \"actp\", \"etatp\", \"an_nais\", \"num_veh\"], axis = 1)\n",
    "df_users.head()"
   ]
  },
  {
   "cell_type": "code",
   "execution_count": 37,
   "id": "3c2a77ca",
   "metadata": {
    "execution": {
     "iopub.execute_input": "2022-08-29T12:39:37.314315Z",
     "iopub.status.busy": "2022-08-29T12:39:37.313790Z",
     "iopub.status.idle": "2022-08-29T12:39:37.324202Z",
     "shell.execute_reply": "2022-08-29T12:39:37.323431Z"
    },
    "papermill": {
     "duration": 0.047586,
     "end_time": "2022-08-29T12:39:37.326308",
     "exception": false,
     "start_time": "2022-08-29T12:39:37.278722",
     "status": "completed"
    },
    "tags": []
   },
   "outputs": [
    {
     "data": {
      "text/plain": [
       "0"
      ]
     },
     "execution_count": 37,
     "metadata": {},
     "output_type": "execute_result"
    }
   ],
   "source": [
    "df_users[\"grav\"].isna().sum()"
   ]
  },
  {
   "cell_type": "code",
   "execution_count": 38,
   "id": "f4ab42a1",
   "metadata": {
    "execution": {
     "iopub.execute_input": "2022-08-29T12:39:37.394889Z",
     "iopub.status.busy": "2022-08-29T12:39:37.394375Z",
     "iopub.status.idle": "2022-08-29T12:39:37.560760Z",
     "shell.execute_reply": "2022-08-29T12:39:37.559465Z"
    },
    "papermill": {
     "duration": 0.20361,
     "end_time": "2022-08-29T12:39:37.562937",
     "exception": false,
     "start_time": "2022-08-29T12:39:37.359327",
     "status": "completed"
    },
    "tags": []
   },
   "outputs": [
    {
     "data": {
      "text/plain": [
       "{1, 2, 3, 4}"
      ]
     },
     "execution_count": 38,
     "metadata": {},
     "output_type": "execute_result"
    }
   ],
   "source": [
    "set(df_users[\"grav\"])"
   ]
  },
  {
   "cell_type": "code",
   "execution_count": 39,
   "id": "08f834b9",
   "metadata": {
    "execution": {
     "iopub.execute_input": "2022-08-29T12:39:37.632855Z",
     "iopub.status.busy": "2022-08-29T12:39:37.632366Z",
     "iopub.status.idle": "2022-08-29T12:39:37.951191Z",
     "shell.execute_reply": "2022-08-29T12:39:37.950347Z"
    },
    "papermill": {
     "duration": 0.356618,
     "end_time": "2022-08-29T12:39:37.953508",
     "exception": false,
     "start_time": "2022-08-29T12:39:37.596890",
     "status": "completed"
    },
    "tags": []
   },
   "outputs": [
    {
     "data": {
      "text/plain": [
       "<AxesSubplot:>"
      ]
     },
     "execution_count": 39,
     "metadata": {},
     "output_type": "execute_result"
    },
    {
     "data": {
      "image/png": "[encoded data removed]",
      "text/plain": [
       "<Figure size 432x288 with 1 Axes>"
      ]
     },
     "metadata": {
      "needs_background": "light"
     },
     "output_type": "display_data"
    }
   ],
   "source": [
    "df_users[\"grav\"].hist()"
   ]
  },
  {
   "cell_type": "markdown",
   "id": "86cd2273",
   "metadata": {
    "papermill": {
     "duration": 0.033845,
     "end_time": "2022-08-29T12:39:38.114406",
     "exception": false,
     "start_time": "2022-08-29T12:39:38.080561",
     "status": "completed"
    },
    "tags": []
   },
   "source": [
    "<p>to simplify things we can change value of \"grav\" to 0 and 1</p>\n",
    "<p> 0 mean  No accident </p>\n",
    "<p> 1 mean accident </p>"
   ]
  },
  {
   "cell_type": "code",
   "execution_count": 40,
   "id": "645ce56a",
   "metadata": {
    "execution": {
     "iopub.execute_input": "2022-08-29T12:39:38.185388Z",
     "iopub.status.busy": "2022-08-29T12:39:38.183990Z",
     "iopub.status.idle": "2022-08-29T12:39:38.324698Z",
     "shell.execute_reply": "2022-08-29T12:39:38.323391Z"
    },
    "papermill": {
     "duration": 0.179268,
     "end_time": "2022-08-29T12:39:38.327732",
     "exception": false,
     "start_time": "2022-08-29T12:39:38.148464",
     "status": "completed"
    },
    "tags": []
   },
   "outputs": [],
   "source": [
    "df_users = df_users.replace(1,0)\n",
    "df_users = df_users.replace(4,0)\n",
    "df_users = df_users.replace(2,1)\n",
    "df_users = df_users.replace(3,1)"
   ]
  },
  {
   "cell_type": "code",
   "execution_count": 41,
   "id": "5273f253",
   "metadata": {
    "execution": {
     "iopub.execute_input": "2022-08-29T12:39:38.398141Z",
     "iopub.status.busy": "2022-08-29T12:39:38.397674Z",
     "iopub.status.idle": "2022-08-29T12:39:38.860187Z",
     "shell.execute_reply": "2022-08-29T12:39:38.859054Z"
    },
    "papermill": {
     "duration": 0.500802,
     "end_time": "2022-08-29T12:39:38.862874",
     "exception": false,
     "start_time": "2022-08-29T12:39:38.362072",
     "status": "completed"
    },
    "tags": []
   },
   "outputs": [
    {
     "data": {
      "text/plain": [
       "<AxesSubplot:>"
      ]
     },
     "execution_count": 41,
     "metadata": {},
     "output_type": "execute_result"
    },
    {
     "data": {
      "image/png": "[encoded data removed]",
      "text/plain": [
       "<Figure size 432x288 with 1 Axes>"
      ]
     },
     "metadata": {
      "needs_background": "light"
     },
     "output_type": "display_data"
    }
   ],
   "source": [
    "df_users = df_users.groupby(['Num_Acc'], as_index=False).max()\n",
    "df_users.grav.hist()"
   ]
  },
  {
   "cell_type": "code",
   "execution_count": 42,
   "id": "abdde9fd",
   "metadata": {
    "execution": {
     "iopub.execute_input": "2022-08-29T12:39:38.935226Z",
     "iopub.status.busy": "2022-08-29T12:39:38.934727Z",
     "iopub.status.idle": "2022-08-29T12:39:38.948060Z",
     "shell.execute_reply": "2022-08-29T12:39:38.946911Z"
    },
    "papermill": {
     "duration": 0.052053,
     "end_time": "2022-08-29T12:39:38.950509",
     "exception": false,
     "start_time": "2022-08-29T12:39:38.898456",
     "status": "completed"
    },
    "tags": []
   },
   "outputs": [
    {
     "data": {
      "text/plain": [
       "Num_Acc    839985\n",
       "grav       839985\n",
       "dtype: int64"
      ]
     },
     "execution_count": 42,
     "metadata": {},
     "output_type": "execute_result"
    }
   ],
   "source": [
    "df_users.count()"
   ]
  },
  {
   "cell_type": "code",
   "execution_count": 43,
   "id": "e3bac299",
   "metadata": {
    "execution": {
     "iopub.execute_input": "2022-08-29T12:39:39.024428Z",
     "iopub.status.busy": "2022-08-29T12:39:39.023591Z",
     "iopub.status.idle": "2022-08-29T12:39:39.034041Z",
     "shell.execute_reply": "2022-08-29T12:39:39.032933Z"
    },
    "papermill": {
     "duration": 0.050205,
     "end_time": "2022-08-29T12:39:39.036235",
     "exception": false,
     "start_time": "2022-08-29T12:39:38.986030",
     "status": "completed"
    },
    "tags": []
   },
   "outputs": [
    {
     "data": {
      "text/html": [
       "<div>\n",
       "<style scoped>\n",
       "    .dataframe tbody tr th:only-of-type {\n",
       "        vertical-align: middle;\n",
       "    }\n",
       "\n",
       "    .dataframe tbody tr th {\n",
       "        vertical-align: top;\n",
       "    }\n",
       "\n",
       "    .dataframe thead th {\n",
       "        text-align: right;\n",
       "    }\n",
       "</style>\n",
       "<table border=\"1\" class=\"dataframe\">\n",
       "  <thead>\n",
       "    <tr style=\"text-align: right;\">\n",
       "      <th></th>\n",
       "      <th>Num_Acc</th>\n",
       "      <th>grav</th>\n",
       "    </tr>\n",
       "  </thead>\n",
       "  <tbody>\n",
       "    <tr>\n",
       "      <th>0</th>\n",
       "      <td>200500000001</td>\n",
       "      <td>1</td>\n",
       "    </tr>\n",
       "    <tr>\n",
       "      <th>1</th>\n",
       "      <td>200500000002</td>\n",
       "      <td>1</td>\n",
       "    </tr>\n",
       "    <tr>\n",
       "      <th>2</th>\n",
       "      <td>200500000003</td>\n",
       "      <td>1</td>\n",
       "    </tr>\n",
       "    <tr>\n",
       "      <th>3</th>\n",
       "      <td>200500000004</td>\n",
       "      <td>1</td>\n",
       "    </tr>\n",
       "    <tr>\n",
       "      <th>4</th>\n",
       "      <td>200500000005</td>\n",
       "      <td>1</td>\n",
       "    </tr>\n",
       "  </tbody>\n",
       "</table>\n",
       "</div>"
      ],
      "text/plain": [
       "        Num_Acc  grav\n",
       "0  200500000001     1\n",
       "1  200500000002     1\n",
       "2  200500000003     1\n",
       "3  200500000004     1\n",
       "4  200500000005     1"
      ]
     },
     "execution_count": 43,
     "metadata": {},
     "output_type": "execute_result"
    }
   ],
   "source": [
    "df_users.head()"
   ]
  },
  {
   "cell_type": "markdown",
   "id": "1fde5d7f",
   "metadata": {
    "papermill": {
     "duration": 0.035435,
     "end_time": "2022-08-29T12:39:39.106384",
     "exception": false,
     "start_time": "2022-08-29T12:39:39.070949",
     "status": "completed"
    },
    "tags": []
   },
   "source": [
    "### 3- Places :"
   ]
  },
  {
   "cell_type": "code",
   "execution_count": 44,
   "id": "7bdd3769",
   "metadata": {
    "execution": {
     "iopub.execute_input": "2022-08-29T12:39:39.177397Z",
     "iopub.status.busy": "2022-08-29T12:39:39.176879Z",
     "iopub.status.idle": "2022-08-29T12:39:39.959386Z",
     "shell.execute_reply": "2022-08-29T12:39:39.958179Z"
    },
    "papermill": {
     "duration": 0.821106,
     "end_time": "2022-08-29T12:39:39.961945",
     "exception": false,
     "start_time": "2022-08-29T12:39:39.140839",
     "status": "completed"
    },
    "tags": []
   },
   "outputs": [
    {
     "data": {
      "text/html": [
       "<div>\n",
       "<style scoped>\n",
       "    .dataframe tbody tr th:only-of-type {\n",
       "        vertical-align: middle;\n",
       "    }\n",
       "\n",
       "    .dataframe tbody tr th {\n",
       "        vertical-align: top;\n",
       "    }\n",
       "\n",
       "    .dataframe thead th {\n",
       "        text-align: right;\n",
       "    }\n",
       "</style>\n",
       "<table border=\"1\" class=\"dataframe\">\n",
       "  <thead>\n",
       "    <tr style=\"text-align: right;\">\n",
       "      <th></th>\n",
       "      <th>Num_Acc</th>\n",
       "      <th>catr</th>\n",
       "      <th>v1</th>\n",
       "      <th>circ</th>\n",
       "      <th>nbv</th>\n",
       "      <th>pr</th>\n",
       "      <th>pr1</th>\n",
       "      <th>vosp</th>\n",
       "      <th>prof</th>\n",
       "      <th>plan</th>\n",
       "      <th>lartpc</th>\n",
       "      <th>larrout</th>\n",
       "      <th>surf</th>\n",
       "      <th>infra</th>\n",
       "      <th>situ</th>\n",
       "      <th>env1</th>\n",
       "    </tr>\n",
       "  </thead>\n",
       "  <tbody>\n",
       "    <tr>\n",
       "      <th>count</th>\n",
       "      <td>8.399850e+05</td>\n",
       "      <td>839984.000000</td>\n",
       "      <td>332816.000000</td>\n",
       "      <td>839187.000000</td>\n",
       "      <td>838195.000000</td>\n",
       "      <td>414770.000000</td>\n",
       "      <td>413463.000000</td>\n",
       "      <td>838345.000000</td>\n",
       "      <td>838924.000000</td>\n",
       "      <td>838909.000000</td>\n",
       "      <td>830440.000000</td>\n",
       "      <td>831706.000000</td>\n",
       "      <td>838968.000000</td>\n",
       "      <td>838707.000000</td>\n",
       "      <td>838983.000000</td>\n",
       "      <td>838709.000000</td>\n",
       "    </tr>\n",
       "    <tr>\n",
       "      <th>mean</th>\n",
       "      <td>2.010011e+11</td>\n",
       "      <td>3.418247</td>\n",
       "      <td>0.068575</td>\n",
       "      <td>1.855246</td>\n",
       "      <td>2.039593</td>\n",
       "      <td>109.701206</td>\n",
       "      <td>276.792763</td>\n",
       "      <td>0.130675</td>\n",
       "      <td>1.135474</td>\n",
       "      <td>1.198732</td>\n",
       "      <td>5.256996</td>\n",
       "      <td>58.389998</td>\n",
       "      <td>1.257012</td>\n",
       "      <td>0.438958</td>\n",
       "      <td>1.147201</td>\n",
       "      <td>37.916588</td>\n",
       "    </tr>\n",
       "    <tr>\n",
       "      <th>std</th>\n",
       "      <td>3.458009e+08</td>\n",
       "      <td>1.207917</td>\n",
       "      <td>0.567640</td>\n",
       "      <td>0.720949</td>\n",
       "      <td>1.550779</td>\n",
       "      <td>499.309309</td>\n",
       "      <td>357.941312</td>\n",
       "      <td>0.555434</td>\n",
       "      <td>0.620295</td>\n",
       "      <td>0.722200</td>\n",
       "      <td>21.801291</td>\n",
       "      <td>62.527755</td>\n",
       "      <td>0.954748</td>\n",
       "      <td>1.350905</td>\n",
       "      <td>0.722495</td>\n",
       "      <td>47.979898</td>\n",
       "    </tr>\n",
       "    <tr>\n",
       "      <th>min</th>\n",
       "      <td>2.005000e+11</td>\n",
       "      <td>1.000000</td>\n",
       "      <td>0.000000</td>\n",
       "      <td>0.000000</td>\n",
       "      <td>0.000000</td>\n",
       "      <td>0.000000</td>\n",
       "      <td>0.000000</td>\n",
       "      <td>0.000000</td>\n",
       "      <td>0.000000</td>\n",
       "      <td>0.000000</td>\n",
       "      <td>0.000000</td>\n",
       "      <td>-81.000000</td>\n",
       "      <td>0.000000</td>\n",
       "      <td>0.000000</td>\n",
       "      <td>0.000000</td>\n",
       "      <td>0.000000</td>\n",
       "    </tr>\n",
       "    <tr>\n",
       "      <th>25%</th>\n",
       "      <td>2.007000e+11</td>\n",
       "      <td>3.000000</td>\n",
       "      <td>0.000000</td>\n",
       "      <td>2.000000</td>\n",
       "      <td>2.000000</td>\n",
       "      <td>0.000000</td>\n",
       "      <td>0.000000</td>\n",
       "      <td>0.000000</td>\n",
       "      <td>1.000000</td>\n",
       "      <td>1.000000</td>\n",
       "      <td>0.000000</td>\n",
       "      <td>0.000000</td>\n",
       "      <td>1.000000</td>\n",
       "      <td>0.000000</td>\n",
       "      <td>1.000000</td>\n",
       "      <td>0.000000</td>\n",
       "    </tr>\n",
       "    <tr>\n",
       "      <th>50%</th>\n",
       "      <td>2.010000e+11</td>\n",
       "      <td>4.000000</td>\n",
       "      <td>0.000000</td>\n",
       "      <td>2.000000</td>\n",
       "      <td>2.000000</td>\n",
       "      <td>6.000000</td>\n",
       "      <td>100.000000</td>\n",
       "      <td>0.000000</td>\n",
       "      <td>1.000000</td>\n",
       "      <td>1.000000</td>\n",
       "      <td>0.000000</td>\n",
       "      <td>60.000000</td>\n",
       "      <td>1.000000</td>\n",
       "      <td>0.000000</td>\n",
       "      <td>1.000000</td>\n",
       "      <td>0.000000</td>\n",
       "    </tr>\n",
       "    <tr>\n",
       "      <th>75%</th>\n",
       "      <td>2.013000e+11</td>\n",
       "      <td>4.000000</td>\n",
       "      <td>0.000000</td>\n",
       "      <td>2.000000</td>\n",
       "      <td>2.000000</td>\n",
       "      <td>28.000000</td>\n",
       "      <td>500.000000</td>\n",
       "      <td>0.000000</td>\n",
       "      <td>1.000000</td>\n",
       "      <td>1.000000</td>\n",
       "      <td>0.000000</td>\n",
       "      <td>80.000000</td>\n",
       "      <td>1.000000</td>\n",
       "      <td>0.000000</td>\n",
       "      <td>1.000000</td>\n",
       "      <td>99.000000</td>\n",
       "    </tr>\n",
       "    <tr>\n",
       "      <th>max</th>\n",
       "      <td>2.016001e+11</td>\n",
       "      <td>9.000000</td>\n",
       "      <td>9.000000</td>\n",
       "      <td>4.000000</td>\n",
       "      <td>99.000000</td>\n",
       "      <td>9900.000000</td>\n",
       "      <td>9540.000000</td>\n",
       "      <td>3.000000</td>\n",
       "      <td>4.000000</td>\n",
       "      <td>4.000000</td>\n",
       "      <td>960.000000</td>\n",
       "      <td>999.000000</td>\n",
       "      <td>9.000000</td>\n",
       "      <td>7.000000</td>\n",
       "      <td>5.000000</td>\n",
       "      <td>99.000000</td>\n",
       "    </tr>\n",
       "  </tbody>\n",
       "</table>\n",
       "</div>"
      ],
      "text/plain": [
       "            Num_Acc           catr             v1           circ  \\\n",
       "count  8.399850e+05  839984.000000  332816.000000  839187.000000   \n",
       "mean   2.010011e+11       3.418247       0.068575       1.855246   \n",
       "std    3.458009e+08       1.207917       0.567640       0.720949   \n",
       "min    2.005000e+11       1.000000       0.000000       0.000000   \n",
       "25%    2.007000e+11       3.000000       0.000000       2.000000   \n",
       "50%    2.010000e+11       4.000000       0.000000       2.000000   \n",
       "75%    2.013000e+11       4.000000       0.000000       2.000000   \n",
       "max    2.016001e+11       9.000000       9.000000       4.000000   \n",
       "\n",
       "                 nbv             pr            pr1           vosp  \\\n",
       "count  838195.000000  414770.000000  413463.000000  838345.000000   \n",
       "mean        2.039593     109.701206     276.792763       0.130675   \n",
       "std         1.550779     499.309309     357.941312       0.555434   \n",
       "min         0.000000       0.000000       0.000000       0.000000   \n",
       "25%         2.000000       0.000000       0.000000       0.000000   \n",
       "50%         2.000000       6.000000     100.000000       0.000000   \n",
       "75%         2.000000      28.000000     500.000000       0.000000   \n",
       "max        99.000000    9900.000000    9540.000000       3.000000   \n",
       "\n",
       "                prof           plan         lartpc        larrout  \\\n",
       "count  838924.000000  838909.000000  830440.000000  831706.000000   \n",
       "mean        1.135474       1.198732       5.256996      58.389998   \n",
       "std         0.620295       0.722200      21.801291      62.527755   \n",
       "min         0.000000       0.000000       0.000000     -81.000000   \n",
       "25%         1.000000       1.000000       0.000000       0.000000   \n",
       "50%         1.000000       1.000000       0.000000      60.000000   \n",
       "75%         1.000000       1.000000       0.000000      80.000000   \n",
       "max         4.000000       4.000000     960.000000     999.000000   \n",
       "\n",
       "                surf          infra           situ           env1  \n",
       "count  838968.000000  838707.000000  838983.000000  838709.000000  \n",
       "mean        1.257012       0.438958       1.147201      37.916588  \n",
       "std         0.954748       1.350905       0.722495      47.979898  \n",
       "min         0.000000       0.000000       0.000000       0.000000  \n",
       "25%         1.000000       0.000000       1.000000       0.000000  \n",
       "50%         1.000000       0.000000       1.000000       0.000000  \n",
       "75%         1.000000       0.000000       1.000000      99.000000  \n",
       "max         9.000000       7.000000       5.000000      99.000000  "
      ]
     },
     "execution_count": 44,
     "metadata": {},
     "output_type": "execute_result"
    }
   ],
   "source": [
    "df_places.describe()"
   ]
  },
  {
   "cell_type": "code",
   "execution_count": 45,
   "id": "26f88241",
   "metadata": {
    "execution": {
     "iopub.execute_input": "2022-08-29T12:39:40.036151Z",
     "iopub.status.busy": "2022-08-29T12:39:40.035230Z",
     "iopub.status.idle": "2022-08-29T12:39:40.062576Z",
     "shell.execute_reply": "2022-08-29T12:39:40.061382Z"
    },
    "papermill": {
     "duration": 0.067318,
     "end_time": "2022-08-29T12:39:40.064928",
     "exception": false,
     "start_time": "2022-08-29T12:39:39.997610",
     "status": "completed"
    },
    "tags": []
   },
   "outputs": [
    {
     "data": {
      "text/html": [
       "<div>\n",
       "<style scoped>\n",
       "    .dataframe tbody tr th:only-of-type {\n",
       "        vertical-align: middle;\n",
       "    }\n",
       "\n",
       "    .dataframe tbody tr th {\n",
       "        vertical-align: top;\n",
       "    }\n",
       "\n",
       "    .dataframe thead th {\n",
       "        text-align: right;\n",
       "    }\n",
       "</style>\n",
       "<table border=\"1\" class=\"dataframe\">\n",
       "  <thead>\n",
       "    <tr style=\"text-align: right;\">\n",
       "      <th></th>\n",
       "      <th>Num_Acc</th>\n",
       "      <th>catr</th>\n",
       "      <th>circ</th>\n",
       "      <th>surf</th>\n",
       "      <th>infra</th>\n",
       "    </tr>\n",
       "  </thead>\n",
       "  <tbody>\n",
       "    <tr>\n",
       "      <th>0</th>\n",
       "      <td>201600000001</td>\n",
       "      <td>3.0</td>\n",
       "      <td>2.0</td>\n",
       "      <td>1.0</td>\n",
       "      <td>0.0</td>\n",
       "    </tr>\n",
       "    <tr>\n",
       "      <th>1</th>\n",
       "      <td>201600000002</td>\n",
       "      <td>3.0</td>\n",
       "      <td>1.0</td>\n",
       "      <td>1.0</td>\n",
       "      <td>0.0</td>\n",
       "    </tr>\n",
       "    <tr>\n",
       "      <th>2</th>\n",
       "      <td>201600000003</td>\n",
       "      <td>3.0</td>\n",
       "      <td>2.0</td>\n",
       "      <td>2.0</td>\n",
       "      <td>0.0</td>\n",
       "    </tr>\n",
       "    <tr>\n",
       "      <th>3</th>\n",
       "      <td>201600000004</td>\n",
       "      <td>4.0</td>\n",
       "      <td>2.0</td>\n",
       "      <td>1.0</td>\n",
       "      <td>0.0</td>\n",
       "    </tr>\n",
       "    <tr>\n",
       "      <th>4</th>\n",
       "      <td>201600000005</td>\n",
       "      <td>4.0</td>\n",
       "      <td>0.0</td>\n",
       "      <td>1.0</td>\n",
       "      <td>0.0</td>\n",
       "    </tr>\n",
       "  </tbody>\n",
       "</table>\n",
       "</div>"
      ],
      "text/plain": [
       "        Num_Acc  catr  circ  surf  infra\n",
       "0  201600000001   3.0   2.0   1.0    0.0\n",
       "1  201600000002   3.0   1.0   1.0    0.0\n",
       "2  201600000003   3.0   2.0   2.0    0.0\n",
       "3  201600000004   4.0   2.0   1.0    0.0\n",
       "4  201600000005   4.0   0.0   1.0    0.0"
      ]
     },
     "execution_count": 45,
     "metadata": {},
     "output_type": "execute_result"
    }
   ],
   "source": [
    "df_places = df_places.drop([\"v1\", \"voie\", \"v2\", \"pr\", \"pr1\", \"vosp\", \"prof\", \"plan\", \"lartpc\", \"larrout\", \"situ\", \"env1\", \"nbv\"], axis = 1)\n",
    "df_places.head()"
   ]
  },
  {
   "cell_type": "markdown",
   "id": "bc4476c4",
   "metadata": {
    "papermill": {
     "duration": 0.035908,
     "end_time": "2022-08-29T12:39:40.136902",
     "exception": false,
     "start_time": "2022-08-29T12:39:40.100994",
     "status": "completed"
    },
    "tags": []
   },
   "source": [
    "##### 3-A- Clean \"catr\" column :"
   ]
  },
  {
   "cell_type": "code",
   "execution_count": 46,
   "id": "63be0e1a",
   "metadata": {
    "execution": {
     "iopub.execute_input": "2022-08-29T12:39:40.210568Z",
     "iopub.status.busy": "2022-08-29T12:39:40.209250Z",
     "iopub.status.idle": "2022-08-29T12:39:40.228052Z",
     "shell.execute_reply": "2022-08-29T12:39:40.226857Z"
    },
    "papermill": {
     "duration": 0.057982,
     "end_time": "2022-08-29T12:39:40.230348",
     "exception": false,
     "start_time": "2022-08-29T12:39:40.172366",
     "status": "completed"
    },
    "tags": []
   },
   "outputs": [
    {
     "data": {
      "text/plain": [
       "{nan, 1.0, 2.0, 3.0, 4.0, 5.0, 6.0, 9.0}"
      ]
     },
     "execution_count": 46,
     "metadata": {},
     "output_type": "execute_result"
    }
   ],
   "source": [
    "set(df_places[\"catr\"].unique())"
   ]
  },
  {
   "cell_type": "code",
   "execution_count": 47,
   "id": "da7bbd3b",
   "metadata": {
    "execution": {
     "iopub.execute_input": "2022-08-29T12:39:40.303622Z",
     "iopub.status.busy": "2022-08-29T12:39:40.302490Z",
     "iopub.status.idle": "2022-08-29T12:39:40.312399Z",
     "shell.execute_reply": "2022-08-29T12:39:40.311331Z"
    },
    "papermill": {
     "duration": 0.048799,
     "end_time": "2022-08-29T12:39:40.314668",
     "exception": false,
     "start_time": "2022-08-29T12:39:40.265869",
     "status": "completed"
    },
    "tags": []
   },
   "outputs": [
    {
     "data": {
      "text/plain": [
       "1"
      ]
     },
     "execution_count": 47,
     "metadata": {},
     "output_type": "execute_result"
    }
   ],
   "source": [
    "df_places[\"catr\"].isna().sum()"
   ]
  },
  {
   "cell_type": "markdown",
   "id": "9888491f",
   "metadata": {
    "execution": {
     "iopub.execute_input": "2022-08-28T19:17:46.848894Z",
     "iopub.status.busy": "2022-08-28T19:17:46.848424Z",
     "iopub.status.idle": "2022-08-28T19:17:46.855695Z",
     "shell.execute_reply": "2022-08-28T19:17:46.854343Z",
     "shell.execute_reply.started": "2022-08-28T19:17:46.848854Z"
    },
    "papermill": {
     "duration": 0.035373,
     "end_time": "2022-08-29T12:39:40.386892",
     "exception": false,
     "start_time": "2022-08-29T12:39:40.351519",
     "status": "completed"
    },
    "tags": []
   },
   "source": [
    "we have one NaN value so we change it to value 9 mean other road "
   ]
  },
  {
   "cell_type": "code",
   "execution_count": 48,
   "id": "4ae383f2",
   "metadata": {
    "execution": {
     "iopub.execute_input": "2022-08-29T12:39:40.460456Z",
     "iopub.status.busy": "2022-08-29T12:39:40.459278Z",
     "iopub.status.idle": "2022-08-29T12:39:40.474306Z",
     "shell.execute_reply": "2022-08-29T12:39:40.473341Z"
    },
    "papermill": {
     "duration": 0.054939,
     "end_time": "2022-08-29T12:39:40.477005",
     "exception": false,
     "start_time": "2022-08-29T12:39:40.422066",
     "status": "completed"
    },
    "tags": []
   },
   "outputs": [],
   "source": [
    "df_places[\"catr\"] = df_places[\"catr\"].replace(np.NaN, 9)"
   ]
  },
  {
   "cell_type": "code",
   "execution_count": 49,
   "id": "a40d3ee0",
   "metadata": {
    "execution": {
     "iopub.execute_input": "2022-08-29T12:39:40.551672Z",
     "iopub.status.busy": "2022-08-29T12:39:40.550358Z",
     "iopub.status.idle": "2022-08-29T12:39:40.565492Z",
     "shell.execute_reply": "2022-08-29T12:39:40.564361Z"
    },
    "papermill": {
     "duration": 0.055584,
     "end_time": "2022-08-29T12:39:40.568542",
     "exception": false,
     "start_time": "2022-08-29T12:39:40.512958",
     "status": "completed"
    },
    "tags": []
   },
   "outputs": [],
   "source": [
    "df_places[\"catr\"] = df_places[\"catr\"].astype(int)"
   ]
  },
  {
   "cell_type": "code",
   "execution_count": 50,
   "id": "42b163b9",
   "metadata": {
    "execution": {
     "iopub.execute_input": "2022-08-29T12:39:40.642364Z",
     "iopub.status.busy": "2022-08-29T12:39:40.641956Z",
     "iopub.status.idle": "2022-08-29T12:39:40.653350Z",
     "shell.execute_reply": "2022-08-29T12:39:40.652482Z"
    },
    "papermill": {
     "duration": 0.05005,
     "end_time": "2022-08-29T12:39:40.655417",
     "exception": false,
     "start_time": "2022-08-29T12:39:40.605367",
     "status": "completed"
    },
    "tags": []
   },
   "outputs": [
    {
     "data": {
      "text/plain": [
       "{1, 2, 3, 4, 5, 6, 9}"
      ]
     },
     "execution_count": 50,
     "metadata": {},
     "output_type": "execute_result"
    }
   ],
   "source": [
    "set(df_places[\"catr\"].unique())"
   ]
  },
  {
   "cell_type": "markdown",
   "id": "de092346",
   "metadata": {
    "papermill": {
     "duration": 0.034285,
     "end_time": "2022-08-29T12:39:40.724453",
     "exception": false,
     "start_time": "2022-08-29T12:39:40.690168",
     "status": "completed"
    },
    "tags": []
   },
   "source": [
    "##### 3-B- Clean \"surf\" column : "
   ]
  },
  {
   "cell_type": "code",
   "execution_count": 51,
   "id": "b96b8a29",
   "metadata": {
    "execution": {
     "iopub.execute_input": "2022-08-29T12:39:40.795567Z",
     "iopub.status.busy": "2022-08-29T12:39:40.795103Z",
     "iopub.status.idle": "2022-08-29T12:39:40.811381Z",
     "shell.execute_reply": "2022-08-29T12:39:40.810581Z"
    },
    "papermill": {
     "duration": 0.054737,
     "end_time": "2022-08-29T12:39:40.813423",
     "exception": false,
     "start_time": "2022-08-29T12:39:40.758686",
     "status": "completed"
    },
    "tags": []
   },
   "outputs": [
    {
     "data": {
      "text/plain": [
       "{0.0, 1.0, 2.0, 3.0, 4.0, 5.0, 6.0, 7.0, 8.0, 9.0, nan}"
      ]
     },
     "execution_count": 51,
     "metadata": {},
     "output_type": "execute_result"
    }
   ],
   "source": [
    "set(df_places[\"surf\"].unique())"
   ]
  },
  {
   "cell_type": "code",
   "execution_count": 52,
   "id": "1bbed612",
   "metadata": {
    "execution": {
     "iopub.execute_input": "2022-08-29T12:39:40.885573Z",
     "iopub.status.busy": "2022-08-29T12:39:40.884744Z",
     "iopub.status.idle": "2022-08-29T12:39:40.944464Z",
     "shell.execute_reply": "2022-08-29T12:39:40.943462Z"
    },
    "papermill": {
     "duration": 0.099134,
     "end_time": "2022-08-29T12:39:40.946980",
     "exception": false,
     "start_time": "2022-08-29T12:39:40.847846",
     "status": "completed"
    },
    "tags": []
   },
   "outputs": [
    {
     "data": {
      "text/plain": [
       "1.0"
      ]
     },
     "execution_count": 52,
     "metadata": {},
     "output_type": "execute_result"
    }
   ],
   "source": [
    "np.median(df_places[~df_places[\"surf\"].isna()].surf)"
   ]
  },
  {
   "cell_type": "code",
   "execution_count": 53,
   "id": "4a8182dc",
   "metadata": {
    "execution": {
     "iopub.execute_input": "2022-08-29T12:39:41.021379Z",
     "iopub.status.busy": "2022-08-29T12:39:41.020120Z",
     "iopub.status.idle": "2022-08-29T12:39:41.031879Z",
     "shell.execute_reply": "2022-08-29T12:39:41.030707Z"
    },
    "papermill": {
     "duration": 0.051385,
     "end_time": "2022-08-29T12:39:41.034414",
     "exception": false,
     "start_time": "2022-08-29T12:39:40.983029",
     "status": "completed"
    },
    "tags": []
   },
   "outputs": [],
   "source": [
    "df_places[\"surf\"] = df_places[\"surf\"].fillna(1)"
   ]
  },
  {
   "cell_type": "code",
   "execution_count": 54,
   "id": "ce26d8f5",
   "metadata": {
    "execution": {
     "iopub.execute_input": "2022-08-29T12:39:41.108618Z",
     "iopub.status.busy": "2022-08-29T12:39:41.107884Z",
     "iopub.status.idle": "2022-08-29T12:39:41.118855Z",
     "shell.execute_reply": "2022-08-29T12:39:41.118013Z"
    },
    "papermill": {
     "duration": 0.050761,
     "end_time": "2022-08-29T12:39:41.121217",
     "exception": false,
     "start_time": "2022-08-29T12:39:41.070456",
     "status": "completed"
    },
    "tags": []
   },
   "outputs": [],
   "source": [
    "df_places[\"surf\"] = df_places[\"surf\"].replace(0, 1)"
   ]
  },
  {
   "cell_type": "code",
   "execution_count": 55,
   "id": "1b6bb03e",
   "metadata": {
    "execution": {
     "iopub.execute_input": "2022-08-29T12:39:41.195427Z",
     "iopub.status.busy": "2022-08-29T12:39:41.194994Z",
     "iopub.status.idle": "2022-08-29T12:39:41.207213Z",
     "shell.execute_reply": "2022-08-29T12:39:41.206422Z"
    },
    "papermill": {
     "duration": 0.052377,
     "end_time": "2022-08-29T12:39:41.209785",
     "exception": false,
     "start_time": "2022-08-29T12:39:41.157408",
     "status": "completed"
    },
    "tags": []
   },
   "outputs": [],
   "source": [
    "df_places[\"surf\"] = df_places[\"surf\"].astype(int)"
   ]
  },
  {
   "cell_type": "code",
   "execution_count": 56,
   "id": "2f11c543",
   "metadata": {
    "execution": {
     "iopub.execute_input": "2022-08-29T12:39:41.285969Z",
     "iopub.status.busy": "2022-08-29T12:39:41.285275Z",
     "iopub.status.idle": "2022-08-29T12:39:41.296985Z",
     "shell.execute_reply": "2022-08-29T12:39:41.296066Z"
    },
    "papermill": {
     "duration": 0.051121,
     "end_time": "2022-08-29T12:39:41.299219",
     "exception": false,
     "start_time": "2022-08-29T12:39:41.248098",
     "status": "completed"
    },
    "tags": []
   },
   "outputs": [
    {
     "data": {
      "text/plain": [
       "{1, 2, 3, 4, 5, 6, 7, 8, 9}"
      ]
     },
     "execution_count": 56,
     "metadata": {},
     "output_type": "execute_result"
    }
   ],
   "source": [
    "set(df_places[\"surf\"].unique())"
   ]
  },
  {
   "cell_type": "markdown",
   "id": "3011868d",
   "metadata": {
    "papermill": {
     "duration": 0.035879,
     "end_time": "2022-08-29T12:39:41.372285",
     "exception": false,
     "start_time": "2022-08-29T12:39:41.336406",
     "status": "completed"
    },
    "tags": []
   },
   "source": [
    "##### 3-C-Clean \"infra\" column : "
   ]
  },
  {
   "cell_type": "code",
   "execution_count": 57,
   "id": "17f2f0c6",
   "metadata": {
    "execution": {
     "iopub.execute_input": "2022-08-29T12:39:41.446674Z",
     "iopub.status.busy": "2022-08-29T12:39:41.445987Z",
     "iopub.status.idle": "2022-08-29T12:39:41.458141Z",
     "shell.execute_reply": "2022-08-29T12:39:41.457424Z"
    },
    "papermill": {
     "duration": 0.051613,
     "end_time": "2022-08-29T12:39:41.460111",
     "exception": false,
     "start_time": "2022-08-29T12:39:41.408498",
     "status": "completed"
    },
    "tags": []
   },
   "outputs": [
    {
     "data": {
      "text/plain": [
       "{0.0, 1.0, 2.0, 3.0, 4.0, 5.0, 6.0, 7.0, nan}"
      ]
     },
     "execution_count": 57,
     "metadata": {},
     "output_type": "execute_result"
    }
   ],
   "source": [
    "set(df_places[\"infra\"].unique())"
   ]
  },
  {
   "cell_type": "code",
   "execution_count": 58,
   "id": "9c18f7c4",
   "metadata": {
    "execution": {
     "iopub.execute_input": "2022-08-29T12:39:41.534394Z",
     "iopub.status.busy": "2022-08-29T12:39:41.533975Z",
     "iopub.status.idle": "2022-08-29T12:39:41.542509Z",
     "shell.execute_reply": "2022-08-29T12:39:41.541694Z"
    },
    "papermill": {
     "duration": 0.048444,
     "end_time": "2022-08-29T12:39:41.544563",
     "exception": false,
     "start_time": "2022-08-29T12:39:41.496119",
     "status": "completed"
    },
    "tags": []
   },
   "outputs": [
    {
     "data": {
      "text/plain": [
       "747965"
      ]
     },
     "execution_count": 58,
     "metadata": {},
     "output_type": "execute_result"
    }
   ],
   "source": [
    "(df_places[\"infra\"] == 0).sum()"
   ]
  },
  {
   "cell_type": "code",
   "execution_count": 59,
   "id": "c1e69699",
   "metadata": {
    "execution": {
     "iopub.execute_input": "2022-08-29T12:39:41.619410Z",
     "iopub.status.busy": "2022-08-29T12:39:41.618961Z",
     "iopub.status.idle": "2022-08-29T12:39:41.626988Z",
     "shell.execute_reply": "2022-08-29T12:39:41.626203Z"
    },
    "papermill": {
     "duration": 0.047923,
     "end_time": "2022-08-29T12:39:41.629008",
     "exception": false,
     "start_time": "2022-08-29T12:39:41.581085",
     "status": "completed"
    },
    "tags": []
   },
   "outputs": [
    {
     "data": {
      "text/plain": [
       "1278"
      ]
     },
     "execution_count": 59,
     "metadata": {},
     "output_type": "execute_result"
    }
   ],
   "source": [
    "df_places[\"infra\"].isna().sum()"
   ]
  },
  {
   "cell_type": "code",
   "execution_count": 60,
   "id": "8bf06060",
   "metadata": {
    "execution": {
     "iopub.execute_input": "2022-08-29T12:39:41.703921Z",
     "iopub.status.busy": "2022-08-29T12:39:41.703230Z",
     "iopub.status.idle": "2022-08-29T12:39:41.967760Z",
     "shell.execute_reply": "2022-08-29T12:39:41.966646Z"
    },
    "papermill": {
     "duration": 0.304849,
     "end_time": "2022-08-29T12:39:41.970214",
     "exception": false,
     "start_time": "2022-08-29T12:39:41.665365",
     "status": "completed"
    },
    "tags": []
   },
   "outputs": [
    {
     "data": {
      "text/plain": [
       "<AxesSubplot:>"
      ]
     },
     "execution_count": 60,
     "metadata": {},
     "output_type": "execute_result"
    },
    {
     "data": {
      "image/png": "[encoded data removed]",
      "text/plain": [
       "<Figure size 432x288 with 1 Axes>"
      ]
     },
     "metadata": {
      "needs_background": "light"
     },
     "output_type": "display_data"
    }
   ],
   "source": [
    "df_places[\"infra\"].hist()"
   ]
  },
  {
   "cell_type": "markdown",
   "id": "6a2dd6ae",
   "metadata": {
    "papermill": {
     "duration": 0.035343,
     "end_time": "2022-08-29T12:39:42.040851",
     "exception": false,
     "start_time": "2022-08-29T12:39:42.005508",
     "status": "completed"
    },
    "tags": []
   },
   "source": [
    "Remark we have several zero in this column so we drop it "
   ]
  },
  {
   "cell_type": "code",
   "execution_count": 61,
   "id": "93ab8946",
   "metadata": {
    "execution": {
     "iopub.execute_input": "2022-08-29T12:39:42.113706Z",
     "iopub.status.busy": "2022-08-29T12:39:42.112949Z",
     "iopub.status.idle": "2022-08-29T12:39:42.137595Z",
     "shell.execute_reply": "2022-08-29T12:39:42.136676Z"
    },
    "papermill": {
     "duration": 0.064019,
     "end_time": "2022-08-29T12:39:42.139768",
     "exception": false,
     "start_time": "2022-08-29T12:39:42.075749",
     "status": "completed"
    },
    "tags": []
   },
   "outputs": [],
   "source": [
    "df_places = df_places.drop([\"infra\"], axis = 1)"
   ]
  },
  {
   "cell_type": "markdown",
   "id": "557d4613",
   "metadata": {
    "papermill": {
     "duration": 0.035127,
     "end_time": "2022-08-29T12:39:42.210058",
     "exception": false,
     "start_time": "2022-08-29T12:39:42.174931",
     "status": "completed"
    },
    "tags": []
   },
   "source": [
    "#####  3-D- Clean \"circ\" column : "
   ]
  },
  {
   "cell_type": "code",
   "execution_count": 62,
   "id": "2b33f940",
   "metadata": {
    "execution": {
     "iopub.execute_input": "2022-08-29T12:39:42.282766Z",
     "iopub.status.busy": "2022-08-29T12:39:42.282015Z",
     "iopub.status.idle": "2022-08-29T12:39:42.298503Z",
     "shell.execute_reply": "2022-08-29T12:39:42.297701Z"
    },
    "papermill": {
     "duration": 0.055523,
     "end_time": "2022-08-29T12:39:42.300585",
     "exception": false,
     "start_time": "2022-08-29T12:39:42.245062",
     "status": "completed"
    },
    "tags": []
   },
   "outputs": [
    {
     "data": {
      "text/plain": [
       "{0.0, 1.0, 2.0, 3.0, 4.0, nan}"
      ]
     },
     "execution_count": 62,
     "metadata": {},
     "output_type": "execute_result"
    }
   ],
   "source": [
    "set(df_places[\"circ\"].unique())"
   ]
  },
  {
   "cell_type": "code",
   "execution_count": 63,
   "id": "e5422db4",
   "metadata": {
    "execution": {
     "iopub.execute_input": "2022-08-29T12:39:42.374217Z",
     "iopub.status.busy": "2022-08-29T12:39:42.373504Z",
     "iopub.status.idle": "2022-08-29T12:39:42.405970Z",
     "shell.execute_reply": "2022-08-29T12:39:42.404887Z"
    },
    "papermill": {
     "duration": 0.072229,
     "end_time": "2022-08-29T12:39:42.408345",
     "exception": false,
     "start_time": "2022-08-29T12:39:42.336116",
     "status": "completed"
    },
    "tags": []
   },
   "outputs": [
    {
     "data": {
      "text/plain": [
       "0         2.0\n",
       "1         1.0\n",
       "2         2.0\n",
       "3         2.0\n",
       "4         0.0\n",
       "         ... \n",
       "839980    2.0\n",
       "839981    2.0\n",
       "839982    1.0\n",
       "839983    2.0\n",
       "839984    3.0\n",
       "Name: circ, Length: 839187, dtype: float64"
      ]
     },
     "execution_count": 63,
     "metadata": {},
     "output_type": "execute_result"
    }
   ],
   "source": [
    "df_places[~df_places[\"circ\"].isnull()].circ"
   ]
  },
  {
   "cell_type": "code",
   "execution_count": 64,
   "id": "cddd8c5f",
   "metadata": {
    "execution": {
     "iopub.execute_input": "2022-08-29T12:39:42.482036Z",
     "iopub.status.busy": "2022-08-29T12:39:42.481251Z",
     "iopub.status.idle": "2022-08-29T12:39:42.522793Z",
     "shell.execute_reply": "2022-08-29T12:39:42.521579Z"
    },
    "papermill": {
     "duration": 0.08132,
     "end_time": "2022-08-29T12:39:42.525199",
     "exception": false,
     "start_time": "2022-08-29T12:39:42.443879",
     "status": "completed"
    },
    "tags": []
   },
   "outputs": [
    {
     "data": {
      "text/plain": [
       "2.0"
      ]
     },
     "execution_count": 64,
     "metadata": {},
     "output_type": "execute_result"
    }
   ],
   "source": [
    "np.median(df_places[~df_places[\"circ\"].isnull()].circ)"
   ]
  },
  {
   "cell_type": "code",
   "execution_count": 65,
   "id": "f891145e",
   "metadata": {
    "execution": {
     "iopub.execute_input": "2022-08-29T12:39:42.601556Z",
     "iopub.status.busy": "2022-08-29T12:39:42.600690Z",
     "iopub.status.idle": "2022-08-29T12:39:42.616050Z",
     "shell.execute_reply": "2022-08-29T12:39:42.615152Z"
    },
    "papermill": {
     "duration": 0.056563,
     "end_time": "2022-08-29T12:39:42.618752",
     "exception": false,
     "start_time": "2022-08-29T12:39:42.562189",
     "status": "completed"
    },
    "tags": []
   },
   "outputs": [],
   "source": [
    "df_places[\"circ\"] = df_places[\"circ\"].replace(np.NaN, 2)"
   ]
  },
  {
   "cell_type": "code",
   "execution_count": 66,
   "id": "b489003f",
   "metadata": {
    "execution": {
     "iopub.execute_input": "2022-08-29T12:39:42.695631Z",
     "iopub.status.busy": "2022-08-29T12:39:42.694794Z",
     "iopub.status.idle": "2022-08-29T12:39:42.710432Z",
     "shell.execute_reply": "2022-08-29T12:39:42.709515Z"
    },
    "papermill": {
     "duration": 0.057331,
     "end_time": "2022-08-29T12:39:42.713228",
     "exception": false,
     "start_time": "2022-08-29T12:39:42.655897",
     "status": "completed"
    },
    "tags": []
   },
   "outputs": [],
   "source": [
    "df_places[\"circ\"] = df_places[\"circ\"].replace(0, 2)"
   ]
  },
  {
   "cell_type": "code",
   "execution_count": 67,
   "id": "ee534539",
   "metadata": {
    "execution": {
     "iopub.execute_input": "2022-08-29T12:39:42.790341Z",
     "iopub.status.busy": "2022-08-29T12:39:42.789034Z",
     "iopub.status.idle": "2022-08-29T12:39:42.801406Z",
     "shell.execute_reply": "2022-08-29T12:39:42.800481Z"
    },
    "papermill": {
     "duration": 0.053661,
     "end_time": "2022-08-29T12:39:42.804119",
     "exception": false,
     "start_time": "2022-08-29T12:39:42.750458",
     "status": "completed"
    },
    "tags": []
   },
   "outputs": [],
   "source": [
    "df_places[\"circ\"] = df_places[\"circ\"].astype(int)"
   ]
  },
  {
   "cell_type": "code",
   "execution_count": 68,
   "id": "0f024d2e",
   "metadata": {
    "execution": {
     "iopub.execute_input": "2022-08-29T12:39:42.881685Z",
     "iopub.status.busy": "2022-08-29T12:39:42.880411Z",
     "iopub.status.idle": "2022-08-29T12:39:42.894055Z",
     "shell.execute_reply": "2022-08-29T12:39:42.892940Z"
    },
    "papermill": {
     "duration": 0.054995,
     "end_time": "2022-08-29T12:39:42.896345",
     "exception": false,
     "start_time": "2022-08-29T12:39:42.841350",
     "status": "completed"
    },
    "tags": []
   },
   "outputs": [
    {
     "data": {
      "text/plain": [
       "{1, 2, 3, 4}"
      ]
     },
     "execution_count": 68,
     "metadata": {},
     "output_type": "execute_result"
    }
   ],
   "source": [
    "set(df_places[\"circ\"].unique())"
   ]
  },
  {
   "cell_type": "code",
   "execution_count": 69,
   "id": "a31a6cc5",
   "metadata": {
    "execution": {
     "iopub.execute_input": "2022-08-29T12:39:42.973876Z",
     "iopub.status.busy": "2022-08-29T12:39:42.972663Z",
     "iopub.status.idle": "2022-08-29T12:39:43.232582Z",
     "shell.execute_reply": "2022-08-29T12:39:43.231672Z"
    },
    "papermill": {
     "duration": 0.30094,
     "end_time": "2022-08-29T12:39:43.234848",
     "exception": false,
     "start_time": "2022-08-29T12:39:42.933908",
     "status": "completed"
    },
    "tags": []
   },
   "outputs": [
    {
     "data": {
      "text/plain": [
       "<AxesSubplot:>"
      ]
     },
     "execution_count": 69,
     "metadata": {},
     "output_type": "execute_result"
    },
    {
     "data": {
      "image/png": "[encoded data removed]",
      "text/plain": [
       "<Figure size 432x288 with 1 Axes>"
      ]
     },
     "metadata": {
      "needs_background": "light"
     },
     "output_type": "display_data"
    }
   ],
   "source": [
    "df_places[\"circ\"].hist()"
   ]
  },
  {
   "cell_type": "markdown",
   "id": "35534e32",
   "metadata": {
    "papermill": {
     "duration": 0.038336,
     "end_time": "2022-08-29T12:39:43.311498",
     "exception": false,
     "start_time": "2022-08-29T12:39:43.273162",
     "status": "completed"
    },
    "tags": []
   },
   "source": [
    "# Merge Data "
   ]
  },
  {
   "cell_type": "markdown",
   "id": "ec375e1a",
   "metadata": {
    "papermill": {
     "duration": 0.037106,
     "end_time": "2022-08-29T12:39:43.386433",
     "exception": false,
     "start_time": "2022-08-29T12:39:43.349327",
     "status": "completed"
    },
    "tags": []
   },
   "source": [
    "<h3>merge caracteristics table with users table :<h3>"
   ]
  },
  {
   "cell_type": "code",
   "execution_count": 70,
   "id": "8869c0da",
   "metadata": {
    "execution": {
     "iopub.execute_input": "2022-08-29T12:39:43.464255Z",
     "iopub.status.busy": "2022-08-29T12:39:43.463564Z",
     "iopub.status.idle": "2022-08-29T12:39:44.288391Z",
     "shell.execute_reply": "2022-08-29T12:39:44.287531Z"
    },
    "papermill": {
     "duration": 0.866912,
     "end_time": "2022-08-29T12:39:44.291192",
     "exception": false,
     "start_time": "2022-08-29T12:39:43.424280",
     "status": "completed"
    },
    "tags": []
   },
   "outputs": [
    {
     "data": {
      "text/html": [
       "<div>\n",
       "<style scoped>\n",
       "    .dataframe tbody tr th:only-of-type {\n",
       "        vertical-align: middle;\n",
       "    }\n",
       "\n",
       "    .dataframe tbody tr th {\n",
       "        vertical-align: top;\n",
       "    }\n",
       "\n",
       "    .dataframe thead th {\n",
       "        text-align: right;\n",
       "    }\n",
       "</style>\n",
       "<table border=\"1\" class=\"dataframe\">\n",
       "  <thead>\n",
       "    <tr style=\"text-align: right;\">\n",
       "      <th></th>\n",
       "      <th>Num_Acc</th>\n",
       "      <th>an</th>\n",
       "      <th>mois</th>\n",
       "      <th>jour</th>\n",
       "      <th>hrmn</th>\n",
       "      <th>lum</th>\n",
       "      <th>int</th>\n",
       "      <th>atm</th>\n",
       "      <th>catr</th>\n",
       "      <th>circ</th>\n",
       "      <th>surf</th>\n",
       "    </tr>\n",
       "  </thead>\n",
       "  <tbody>\n",
       "    <tr>\n",
       "      <th>count</th>\n",
       "      <td>8.399850e+05</td>\n",
       "      <td>839985.000000</td>\n",
       "      <td>839985.000000</td>\n",
       "      <td>839985.000000</td>\n",
       "      <td>839985.000000</td>\n",
       "      <td>839985.000000</td>\n",
       "      <td>839985.000000</td>\n",
       "      <td>839985.000000</td>\n",
       "      <td>839985.000000</td>\n",
       "      <td>839985.000000</td>\n",
       "      <td>839985.000000</td>\n",
       "    </tr>\n",
       "    <tr>\n",
       "      <th>mean</th>\n",
       "      <td>2.010011e+11</td>\n",
       "      <td>10.011129</td>\n",
       "      <td>6.679437</td>\n",
       "      <td>15.594687</td>\n",
       "      <td>13.559365</td>\n",
       "      <td>1.912588</td>\n",
       "      <td>0.286116</td>\n",
       "      <td>1.547080</td>\n",
       "      <td>3.418254</td>\n",
       "      <td>1.961471</td>\n",
       "      <td>1.288842</td>\n",
       "    </tr>\n",
       "    <tr>\n",
       "      <th>std</th>\n",
       "      <td>3.458009e+08</td>\n",
       "      <td>3.458059</td>\n",
       "      <td>3.389489</td>\n",
       "      <td>8.750201</td>\n",
       "      <td>5.411096</td>\n",
       "      <td>1.517900</td>\n",
       "      <td>0.451944</td>\n",
       "      <td>1.587622</td>\n",
       "      <td>1.207931</td>\n",
       "      <td>0.571444</td>\n",
       "      <td>0.927817</td>\n",
       "    </tr>\n",
       "    <tr>\n",
       "      <th>min</th>\n",
       "      <td>2.005000e+11</td>\n",
       "      <td>5.000000</td>\n",
       "      <td>1.000000</td>\n",
       "      <td>1.000000</td>\n",
       "      <td>0.000000</td>\n",
       "      <td>1.000000</td>\n",
       "      <td>0.000000</td>\n",
       "      <td>1.000000</td>\n",
       "      <td>1.000000</td>\n",
       "      <td>1.000000</td>\n",
       "      <td>1.000000</td>\n",
       "    </tr>\n",
       "    <tr>\n",
       "      <th>25%</th>\n",
       "      <td>2.007000e+11</td>\n",
       "      <td>7.000000</td>\n",
       "      <td>4.000000</td>\n",
       "      <td>8.000000</td>\n",
       "      <td>10.000000</td>\n",
       "      <td>1.000000</td>\n",
       "      <td>0.000000</td>\n",
       "      <td>1.000000</td>\n",
       "      <td>3.000000</td>\n",
       "      <td>2.000000</td>\n",
       "      <td>1.000000</td>\n",
       "    </tr>\n",
       "    <tr>\n",
       "      <th>50%</th>\n",
       "      <td>2.010000e+11</td>\n",
       "      <td>10.000000</td>\n",
       "      <td>7.000000</td>\n",
       "      <td>15.000000</td>\n",
       "      <td>14.000000</td>\n",
       "      <td>1.000000</td>\n",
       "      <td>0.000000</td>\n",
       "      <td>1.000000</td>\n",
       "      <td>4.000000</td>\n",
       "      <td>2.000000</td>\n",
       "      <td>1.000000</td>\n",
       "    </tr>\n",
       "    <tr>\n",
       "      <th>75%</th>\n",
       "      <td>2.013000e+11</td>\n",
       "      <td>13.000000</td>\n",
       "      <td>10.000000</td>\n",
       "      <td>23.000000</td>\n",
       "      <td>18.000000</td>\n",
       "      <td>3.000000</td>\n",
       "      <td>1.000000</td>\n",
       "      <td>1.000000</td>\n",
       "      <td>4.000000</td>\n",
       "      <td>2.000000</td>\n",
       "      <td>1.000000</td>\n",
       "    </tr>\n",
       "    <tr>\n",
       "      <th>max</th>\n",
       "      <td>2.016001e+11</td>\n",
       "      <td>16.000000</td>\n",
       "      <td>12.000000</td>\n",
       "      <td>31.000000</td>\n",
       "      <td>23.000000</td>\n",
       "      <td>5.000000</td>\n",
       "      <td>1.000000</td>\n",
       "      <td>9.000000</td>\n",
       "      <td>9.000000</td>\n",
       "      <td>4.000000</td>\n",
       "      <td>9.000000</td>\n",
       "    </tr>\n",
       "  </tbody>\n",
       "</table>\n",
       "</div>"
      ],
      "text/plain": [
       "            Num_Acc             an           mois           jour  \\\n",
       "count  8.399850e+05  839985.000000  839985.000000  839985.000000   \n",
       "mean   2.010011e+11      10.011129       6.679437      15.594687   \n",
       "std    3.458009e+08       3.458059       3.389489       8.750201   \n",
       "min    2.005000e+11       5.000000       1.000000       1.000000   \n",
       "25%    2.007000e+11       7.000000       4.000000       8.000000   \n",
       "50%    2.010000e+11      10.000000       7.000000      15.000000   \n",
       "75%    2.013000e+11      13.000000      10.000000      23.000000   \n",
       "max    2.016001e+11      16.000000      12.000000      31.000000   \n",
       "\n",
       "                hrmn            lum            int            atm  \\\n",
       "count  839985.000000  839985.000000  839985.000000  839985.000000   \n",
       "mean       13.559365       1.912588       0.286116       1.547080   \n",
       "std         5.411096       1.517900       0.451944       1.587622   \n",
       "min         0.000000       1.000000       0.000000       1.000000   \n",
       "25%        10.000000       1.000000       0.000000       1.000000   \n",
       "50%        14.000000       1.000000       0.000000       1.000000   \n",
       "75%        18.000000       3.000000       1.000000       1.000000   \n",
       "max        23.000000       5.000000       1.000000       9.000000   \n",
       "\n",
       "                catr           circ           surf  \n",
       "count  839985.000000  839985.000000  839985.000000  \n",
       "mean        3.418254       1.961471       1.288842  \n",
       "std         1.207931       0.571444       0.927817  \n",
       "min         1.000000       1.000000       1.000000  \n",
       "25%         3.000000       2.000000       1.000000  \n",
       "50%         4.000000       2.000000       1.000000  \n",
       "75%         4.000000       2.000000       1.000000  \n",
       "max         9.000000       4.000000       9.000000  "
      ]
     },
     "execution_count": 70,
     "metadata": {},
     "output_type": "execute_result"
    }
   ],
   "source": [
    "datamerge = pd.merge(df_caracteristics, df_places, how=\"outer\", on=\"Num_Acc\")\n",
    "datamerge.describe()"
   ]
  },
  {
   "cell_type": "code",
   "execution_count": 71,
   "id": "12b6757c",
   "metadata": {
    "execution": {
     "iopub.execute_input": "2022-08-29T12:39:44.373188Z",
     "iopub.status.busy": "2022-08-29T12:39:44.372405Z",
     "iopub.status.idle": "2022-08-29T12:39:45.190999Z",
     "shell.execute_reply": "2022-08-29T12:39:45.190078Z"
    },
    "papermill": {
     "duration": 0.862794,
     "end_time": "2022-08-29T12:39:45.193485",
     "exception": false,
     "start_time": "2022-08-29T12:39:44.330691",
     "status": "completed"
    },
    "tags": []
   },
   "outputs": [
    {
     "data": {
      "text/html": [
       "<div>\n",
       "<style scoped>\n",
       "    .dataframe tbody tr th:only-of-type {\n",
       "        vertical-align: middle;\n",
       "    }\n",
       "\n",
       "    .dataframe tbody tr th {\n",
       "        vertical-align: top;\n",
       "    }\n",
       "\n",
       "    .dataframe thead th {\n",
       "        text-align: right;\n",
       "    }\n",
       "</style>\n",
       "<table border=\"1\" class=\"dataframe\">\n",
       "  <thead>\n",
       "    <tr style=\"text-align: right;\">\n",
       "      <th></th>\n",
       "      <th>Num_Acc</th>\n",
       "      <th>an</th>\n",
       "      <th>mois</th>\n",
       "      <th>jour</th>\n",
       "      <th>hrmn</th>\n",
       "      <th>lum</th>\n",
       "      <th>int</th>\n",
       "      <th>atm</th>\n",
       "      <th>catr</th>\n",
       "      <th>circ</th>\n",
       "      <th>surf</th>\n",
       "      <th>grav</th>\n",
       "    </tr>\n",
       "  </thead>\n",
       "  <tbody>\n",
       "    <tr>\n",
       "      <th>count</th>\n",
       "      <td>8.399850e+05</td>\n",
       "      <td>839985.000000</td>\n",
       "      <td>839985.000000</td>\n",
       "      <td>839985.000000</td>\n",
       "      <td>839985.000000</td>\n",
       "      <td>839985.000000</td>\n",
       "      <td>839985.000000</td>\n",
       "      <td>839985.000000</td>\n",
       "      <td>839985.000000</td>\n",
       "      <td>839985.000000</td>\n",
       "      <td>839985.000000</td>\n",
       "      <td>839985.000000</td>\n",
       "    </tr>\n",
       "    <tr>\n",
       "      <th>mean</th>\n",
       "      <td>2.010011e+11</td>\n",
       "      <td>10.011129</td>\n",
       "      <td>6.679437</td>\n",
       "      <td>15.594687</td>\n",
       "      <td>13.559365</td>\n",
       "      <td>1.912588</td>\n",
       "      <td>0.286116</td>\n",
       "      <td>1.547080</td>\n",
       "      <td>3.418254</td>\n",
       "      <td>1.961471</td>\n",
       "      <td>1.288842</td>\n",
       "      <td>0.438448</td>\n",
       "    </tr>\n",
       "    <tr>\n",
       "      <th>std</th>\n",
       "      <td>3.458009e+08</td>\n",
       "      <td>3.458059</td>\n",
       "      <td>3.389489</td>\n",
       "      <td>8.750201</td>\n",
       "      <td>5.411096</td>\n",
       "      <td>1.517900</td>\n",
       "      <td>0.451944</td>\n",
       "      <td>1.587622</td>\n",
       "      <td>1.207931</td>\n",
       "      <td>0.571444</td>\n",
       "      <td>0.927817</td>\n",
       "      <td>0.496197</td>\n",
       "    </tr>\n",
       "    <tr>\n",
       "      <th>min</th>\n",
       "      <td>2.005000e+11</td>\n",
       "      <td>5.000000</td>\n",
       "      <td>1.000000</td>\n",
       "      <td>1.000000</td>\n",
       "      <td>0.000000</td>\n",
       "      <td>1.000000</td>\n",
       "      <td>0.000000</td>\n",
       "      <td>1.000000</td>\n",
       "      <td>1.000000</td>\n",
       "      <td>1.000000</td>\n",
       "      <td>1.000000</td>\n",
       "      <td>0.000000</td>\n",
       "    </tr>\n",
       "    <tr>\n",
       "      <th>25%</th>\n",
       "      <td>2.007000e+11</td>\n",
       "      <td>7.000000</td>\n",
       "      <td>4.000000</td>\n",
       "      <td>8.000000</td>\n",
       "      <td>10.000000</td>\n",
       "      <td>1.000000</td>\n",
       "      <td>0.000000</td>\n",
       "      <td>1.000000</td>\n",
       "      <td>3.000000</td>\n",
       "      <td>2.000000</td>\n",
       "      <td>1.000000</td>\n",
       "      <td>0.000000</td>\n",
       "    </tr>\n",
       "    <tr>\n",
       "      <th>50%</th>\n",
       "      <td>2.010000e+11</td>\n",
       "      <td>10.000000</td>\n",
       "      <td>7.000000</td>\n",
       "      <td>15.000000</td>\n",
       "      <td>14.000000</td>\n",
       "      <td>1.000000</td>\n",
       "      <td>0.000000</td>\n",
       "      <td>1.000000</td>\n",
       "      <td>4.000000</td>\n",
       "      <td>2.000000</td>\n",
       "      <td>1.000000</td>\n",
       "      <td>0.000000</td>\n",
       "    </tr>\n",
       "    <tr>\n",
       "      <th>75%</th>\n",
       "      <td>2.013000e+11</td>\n",
       "      <td>13.000000</td>\n",
       "      <td>10.000000</td>\n",
       "      <td>23.000000</td>\n",
       "      <td>18.000000</td>\n",
       "      <td>3.000000</td>\n",
       "      <td>1.000000</td>\n",
       "      <td>1.000000</td>\n",
       "      <td>4.000000</td>\n",
       "      <td>2.000000</td>\n",
       "      <td>1.000000</td>\n",
       "      <td>1.000000</td>\n",
       "    </tr>\n",
       "    <tr>\n",
       "      <th>max</th>\n",
       "      <td>2.016001e+11</td>\n",
       "      <td>16.000000</td>\n",
       "      <td>12.000000</td>\n",
       "      <td>31.000000</td>\n",
       "      <td>23.000000</td>\n",
       "      <td>5.000000</td>\n",
       "      <td>1.000000</td>\n",
       "      <td>9.000000</td>\n",
       "      <td>9.000000</td>\n",
       "      <td>4.000000</td>\n",
       "      <td>9.000000</td>\n",
       "      <td>1.000000</td>\n",
       "    </tr>\n",
       "  </tbody>\n",
       "</table>\n",
       "</div>"
      ],
      "text/plain": [
       "            Num_Acc             an           mois           jour  \\\n",
       "count  8.399850e+05  839985.000000  839985.000000  839985.000000   \n",
       "mean   2.010011e+11      10.011129       6.679437      15.594687   \n",
       "std    3.458009e+08       3.458059       3.389489       8.750201   \n",
       "min    2.005000e+11       5.000000       1.000000       1.000000   \n",
       "25%    2.007000e+11       7.000000       4.000000       8.000000   \n",
       "50%    2.010000e+11      10.000000       7.000000      15.000000   \n",
       "75%    2.013000e+11      13.000000      10.000000      23.000000   \n",
       "max    2.016001e+11      16.000000      12.000000      31.000000   \n",
       "\n",
       "                hrmn            lum            int            atm  \\\n",
       "count  839985.000000  839985.000000  839985.000000  839985.000000   \n",
       "mean       13.559365       1.912588       0.286116       1.547080   \n",
       "std         5.411096       1.517900       0.451944       1.587622   \n",
       "min         0.000000       1.000000       0.000000       1.000000   \n",
       "25%        10.000000       1.000000       0.000000       1.000000   \n",
       "50%        14.000000       1.000000       0.000000       1.000000   \n",
       "75%        18.000000       3.000000       1.000000       1.000000   \n",
       "max        23.000000       5.000000       1.000000       9.000000   \n",
       "\n",
       "                catr           circ           surf           grav  \n",
       "count  839985.000000  839985.000000  839985.000000  839985.000000  \n",
       "mean        3.418254       1.961471       1.288842       0.438448  \n",
       "std         1.207931       0.571444       0.927817       0.496197  \n",
       "min         1.000000       1.000000       1.000000       0.000000  \n",
       "25%         3.000000       2.000000       1.000000       0.000000  \n",
       "50%         4.000000       2.000000       1.000000       0.000000  \n",
       "75%         4.000000       2.000000       1.000000       1.000000  \n",
       "max         9.000000       4.000000       9.000000       1.000000  "
      ]
     },
     "execution_count": 71,
     "metadata": {},
     "output_type": "execute_result"
    }
   ],
   "source": [
    "data = pd.merge(datamerge, df_users, how=\"outer\", on=\"Num_Acc\")\n",
    "data.describe()"
   ]
  },
  {
   "cell_type": "code",
   "execution_count": 72,
   "id": "0bfab1ca",
   "metadata": {
    "execution": {
     "iopub.execute_input": "2022-08-29T12:39:45.271726Z",
     "iopub.status.busy": "2022-08-29T12:39:45.270996Z",
     "iopub.status.idle": "2022-08-29T12:39:45.284757Z",
     "shell.execute_reply": "2022-08-29T12:39:45.283934Z"
    },
    "papermill": {
     "duration": 0.055353,
     "end_time": "2022-08-29T12:39:45.286994",
     "exception": false,
     "start_time": "2022-08-29T12:39:45.231641",
     "status": "completed"
    },
    "tags": []
   },
   "outputs": [
    {
     "data": {
      "text/html": [
       "<div>\n",
       "<style scoped>\n",
       "    .dataframe tbody tr th:only-of-type {\n",
       "        vertical-align: middle;\n",
       "    }\n",
       "\n",
       "    .dataframe tbody tr th {\n",
       "        vertical-align: top;\n",
       "    }\n",
       "\n",
       "    .dataframe thead th {\n",
       "        text-align: right;\n",
       "    }\n",
       "</style>\n",
       "<table border=\"1\" class=\"dataframe\">\n",
       "  <thead>\n",
       "    <tr style=\"text-align: right;\">\n",
       "      <th></th>\n",
       "      <th>Num_Acc</th>\n",
       "      <th>an</th>\n",
       "      <th>mois</th>\n",
       "      <th>jour</th>\n",
       "      <th>hrmn</th>\n",
       "      <th>lum</th>\n",
       "      <th>int</th>\n",
       "      <th>atm</th>\n",
       "      <th>catr</th>\n",
       "      <th>circ</th>\n",
       "      <th>surf</th>\n",
       "      <th>grav</th>\n",
       "    </tr>\n",
       "  </thead>\n",
       "  <tbody>\n",
       "    <tr>\n",
       "      <th>0</th>\n",
       "      <td>201600000001</td>\n",
       "      <td>16</td>\n",
       "      <td>2</td>\n",
       "      <td>1</td>\n",
       "      <td>14</td>\n",
       "      <td>1</td>\n",
       "      <td>0</td>\n",
       "      <td>8</td>\n",
       "      <td>3</td>\n",
       "      <td>2</td>\n",
       "      <td>1</td>\n",
       "      <td>1</td>\n",
       "    </tr>\n",
       "    <tr>\n",
       "      <th>1</th>\n",
       "      <td>201600000002</td>\n",
       "      <td>16</td>\n",
       "      <td>3</td>\n",
       "      <td>16</td>\n",
       "      <td>18</td>\n",
       "      <td>1</td>\n",
       "      <td>1</td>\n",
       "      <td>1</td>\n",
       "      <td>3</td>\n",
       "      <td>1</td>\n",
       "      <td>1</td>\n",
       "      <td>1</td>\n",
       "    </tr>\n",
       "    <tr>\n",
       "      <th>2</th>\n",
       "      <td>201600000003</td>\n",
       "      <td>16</td>\n",
       "      <td>7</td>\n",
       "      <td>13</td>\n",
       "      <td>19</td>\n",
       "      <td>1</td>\n",
       "      <td>0</td>\n",
       "      <td>1</td>\n",
       "      <td>3</td>\n",
       "      <td>2</td>\n",
       "      <td>2</td>\n",
       "      <td>1</td>\n",
       "    </tr>\n",
       "    <tr>\n",
       "      <th>3</th>\n",
       "      <td>201600000004</td>\n",
       "      <td>16</td>\n",
       "      <td>8</td>\n",
       "      <td>15</td>\n",
       "      <td>19</td>\n",
       "      <td>2</td>\n",
       "      <td>0</td>\n",
       "      <td>7</td>\n",
       "      <td>4</td>\n",
       "      <td>2</td>\n",
       "      <td>1</td>\n",
       "      <td>1</td>\n",
       "    </tr>\n",
       "    <tr>\n",
       "      <th>4</th>\n",
       "      <td>201600000005</td>\n",
       "      <td>16</td>\n",
       "      <td>12</td>\n",
       "      <td>23</td>\n",
       "      <td>11</td>\n",
       "      <td>1</td>\n",
       "      <td>1</td>\n",
       "      <td>1</td>\n",
       "      <td>4</td>\n",
       "      <td>2</td>\n",
       "      <td>1</td>\n",
       "      <td>1</td>\n",
       "    </tr>\n",
       "    <tr>\n",
       "      <th>5</th>\n",
       "      <td>201600000006</td>\n",
       "      <td>16</td>\n",
       "      <td>12</td>\n",
       "      <td>23</td>\n",
       "      <td>11</td>\n",
       "      <td>1</td>\n",
       "      <td>0</td>\n",
       "      <td>7</td>\n",
       "      <td>3</td>\n",
       "      <td>2</td>\n",
       "      <td>1</td>\n",
       "      <td>1</td>\n",
       "    </tr>\n",
       "    <tr>\n",
       "      <th>6</th>\n",
       "      <td>201600000007</td>\n",
       "      <td>16</td>\n",
       "      <td>5</td>\n",
       "      <td>1</td>\n",
       "      <td>11</td>\n",
       "      <td>1</td>\n",
       "      <td>0</td>\n",
       "      <td>7</td>\n",
       "      <td>3</td>\n",
       "      <td>2</td>\n",
       "      <td>1</td>\n",
       "      <td>0</td>\n",
       "    </tr>\n",
       "    <tr>\n",
       "      <th>7</th>\n",
       "      <td>201600000008</td>\n",
       "      <td>16</td>\n",
       "      <td>5</td>\n",
       "      <td>14</td>\n",
       "      <td>19</td>\n",
       "      <td>2</td>\n",
       "      <td>0</td>\n",
       "      <td>1</td>\n",
       "      <td>3</td>\n",
       "      <td>2</td>\n",
       "      <td>1</td>\n",
       "      <td>1</td>\n",
       "    </tr>\n",
       "    <tr>\n",
       "      <th>8</th>\n",
       "      <td>201600000009</td>\n",
       "      <td>16</td>\n",
       "      <td>9</td>\n",
       "      <td>23</td>\n",
       "      <td>19</td>\n",
       "      <td>1</td>\n",
       "      <td>0</td>\n",
       "      <td>1</td>\n",
       "      <td>4</td>\n",
       "      <td>2</td>\n",
       "      <td>1</td>\n",
       "      <td>1</td>\n",
       "    </tr>\n",
       "    <tr>\n",
       "      <th>9</th>\n",
       "      <td>201600000010</td>\n",
       "      <td>16</td>\n",
       "      <td>12</td>\n",
       "      <td>30</td>\n",
       "      <td>10</td>\n",
       "      <td>1</td>\n",
       "      <td>0</td>\n",
       "      <td>9</td>\n",
       "      <td>4</td>\n",
       "      <td>2</td>\n",
       "      <td>7</td>\n",
       "      <td>1</td>\n",
       "    </tr>\n",
       "  </tbody>\n",
       "</table>\n",
       "</div>"
      ],
      "text/plain": [
       "        Num_Acc  an  mois  jour  hrmn  lum  int  atm  catr  circ  surf  grav\n",
       "0  201600000001  16     2     1    14    1    0    8     3     2     1     1\n",
       "1  201600000002  16     3    16    18    1    1    1     3     1     1     1\n",
       "2  201600000003  16     7    13    19    1    0    1     3     2     2     1\n",
       "3  201600000004  16     8    15    19    2    0    7     4     2     1     1\n",
       "4  201600000005  16    12    23    11    1    1    1     4     2     1     1\n",
       "5  201600000006  16    12    23    11    1    0    7     3     2     1     1\n",
       "6  201600000007  16     5     1    11    1    0    7     3     2     1     0\n",
       "7  201600000008  16     5    14    19    2    0    1     3     2     1     1\n",
       "8  201600000009  16     9    23    19    1    0    1     4     2     1     1\n",
       "9  201600000010  16    12    30    10    1    0    9     4     2     7     1"
      ]
     },
     "execution_count": 72,
     "metadata": {},
     "output_type": "execute_result"
    }
   ],
   "source": [
    "data.head(10)"
   ]
  },
  {
   "cell_type": "markdown",
   "id": "2a7d65e8",
   "metadata": {
    "papermill": {
     "duration": 0.037699,
     "end_time": "2022-08-29T12:39:45.363452",
     "exception": false,
     "start_time": "2022-08-29T12:39:45.325753",
     "status": "completed"
    },
    "tags": []
   },
   "source": [
    "# visualization "
   ]
  },
  {
   "cell_type": "markdown",
   "id": "1bf0d7eb",
   "metadata": {
    "papermill": {
     "duration": 0.037766,
     "end_time": "2022-08-29T12:39:45.439077",
     "exception": false,
     "start_time": "2022-08-29T12:39:45.401311",
     "status": "completed"
    },
    "tags": []
   },
   "source": [
    "### correlation : "
   ]
  },
  {
   "cell_type": "code",
   "execution_count": 73,
   "id": "4c865d2c",
   "metadata": {
    "execution": {
     "iopub.execute_input": "2022-08-29T12:39:45.519664Z",
     "iopub.status.busy": "2022-08-29T12:39:45.518975Z",
     "iopub.status.idle": "2022-08-29T12:39:45.691227Z",
     "shell.execute_reply": "2022-08-29T12:39:45.690264Z"
    },
    "papermill": {
     "duration": 0.216639,
     "end_time": "2022-08-29T12:39:45.693987",
     "exception": false,
     "start_time": "2022-08-29T12:39:45.477348",
     "status": "completed"
    },
    "tags": []
   },
   "outputs": [],
   "source": [
    "import seaborn as sns\n",
    "import matplotlib.pyplot as plt"
   ]
  },
  {
   "cell_type": "code",
   "execution_count": 74,
   "id": "50ac2c5d",
   "metadata": {
    "execution": {
     "iopub.execute_input": "2022-08-29T12:39:45.775068Z",
     "iopub.status.busy": "2022-08-29T12:39:45.774247Z",
     "iopub.status.idle": "2022-08-29T12:39:47.394602Z",
     "shell.execute_reply": "2022-08-29T12:39:47.393721Z"
    },
    "papermill": {
     "duration": 1.663962,
     "end_time": "2022-08-29T12:39:47.397665",
     "exception": false,
     "start_time": "2022-08-29T12:39:45.733703",
     "status": "completed"
    },
    "tags": []
   },
   "outputs": [
    {
     "data": {
      "text/plain": [
       "<AxesSubplot:>"
      ]
     },
     "execution_count": 74,
     "metadata": {},
     "output_type": "execute_result"
    },
    {
     "data": {
      "image/png": "[encoded data removed]",
      "text/plain": [
       "<Figure size 1080x720 with 2 Axes>"
      ]
     },
     "metadata": {
      "needs_background": "light"
     },
     "output_type": "display_data"
    }
   ],
   "source": [
    "fig= plt.figure(figsize=(15,10))\n",
    "ax1=plt.subplot()\n",
    "sns.heatmap(data.corr(), annot=True)"
   ]
  },
  {
   "cell_type": "markdown",
   "id": "f680efd8",
   "metadata": {
    "papermill": {
     "duration": 0.039653,
     "end_time": "2022-08-29T12:39:47.477606",
     "exception": false,
     "start_time": "2022-08-29T12:39:47.437953",
     "status": "completed"
    },
    "tags": []
   },
   "source": [
    "### Graph 1 : number of accidenrt by lighting conditions :"
   ]
  },
  {
   "cell_type": "code",
   "execution_count": 75,
   "id": "6a13f7be",
   "metadata": {
    "execution": {
     "iopub.execute_input": "2022-08-29T12:39:47.561565Z",
     "iopub.status.busy": "2022-08-29T12:39:47.560791Z",
     "iopub.status.idle": "2022-08-29T12:39:47.767735Z",
     "shell.execute_reply": "2022-08-29T12:39:47.766354Z"
    },
    "papermill": {
     "duration": 0.252609,
     "end_time": "2022-08-29T12:39:47.770351",
     "exception": false,
     "start_time": "2022-08-29T12:39:47.517742",
     "status": "completed"
    },
    "tags": []
   },
   "outputs": [
    {
     "name": "stdout",
     "output_type": "stream",
     "text": [
      "lum\n",
      "1    576861\n",
      "2     49140\n",
      "3     65811\n",
      "4      6894\n",
      "5    141279\n",
      "Name: Num_Acc, dtype: int64\n"
     ]
    },
    {
     "data": {
      "image/png": "[encoded data removed]",
      "text/plain": [
       "<Figure size 1440x720 with 1 Axes>"
      ]
     },
     "metadata": {
      "needs_background": "light"
     },
     "output_type": "display_data"
    }
   ],
   "source": [
    "plt.figure(figsize=(20,10))\n",
    "graph = data.groupby('lum')['Num_Acc'].count()\n",
    "print(graph)\n",
    "labels = ['Full day', 'Twilight or dawn', 'Night without public lighting', 'Night with public lighting not lit', 'Night with public lighting on']\n",
    "plt.xticks(range(len(graph)), labels)\n",
    "plt.xlabel('Lighting conditions')\n",
    "plt.ylabel('Number of accident')\n",
    "plt.bar(range(len(graph)), graph) \n",
    "plt.title(\"Number of accident by lighting conditions\")\n",
    "plt.show()"
   ]
  },
  {
   "cell_type": "markdown",
   "id": "312474ea",
   "metadata": {
    "papermill": {
     "duration": 0.041254,
     "end_time": "2022-08-29T12:39:47.852953",
     "exception": false,
     "start_time": "2022-08-29T12:39:47.811699",
     "status": "completed"
    },
    "tags": []
   },
   "source": [
    "### Graph 2 : number of accidenrt by road category :"
   ]
  },
  {
   "cell_type": "code",
   "execution_count": 76,
   "id": "ca184fcb",
   "metadata": {
    "execution": {
     "iopub.execute_input": "2022-08-29T12:39:47.936878Z",
     "iopub.status.busy": "2022-08-29T12:39:47.936084Z",
     "iopub.status.idle": "2022-08-29T12:39:48.164388Z",
     "shell.execute_reply": "2022-08-29T12:39:48.162734Z"
    },
    "papermill": {
     "duration": 0.27287,
     "end_time": "2022-08-29T12:39:48.166908",
     "exception": false,
     "start_time": "2022-08-29T12:39:47.894038",
     "status": "completed"
    },
    "tags": []
   },
   "outputs": [
    {
     "name": "stdout",
     "output_type": "stream",
     "text": [
      "catr\n",
      "1     61077\n",
      "2     67918\n",
      "3    262690\n",
      "4    425061\n",
      "5      1634\n",
      "6      5520\n",
      "9     16085\n",
      "Name: Num_Acc, dtype: int64\n"
     ]
    },
    {
     "data": {
      "image/png": "[encoded data removed]",
      "text/plain": [
       "<Figure size 1440x720 with 1 Axes>"
      ]
     },
     "metadata": {
      "needs_background": "light"
     },
     "output_type": "display_data"
    }
   ],
   "source": [
    "plt.figure(figsize=(20,10))\n",
    "graph = data.groupby('catr')['Num_Acc'].count()\n",
    "print(graph)\n",
    "labels = ['Highway', ' National Road', 'Departmental Road', 'Communal Way', 'Off public network', 'Parking lot open to public traffic', 'other']\n",
    "plt.xticks(range(len(graph)), labels)\n",
    "plt.xlabel('Category of road')\n",
    "plt.ylabel('Number of accident')\n",
    "plt.bar(range(len(graph)), graph) \n",
    "plt.title(\"Number if accident by Category of road\")\n",
    "plt.show()"
   ]
  },
  {
   "cell_type": "markdown",
   "id": "8b70adec",
   "metadata": {
    "papermill": {
     "duration": 0.04072,
     "end_time": "2022-08-29T12:39:48.249437",
     "exception": false,
     "start_time": "2022-08-29T12:39:48.208717",
     "status": "completed"
    },
    "tags": []
   },
   "source": [
    "### Graph 3 : number of accidenrt by years :"
   ]
  },
  {
   "cell_type": "code",
   "execution_count": 77,
   "id": "3abdd6b3",
   "metadata": {
    "execution": {
     "iopub.execute_input": "2022-08-29T12:39:48.332525Z",
     "iopub.status.busy": "2022-08-29T12:39:48.331665Z",
     "iopub.status.idle": "2022-08-29T12:39:48.743018Z",
     "shell.execute_reply": "2022-08-29T12:39:48.741780Z"
    },
    "papermill": {
     "duration": 0.45624,
     "end_time": "2022-08-29T12:39:48.746251",
     "exception": false,
     "start_time": "2022-08-29T12:39:48.290011",
     "status": "completed"
    },
    "tags": []
   },
   "outputs": [
    {
     "name": "stdout",
     "output_type": "stream",
     "text": [
      "an\n",
      "5     87026\n",
      "6     82993\n",
      "7     83850\n",
      "8     76767\n",
      "9     74409\n",
      "10    69379\n",
      "11    66974\n",
      "12    62250\n",
      "13    58397\n",
      "14    59854\n",
      "15    58654\n",
      "16    59432\n",
      "Name: Num_Acc, dtype: int64\n"
     ]
    },
    {
     "data": {
      "text/plain": [
       "[<matplotlib.lines.Line2D at 0x7f436336ac50>]"
      ]
     },
     "execution_count": 77,
     "metadata": {},
     "output_type": "execute_result"
    },
    {
     "data": {
      "image/png": "[encoded data removed]",
      "text/plain": [
       "<Figure size 1152x576 with 1 Axes>"
      ]
     },
     "metadata": {
      "needs_background": "light"
     },
     "output_type": "display_data"
    }
   ],
   "source": [
    "df_acc_an=data.groupby('an')[\"Num_Acc\"].count()\n",
    "print(df_acc_an)\n",
    "plt.figure(figsize=(16,8))\n",
    "plt.xlabel('Year')\n",
    "plt.ylabel('Number of accident')\n",
    "plt.title(\"Number if accident by years\")\n",
    "plt.plot(df_acc_an)"
   ]
  },
  {
   "cell_type": "markdown",
   "id": "2bc871c5",
   "metadata": {
    "papermill": {
     "duration": 0.040694,
     "end_time": "2022-08-29T12:39:48.828656",
     "exception": false,
     "start_time": "2022-08-29T12:39:48.787962",
     "status": "completed"
    },
    "tags": []
   },
   "source": [
    "### Graph 4 : number of accidenrt by traffic regime : "
   ]
  },
  {
   "cell_type": "code",
   "execution_count": 78,
   "id": "a850b448",
   "metadata": {
    "execution": {
     "iopub.execute_input": "2022-08-29T12:39:48.915247Z",
     "iopub.status.busy": "2022-08-29T12:39:48.914218Z",
     "iopub.status.idle": "2022-08-29T12:39:49.170799Z",
     "shell.execute_reply": "2022-08-29T12:39:49.169584Z"
    },
    "papermill": {
     "duration": 0.302671,
     "end_time": "2022-08-29T12:39:49.173342",
     "exception": false,
     "start_time": "2022-08-29T12:39:48.870671",
     "status": "completed"
    },
    "tags": []
   },
   "outputs": [
    {
     "name": "stdout",
     "output_type": "stream",
     "text": [
      "circ\n",
      "1    149375\n",
      "2    578177\n",
      "3    107855\n",
      "4      4578\n",
      "Name: Num_Acc, dtype: int64\n"
     ]
    },
    {
     "data": {
      "image/png": "[encoded data removed]",
      "text/plain": [
       "<Figure size 1440x720 with 1 Axes>"
      ]
     },
     "metadata": {
      "needs_background": "light"
     },
     "output_type": "display_data"
    }
   ],
   "source": [
    "plt.figure(figsize=(20,10))\n",
    "graph = data.groupby('circ')['Num_Acc'].count()\n",
    "print(graph)\n",
    "labels = ['One way', 'Bidirectional', 'Separated carriageways', 'With variable assignment channels']\n",
    "plt.xticks(range(len(graph)), labels)\n",
    "plt.xlabel('Traffic regime')\n",
    "plt.ylabel('Number of accident')\n",
    "plt.bar(range(len(graph)), graph) \n",
    "plt.title(\"Number if accident by Traffic regime\")\n",
    "plt.show()"
   ]
  },
  {
   "cell_type": "markdown",
   "id": "94049ef8",
   "metadata": {
    "papermill": {
     "duration": 0.042094,
     "end_time": "2022-08-29T12:39:49.257783",
     "exception": false,
     "start_time": "2022-08-29T12:39:49.215689",
     "status": "completed"
    },
    "tags": []
   },
   "source": [
    "### Split data : "
   ]
  },
  {
   "cell_type": "code",
   "execution_count": 79,
   "id": "cb99cc9c",
   "metadata": {
    "execution": {
     "iopub.execute_input": "2022-08-29T12:39:49.343600Z",
     "iopub.status.busy": "2022-08-29T12:39:49.342840Z",
     "iopub.status.idle": "2022-08-29T12:39:49.376221Z",
     "shell.execute_reply": "2022-08-29T12:39:49.374823Z"
    },
    "papermill": {
     "duration": 0.080116,
     "end_time": "2022-08-29T12:39:49.379491",
     "exception": false,
     "start_time": "2022-08-29T12:39:49.299375",
     "status": "completed"
    },
    "tags": []
   },
   "outputs": [],
   "source": [
    "y= data['grav'] \n",
    "X= data[['hrmn','lum','int','atm','catr','circ','surf']]"
   ]
  },
  {
   "cell_type": "code",
   "execution_count": 80,
   "id": "416afebd",
   "metadata": {
    "execution": {
     "iopub.execute_input": "2022-08-29T12:39:49.465252Z",
     "iopub.status.busy": "2022-08-29T12:39:49.464548Z",
     "iopub.status.idle": "2022-08-29T12:39:49.487398Z",
     "shell.execute_reply": "2022-08-29T12:39:49.486136Z"
    },
    "papermill": {
     "duration": 0.068328,
     "end_time": "2022-08-29T12:39:49.489806",
     "exception": false,
     "start_time": "2022-08-29T12:39:49.421478",
     "status": "completed"
    },
    "tags": []
   },
   "outputs": [
    {
     "name": "stdout",
     "output_type": "stream",
     "text": [
      "<class 'pandas.core.frame.DataFrame'>\n",
      "Int64Index: 839985 entries, 0 to 839984\n",
      "Data columns (total 7 columns):\n",
      " #   Column  Non-Null Count   Dtype\n",
      "---  ------  --------------   -----\n",
      " 0   hrmn    839985 non-null  int64\n",
      " 1   lum     839985 non-null  int64\n",
      " 2   int     839985 non-null  int64\n",
      " 3   atm     839985 non-null  int64\n",
      " 4   catr    839985 non-null  int64\n",
      " 5   circ    839985 non-null  int64\n",
      " 6   surf    839985 non-null  int64\n",
      "dtypes: int64(7)\n",
      "memory usage: 51.3 MB\n"
     ]
    }
   ],
   "source": [
    "X.info()"
   ]
  },
  {
   "cell_type": "code",
   "execution_count": 81,
   "id": "6ef74ca1",
   "metadata": {
    "execution": {
     "iopub.execute_input": "2022-08-29T12:39:49.577486Z",
     "iopub.status.busy": "2022-08-29T12:39:49.576578Z",
     "iopub.status.idle": "2022-08-29T12:39:49.591713Z",
     "shell.execute_reply": "2022-08-29T12:39:49.590468Z"
    },
    "papermill": {
     "duration": 0.061526,
     "end_time": "2022-08-29T12:39:49.594109",
     "exception": false,
     "start_time": "2022-08-29T12:39:49.532583",
     "status": "completed"
    },
    "tags": []
   },
   "outputs": [
    {
     "data": {
      "text/html": [
       "<div>\n",
       "<style scoped>\n",
       "    .dataframe tbody tr th:only-of-type {\n",
       "        vertical-align: middle;\n",
       "    }\n",
       "\n",
       "    .dataframe tbody tr th {\n",
       "        vertical-align: top;\n",
       "    }\n",
       "\n",
       "    .dataframe thead th {\n",
       "        text-align: right;\n",
       "    }\n",
       "</style>\n",
       "<table border=\"1\" class=\"dataframe\">\n",
       "  <thead>\n",
       "    <tr style=\"text-align: right;\">\n",
       "      <th></th>\n",
       "      <th>hrmn</th>\n",
       "      <th>lum</th>\n",
       "      <th>int</th>\n",
       "      <th>atm</th>\n",
       "      <th>catr</th>\n",
       "      <th>circ</th>\n",
       "      <th>surf</th>\n",
       "    </tr>\n",
       "  </thead>\n",
       "  <tbody>\n",
       "    <tr>\n",
       "      <th>0</th>\n",
       "      <td>14</td>\n",
       "      <td>1</td>\n",
       "      <td>0</td>\n",
       "      <td>8</td>\n",
       "      <td>3</td>\n",
       "      <td>2</td>\n",
       "      <td>1</td>\n",
       "    </tr>\n",
       "    <tr>\n",
       "      <th>1</th>\n",
       "      <td>18</td>\n",
       "      <td>1</td>\n",
       "      <td>1</td>\n",
       "      <td>1</td>\n",
       "      <td>3</td>\n",
       "      <td>1</td>\n",
       "      <td>1</td>\n",
       "    </tr>\n",
       "    <tr>\n",
       "      <th>2</th>\n",
       "      <td>19</td>\n",
       "      <td>1</td>\n",
       "      <td>0</td>\n",
       "      <td>1</td>\n",
       "      <td>3</td>\n",
       "      <td>2</td>\n",
       "      <td>2</td>\n",
       "    </tr>\n",
       "    <tr>\n",
       "      <th>3</th>\n",
       "      <td>19</td>\n",
       "      <td>2</td>\n",
       "      <td>0</td>\n",
       "      <td>7</td>\n",
       "      <td>4</td>\n",
       "      <td>2</td>\n",
       "      <td>1</td>\n",
       "    </tr>\n",
       "    <tr>\n",
       "      <th>4</th>\n",
       "      <td>11</td>\n",
       "      <td>1</td>\n",
       "      <td>1</td>\n",
       "      <td>1</td>\n",
       "      <td>4</td>\n",
       "      <td>2</td>\n",
       "      <td>1</td>\n",
       "    </tr>\n",
       "    <tr>\n",
       "      <th>...</th>\n",
       "      <td>...</td>\n",
       "      <td>...</td>\n",
       "      <td>...</td>\n",
       "      <td>...</td>\n",
       "      <td>...</td>\n",
       "      <td>...</td>\n",
       "      <td>...</td>\n",
       "    </tr>\n",
       "    <tr>\n",
       "      <th>839980</th>\n",
       "      <td>20</td>\n",
       "      <td>5</td>\n",
       "      <td>1</td>\n",
       "      <td>1</td>\n",
       "      <td>4</td>\n",
       "      <td>2</td>\n",
       "      <td>1</td>\n",
       "    </tr>\n",
       "    <tr>\n",
       "      <th>839981</th>\n",
       "      <td>10</td>\n",
       "      <td>1</td>\n",
       "      <td>0</td>\n",
       "      <td>1</td>\n",
       "      <td>4</td>\n",
       "      <td>2</td>\n",
       "      <td>1</td>\n",
       "    </tr>\n",
       "    <tr>\n",
       "      <th>839982</th>\n",
       "      <td>17</td>\n",
       "      <td>1</td>\n",
       "      <td>1</td>\n",
       "      <td>1</td>\n",
       "      <td>4</td>\n",
       "      <td>1</td>\n",
       "      <td>1</td>\n",
       "    </tr>\n",
       "    <tr>\n",
       "      <th>839983</th>\n",
       "      <td>15</td>\n",
       "      <td>1</td>\n",
       "      <td>1</td>\n",
       "      <td>2</td>\n",
       "      <td>4</td>\n",
       "      <td>2</td>\n",
       "      <td>1</td>\n",
       "    </tr>\n",
       "    <tr>\n",
       "      <th>839984</th>\n",
       "      <td>21</td>\n",
       "      <td>5</td>\n",
       "      <td>0</td>\n",
       "      <td>2</td>\n",
       "      <td>2</td>\n",
       "      <td>3</td>\n",
       "      <td>2</td>\n",
       "    </tr>\n",
       "  </tbody>\n",
       "</table>\n",
       "<p>839985 rows × 7 columns</p>\n",
       "</div>"
      ],
      "text/plain": [
       "        hrmn  lum  int  atm  catr  circ  surf\n",
       "0         14    1    0    8     3     2     1\n",
       "1         18    1    1    1     3     1     1\n",
       "2         19    1    0    1     3     2     2\n",
       "3         19    2    0    7     4     2     1\n",
       "4         11    1    1    1     4     2     1\n",
       "...      ...  ...  ...  ...   ...   ...   ...\n",
       "839980    20    5    1    1     4     2     1\n",
       "839981    10    1    0    1     4     2     1\n",
       "839982    17    1    1    1     4     1     1\n",
       "839983    15    1    1    2     4     2     1\n",
       "839984    21    5    0    2     2     3     2\n",
       "\n",
       "[839985 rows x 7 columns]"
      ]
     },
     "execution_count": 81,
     "metadata": {},
     "output_type": "execute_result"
    }
   ],
   "source": [
    "X"
   ]
  },
  {
   "cell_type": "markdown",
   "id": "affbd22f",
   "metadata": {
    "papermill": {
     "duration": 0.042318,
     "end_time": "2022-08-29T12:39:49.678992",
     "exception": false,
     "start_time": "2022-08-29T12:39:49.636674",
     "status": "completed"
    },
    "tags": []
   },
   "source": [
    "### Standardization : "
   ]
  },
  {
   "cell_type": "code",
   "execution_count": 82,
   "id": "5beb3396",
   "metadata": {
    "execution": {
     "iopub.execute_input": "2022-08-29T12:39:49.766423Z",
     "iopub.status.busy": "2022-08-29T12:39:49.765180Z",
     "iopub.status.idle": "2022-08-29T12:39:49.903124Z",
     "shell.execute_reply": "2022-08-29T12:39:49.901897Z"
    },
    "papermill": {
     "duration": 0.18479,
     "end_time": "2022-08-29T12:39:49.906431",
     "exception": false,
     "start_time": "2022-08-29T12:39:49.721641",
     "status": "completed"
    },
    "tags": []
   },
   "outputs": [],
   "source": [
    "from sklearn.preprocessing import StandardScaler\n",
    "Scaler = StandardScaler()\n",
    "X_scaler=Scaler.fit_transform(X)"
   ]
  },
  {
   "cell_type": "code",
   "execution_count": 83,
   "id": "203f0e49",
   "metadata": {
    "execution": {
     "iopub.execute_input": "2022-08-29T12:39:49.993610Z",
     "iopub.status.busy": "2022-08-29T12:39:49.993120Z",
     "iopub.status.idle": "2022-08-29T12:39:50.211769Z",
     "shell.execute_reply": "2022-08-29T12:39:50.210569Z"
    },
    "papermill": {
     "duration": 0.265293,
     "end_time": "2022-08-29T12:39:50.214616",
     "exception": false,
     "start_time": "2022-08-29T12:39:49.949323",
     "status": "completed"
    },
    "tags": []
   },
   "outputs": [],
   "source": [
    "from sklearn.model_selection import train_test_split\n",
    "X_train, X_test, y_train, y_test = train_test_split(X_scaler, y, test_size=0.40, random_state=42)"
   ]
  },
  {
   "cell_type": "code",
   "execution_count": 84,
   "id": "23bf7e18",
   "metadata": {
    "execution": {
     "iopub.execute_input": "2022-08-29T12:39:50.301750Z",
     "iopub.status.busy": "2022-08-29T12:39:50.301282Z",
     "iopub.status.idle": "2022-08-29T12:39:50.308636Z",
     "shell.execute_reply": "2022-08-29T12:39:50.307598Z"
    },
    "papermill": {
     "duration": 0.053156,
     "end_time": "2022-08-29T12:39:50.310887",
     "exception": false,
     "start_time": "2022-08-29T12:39:50.257731",
     "status": "completed"
    },
    "tags": []
   },
   "outputs": [
    {
     "data": {
      "text/plain": [
       "(503991, 7)"
      ]
     },
     "execution_count": 84,
     "metadata": {},
     "output_type": "execute_result"
    }
   ],
   "source": [
    "X_train.shape"
   ]
  },
  {
   "cell_type": "code",
   "execution_count": 85,
   "id": "4cf8cb44",
   "metadata": {
    "execution": {
     "iopub.execute_input": "2022-08-29T12:39:50.398270Z",
     "iopub.status.busy": "2022-08-29T12:39:50.397389Z",
     "iopub.status.idle": "2022-08-29T12:39:50.404708Z",
     "shell.execute_reply": "2022-08-29T12:39:50.403804Z"
    },
    "papermill": {
     "duration": 0.05324,
     "end_time": "2022-08-29T12:39:50.406923",
     "exception": false,
     "start_time": "2022-08-29T12:39:50.353683",
     "status": "completed"
    },
    "tags": []
   },
   "outputs": [
    {
     "data": {
      "text/plain": [
       "(335994, 7)"
      ]
     },
     "execution_count": 85,
     "metadata": {},
     "output_type": "execute_result"
    }
   ],
   "source": [
    "X_test.shape"
   ]
  },
  {
   "cell_type": "code",
   "execution_count": 86,
   "id": "3cbc6078",
   "metadata": {
    "execution": {
     "iopub.execute_input": "2022-08-29T12:39:50.493962Z",
     "iopub.status.busy": "2022-08-29T12:39:50.493163Z",
     "iopub.status.idle": "2022-08-29T12:39:50.507405Z",
     "shell.execute_reply": "2022-08-29T12:39:50.506352Z"
    },
    "papermill": {
     "duration": 0.06085,
     "end_time": "2022-08-29T12:39:50.509802",
     "exception": false,
     "start_time": "2022-08-29T12:39:50.448952",
     "status": "completed"
    },
    "tags": []
   },
   "outputs": [
    {
     "data": {
      "text/plain": [
       "0    282706\n",
       "1    221285\n",
       "Name: grav, dtype: int64"
      ]
     },
     "execution_count": 86,
     "metadata": {},
     "output_type": "execute_result"
    }
   ],
   "source": [
    "y_train.value_counts()"
   ]
  },
  {
   "cell_type": "code",
   "execution_count": 87,
   "id": "5fb78f02",
   "metadata": {
    "execution": {
     "iopub.execute_input": "2022-08-29T12:39:50.598626Z",
     "iopub.status.busy": "2022-08-29T12:39:50.597743Z",
     "iopub.status.idle": "2022-08-29T12:39:50.609793Z",
     "shell.execute_reply": "2022-08-29T12:39:50.608712Z"
    },
    "papermill": {
     "duration": 0.058706,
     "end_time": "2022-08-29T12:39:50.612025",
     "exception": false,
     "start_time": "2022-08-29T12:39:50.553319",
     "status": "completed"
    },
    "tags": []
   },
   "outputs": [
    {
     "data": {
      "text/plain": [
       "0    188989\n",
       "1    147005\n",
       "Name: grav, dtype: int64"
      ]
     },
     "execution_count": 87,
     "metadata": {},
     "output_type": "execute_result"
    }
   ],
   "source": [
    "y_test.value_counts()"
   ]
  },
  {
   "cell_type": "code",
   "execution_count": 88,
   "id": "7b55f28a",
   "metadata": {
    "execution": {
     "iopub.execute_input": "2022-08-29T12:39:50.700157Z",
     "iopub.status.busy": "2022-08-29T12:39:50.699254Z",
     "iopub.status.idle": "2022-08-29T12:39:50.827864Z",
     "shell.execute_reply": "2022-08-29T12:39:50.825450Z"
    },
    "papermill": {
     "duration": 0.178198,
     "end_time": "2022-08-29T12:39:50.833227",
     "exception": false,
     "start_time": "2022-08-29T12:39:50.655029",
     "status": "completed"
    },
    "tags": []
   },
   "outputs": [
    {
     "name": "stdout",
     "output_type": "stream",
     "text": [
      "[282706, 221285]\n"
     ]
    },
    {
     "data": {
      "image/png": "[encoded data removed]",
      "text/plain": [
       "<Figure size 432x288 with 1 Axes>"
      ]
     },
     "metadata": {},
     "output_type": "display_data"
    }
   ],
   "source": [
    "print([y_train.value_counts()[0],  y_train.value_counts()[1]])\n",
    "colors = sns.color_palette('pastel')[0:5]\n",
    "plt.pie([y_train.value_counts()[0],  y_train.value_counts()[1]] , labels = [\"No accident\",\"accident \"], colors = colors, autopct='%.0f%%')\n",
    "plt.title(\"Train set\")\n",
    "plt.show()"
   ]
  },
  {
   "cell_type": "code",
   "execution_count": 89,
   "id": "ab260507",
   "metadata": {
    "execution": {
     "iopub.execute_input": "2022-08-29T12:39:50.972058Z",
     "iopub.status.busy": "2022-08-29T12:39:50.971187Z",
     "iopub.status.idle": "2022-08-29T12:39:51.078522Z",
     "shell.execute_reply": "2022-08-29T12:39:51.076971Z"
    },
    "papermill": {
     "duration": 0.157696,
     "end_time": "2022-08-29T12:39:51.082700",
     "exception": false,
     "start_time": "2022-08-29T12:39:50.925004",
     "status": "completed"
    },
    "tags": []
   },
   "outputs": [
    {
     "name": "stdout",
     "output_type": "stream",
     "text": [
      "[188989, 147005]\n"
     ]
    },
    {
     "data": {
      "image/png": "[encoded data removed]",
      "text/plain": [
       "<Figure size 432x288 with 1 Axes>"
      ]
     },
     "metadata": {},
     "output_type": "display_data"
    }
   ],
   "source": [
    "print([y_test.value_counts()[0],  y_test.value_counts()[1]])\n",
    "colors = sns.color_palette('pastel')[0:5]\n",
    "plt.pie([y_test.value_counts()[0],  y_test.value_counts()[1]] , labels = [\"No accident\",\"accident\"], colors = colors, autopct='%.0f%%')\n",
    "plt.title(\"Test set\")\n",
    "plt.show()"
   ]
  },
  {
   "cell_type": "markdown",
   "id": "ac70df51",
   "metadata": {
    "papermill": {
     "duration": 0.042929,
     "end_time": "2022-08-29T12:39:51.219758",
     "exception": false,
     "start_time": "2022-08-29T12:39:51.176829",
     "status": "completed"
    },
    "tags": []
   },
   "source": [
    "# Algorithms "
   ]
  },
  {
   "cell_type": "markdown",
   "id": "b33310b6",
   "metadata": {
    "papermill": {
     "duration": 0.042293,
     "end_time": "2022-08-29T12:39:51.305544",
     "exception": false,
     "start_time": "2022-08-29T12:39:51.263251",
     "status": "completed"
    },
    "tags": []
   },
   "source": [
    "we test diffent algoritms for choice model"
   ]
  },
  {
   "cell_type": "code",
   "execution_count": 90,
   "id": "7d08c3ad",
   "metadata": {
    "execution": {
     "iopub.execute_input": "2022-08-29T12:39:51.393675Z",
     "iopub.status.busy": "2022-08-29T12:39:51.392849Z",
     "iopub.status.idle": "2022-08-29T12:39:51.480045Z",
     "shell.execute_reply": "2022-08-29T12:39:51.479127Z"
    },
    "papermill": {
     "duration": 0.134542,
     "end_time": "2022-08-29T12:39:51.482731",
     "exception": false,
     "start_time": "2022-08-29T12:39:51.348189",
     "status": "completed"
    },
    "tags": []
   },
   "outputs": [],
   "source": [
    "import time\n",
    "from sklearn.metrics import accuracy_score\n",
    "from sklearn.model_selection import GridSearchCV\n",
    "from sklearn.ensemble import RandomForestClassifier\n",
    "from sklearn.neighbors import KNeighborsClassifier\n",
    "from sklearn.linear_model import LogisticRegression"
   ]
  },
  {
   "cell_type": "markdown",
   "id": "3ccf921a",
   "metadata": {
    "papermill": {
     "duration": 0.043011,
     "end_time": "2022-08-29T12:39:51.569306",
     "exception": false,
     "start_time": "2022-08-29T12:39:51.526295",
     "status": "completed"
    },
    "tags": []
   },
   "source": [
    "### Random Forest : "
   ]
  },
  {
   "cell_type": "code",
   "execution_count": 91,
   "id": "2e22f0c2",
   "metadata": {
    "execution": {
     "iopub.execute_input": "2022-08-29T12:39:51.657138Z",
     "iopub.status.busy": "2022-08-29T12:39:51.656479Z",
     "iopub.status.idle": "2022-08-29T12:41:00.111986Z",
     "shell.execute_reply": "2022-08-29T12:41:00.110735Z"
    },
    "papermill": {
     "duration": 68.503301,
     "end_time": "2022-08-29T12:41:00.115330",
     "exception": false,
     "start_time": "2022-08-29T12:39:51.612029",
     "status": "completed"
    },
    "tags": []
   },
   "outputs": [
    {
     "name": "stdout",
     "output_type": "stream",
     "text": [
      "Time taken : 61.30238652229309\n",
      "Accuracy : 0.6751281272879873\n"
     ]
    }
   ],
   "source": [
    "t0=time.time()\n",
    "model_rf= RandomForestClassifier()\n",
    "model_rf.fit(X_train, y_train)\n",
    "print('Time taken :' , time.time()-t0)\n",
    "y_pred_rf = model_rf.predict(X_test)\n",
    "score_rf = accuracy_score(y_test,y_pred_rf)\n",
    "print('Accuracy :',score_rf)"
   ]
  },
  {
   "cell_type": "markdown",
   "id": "3d014579",
   "metadata": {
    "papermill": {
     "duration": 0.044475,
     "end_time": "2022-08-29T12:41:00.206116",
     "exception": false,
     "start_time": "2022-08-29T12:41:00.161641",
     "status": "completed"
    },
    "tags": []
   },
   "source": [
    "### K-Neighbors Classifier : "
   ]
  },
  {
   "cell_type": "code",
   "execution_count": 92,
   "id": "d2974748",
   "metadata": {
    "execution": {
     "iopub.execute_input": "2022-08-29T12:41:00.296325Z",
     "iopub.status.busy": "2022-08-29T12:41:00.295848Z",
     "iopub.status.idle": "2022-08-29T12:44:48.170479Z",
     "shell.execute_reply": "2022-08-29T12:44:48.168750Z"
    },
    "papermill": {
     "duration": 227.965324,
     "end_time": "2022-08-29T12:44:48.215742",
     "exception": false,
     "start_time": "2022-08-29T12:41:00.250418",
     "status": "completed"
    },
    "tags": []
   },
   "outputs": [
    {
     "name": "stdout",
     "output_type": "stream",
     "text": [
      "Time taken : 0.8997983932495117\n",
      "Accuracy : 0.6318862836836372\n"
     ]
    }
   ],
   "source": [
    "t0=time.time()\n",
    "model_knn= KNeighborsClassifier()\n",
    "model_knn.fit(X_train, y_train)\n",
    "print('Time taken :' , time.time()-t0)\n",
    "y_pred_knn = model_knn.predict(X_test)\n",
    "score_knn = accuracy_score(y_test,y_pred_knn)\n",
    "print('Accuracy :',score_knn)"
   ]
  },
  {
   "cell_type": "markdown",
   "id": "4abf43ea",
   "metadata": {
    "papermill": {
     "duration": 0.042976,
     "end_time": "2022-08-29T12:44:48.300686",
     "exception": false,
     "start_time": "2022-08-29T12:44:48.257710",
     "status": "completed"
    },
    "tags": []
   },
   "source": [
    "### Logistic Regression algorithm :"
   ]
  },
  {
   "cell_type": "code",
   "execution_count": 93,
   "id": "06cc0ffd",
   "metadata": {
    "execution": {
     "iopub.execute_input": "2022-08-29T12:44:48.389159Z",
     "iopub.status.busy": "2022-08-29T12:44:48.388759Z",
     "iopub.status.idle": "2022-08-29T12:44:49.096849Z",
     "shell.execute_reply": "2022-08-29T12:44:49.095322Z"
    },
    "papermill": {
     "duration": 0.757267,
     "end_time": "2022-08-29T12:44:49.100855",
     "exception": false,
     "start_time": "2022-08-29T12:44:48.343588",
     "status": "completed"
    },
    "tags": []
   },
   "outputs": [
    {
     "name": "stdout",
     "output_type": "stream",
     "text": [
      "Time taken : 0.6242051124572754\n",
      "Accuracy : 0.5628136216718156\n"
     ]
    }
   ],
   "source": [
    "t0=time.time()\n",
    "model_lr = LogisticRegression()\n",
    "model_lr.fit(X_train, y_train)\n",
    "print('Time taken :' , time.time()-t0)\n",
    "y_pred_lr = model_lr.predict(X_test)\n",
    "score_lr = accuracy_score(y_test,y_pred_lr)\n",
    "print('Accuracy :',score_lr)"
   ]
  },
  {
   "cell_type": "markdown",
   "id": "031784a3",
   "metadata": {
    "papermill": {
     "duration": 0.041957,
     "end_time": "2022-08-29T12:44:49.213065",
     "exception": false,
     "start_time": "2022-08-29T12:44:49.171108",
     "status": "completed"
    },
    "tags": []
   },
   "source": [
    "# Evaluation "
   ]
  },
  {
   "cell_type": "markdown",
   "id": "309e4f75",
   "metadata": {
    "papermill": {
     "duration": 0.042209,
     "end_time": "2022-08-29T12:44:49.297764",
     "exception": false,
     "start_time": "2022-08-29T12:44:49.255555",
     "status": "completed"
    },
    "tags": []
   },
   "source": [
    "###  find best params :"
   ]
  },
  {
   "cell_type": "code",
   "execution_count": 94,
   "id": "6c217e0e",
   "metadata": {
    "execution": {
     "iopub.execute_input": "2022-08-29T12:44:49.385178Z",
     "iopub.status.busy": "2022-08-29T12:44:49.384676Z",
     "iopub.status.idle": "2022-08-29T12:44:49.390506Z",
     "shell.execute_reply": "2022-08-29T12:44:49.389077Z"
    },
    "papermill": {
     "duration": 0.052669,
     "end_time": "2022-08-29T12:44:49.392864",
     "exception": false,
     "start_time": "2022-08-29T12:44:49.340195",
     "status": "completed"
    },
    "tags": []
   },
   "outputs": [],
   "source": [
    "from sklearn.metrics import confusion_matrix,plot_confusion_matrix"
   ]
  },
  {
   "cell_type": "code",
   "execution_count": 95,
   "id": "45fa27f7",
   "metadata": {
    "execution": {
     "iopub.execute_input": "2022-08-29T12:44:49.479425Z",
     "iopub.status.busy": "2022-08-29T12:44:49.478948Z",
     "iopub.status.idle": "2022-08-29T12:44:49.486002Z",
     "shell.execute_reply": "2022-08-29T12:44:49.484675Z"
    },
    "papermill": {
     "duration": 0.05344,
     "end_time": "2022-08-29T12:44:49.488499",
     "exception": false,
     "start_time": "2022-08-29T12:44:49.435059",
     "status": "completed"
    },
    "tags": []
   },
   "outputs": [],
   "source": [
    "params_rf = {'n_estimators' : [100, 200], 'max_features': ['auto', 'sqrt', 'log2'],'max_depth' : [4,5,6,7,8]}\n",
    "params_knn= {'n_neighbors' : [1, 5, 11, 19], 'weights' : ['uniform', 'distance'], 'metric' : ['euclidean', 'manhattan']}\n",
    "params_lr={ 'penalty' : ['l1', 'l2'], 'class_weight' : ['dict', 'balanced']}"
   ]
  },
  {
   "cell_type": "code",
   "execution_count": 96,
   "id": "e106dff3",
   "metadata": {
    "execution": {
     "iopub.execute_input": "2022-08-29T12:44:49.577543Z",
     "iopub.status.busy": "2022-08-29T12:44:49.576259Z",
     "iopub.status.idle": "2022-08-29T12:44:49.583188Z",
     "shell.execute_reply": "2022-08-29T12:44:49.581940Z"
    },
    "papermill": {
     "duration": 0.053792,
     "end_time": "2022-08-29T12:44:49.585608",
     "exception": false,
     "start_time": "2022-08-29T12:44:49.531816",
     "status": "completed"
    },
    "tags": []
   },
   "outputs": [],
   "source": [
    "def evaluate_model(model,param,x_train,y_train):\n",
    "    gs = GridSearchCV(estimator = model, param_grid = param, cv = 5)\n",
    "    gs.fit(X_train, y_train)\n",
    "    y_pred = gs.predict(X_test)\n",
    "    score = accuracy_score(y_test,y_pred)\n",
    "    matrics = plot_confusion_matrix(gs,x_train, y_train,values_format='d' )\n",
    "    return gs.best_params_ ,score,matrics"
   ]
  },
  {
   "cell_type": "markdown",
   "id": "8246b5eb",
   "metadata": {
    "papermill": {
     "duration": 0.043223,
     "end_time": "2022-08-29T12:44:49.672366",
     "exception": false,
     "start_time": "2022-08-29T12:44:49.629143",
     "status": "completed"
    },
    "tags": []
   },
   "source": [
    "### Random Forest : "
   ]
  },
  {
   "cell_type": "code",
   "execution_count": 97,
   "id": "be90ea0f",
   "metadata": {
    "execution": {
     "iopub.execute_input": "2022-08-29T12:44:49.761008Z",
     "iopub.status.busy": "2022-08-29T12:44:49.759552Z",
     "iopub.status.idle": "2022-08-29T14:17:25.187494Z",
     "shell.execute_reply": "2022-08-29T14:17:25.186325Z"
    },
    "papermill": {
     "duration": 5555.517737,
     "end_time": "2022-08-29T14:17:25.232957",
     "exception": false,
     "start_time": "2022-08-29T12:44:49.715220",
     "status": "completed"
    },
    "tags": []
   },
   "outputs": [
    {
     "data": {
      "image/png": "[encoded data removed]",
      "text/plain": [
       "<Figure size 432x288 with 2 Axes>"
      ]
     },
     "metadata": {
      "needs_background": "light"
     },
     "output_type": "display_data"
    }
   ],
   "source": [
    "best_param_rf, score_rf, Mat = evaluate_model(model_rf, params_rf,X_train,y_train)"
   ]
  },
  {
   "cell_type": "code",
   "execution_count": 98,
   "id": "93f0d1f9",
   "metadata": {
    "execution": {
     "iopub.execute_input": "2022-08-29T14:17:25.320113Z",
     "iopub.status.busy": "2022-08-29T14:17:25.319750Z",
     "iopub.status.idle": "2022-08-29T14:17:25.326308Z",
     "shell.execute_reply": "2022-08-29T14:17:25.325241Z"
    },
    "papermill": {
     "duration": 0.052924,
     "end_time": "2022-08-29T14:17:25.328410",
     "exception": false,
     "start_time": "2022-08-29T14:17:25.275486",
     "status": "completed"
    },
    "tags": []
   },
   "outputs": [
    {
     "data": {
      "text/plain": [
       "{'max_depth': 8, 'max_features': 'sqrt', 'n_estimators': 200}"
      ]
     },
     "execution_count": 98,
     "metadata": {},
     "output_type": "execute_result"
    }
   ],
   "source": [
    "best_param_rf"
   ]
  },
  {
   "cell_type": "code",
   "execution_count": 99,
   "id": "57a8b0fa",
   "metadata": {
    "execution": {
     "iopub.execute_input": "2022-08-29T14:17:25.415895Z",
     "iopub.status.busy": "2022-08-29T14:17:25.414986Z",
     "iopub.status.idle": "2022-08-29T14:17:25.420468Z",
     "shell.execute_reply": "2022-08-29T14:17:25.419764Z"
    },
    "papermill": {
     "duration": 0.051006,
     "end_time": "2022-08-29T14:17:25.422342",
     "exception": false,
     "start_time": "2022-08-29T14:17:25.371336",
     "status": "completed"
    },
    "tags": []
   },
   "outputs": [
    {
     "data": {
      "text/plain": [
       "0.6774079299035102"
      ]
     },
     "execution_count": 99,
     "metadata": {},
     "output_type": "execute_result"
    }
   ],
   "source": [
    "score_rf"
   ]
  },
  {
   "cell_type": "markdown",
   "id": "b282c224",
   "metadata": {
    "papermill": {
     "duration": 0.04214,
     "end_time": "2022-08-29T14:17:25.507264",
     "exception": false,
     "start_time": "2022-08-29T14:17:25.465124",
     "status": "completed"
    },
    "tags": []
   },
   "source": [
    "### K-Neighbors Classifier : "
   ]
  },
  {
   "cell_type": "code",
   "execution_count": 100,
   "id": "123e8eb4",
   "metadata": {
    "execution": {
     "iopub.execute_input": "2022-08-29T14:17:25.594091Z",
     "iopub.status.busy": "2022-08-29T14:17:25.593442Z",
     "iopub.status.idle": "2022-08-29T15:59:09.760224Z",
     "shell.execute_reply": "2022-08-29T15:59:09.758695Z"
    },
    "papermill": {
     "duration": 6104.260334,
     "end_time": "2022-08-29T15:59:09.809998",
     "exception": false,
     "start_time": "2022-08-29T14:17:25.549664",
     "status": "completed"
    },
    "tags": []
   },
   "outputs": [
    {
     "data": {
      "image/png": "[encoded data removed]",
      "text/plain": [
       "<Figure size 432x288 with 2 Axes>"
      ]
     },
     "metadata": {
      "needs_background": "light"
     },
     "output_type": "display_data"
    }
   ],
   "source": [
    "best_param_knn, score_knn, Mat = evaluate_model(model_knn, params_knn,X_train,y_train)"
   ]
  },
  {
   "cell_type": "code",
   "execution_count": 101,
   "id": "7740adad",
   "metadata": {
    "execution": {
     "iopub.execute_input": "2022-08-29T15:59:10.004602Z",
     "iopub.status.busy": "2022-08-29T15:59:10.003524Z",
     "iopub.status.idle": "2022-08-29T15:59:10.010084Z",
     "shell.execute_reply": "2022-08-29T15:59:10.009325Z"
    },
    "papermill": {
     "duration": 0.056922,
     "end_time": "2022-08-29T15:59:10.012999",
     "exception": false,
     "start_time": "2022-08-29T15:59:09.956077",
     "status": "completed"
    },
    "tags": []
   },
   "outputs": [
    {
     "data": {
      "text/plain": [
       "{'metric': 'manhattan', 'n_neighbors': 19, 'weights': 'uniform'}"
      ]
     },
     "execution_count": 101,
     "metadata": {},
     "output_type": "execute_result"
    }
   ],
   "source": [
    "best_param_knn"
   ]
  },
  {
   "cell_type": "code",
   "execution_count": 102,
   "id": "09d47be8",
   "metadata": {
    "execution": {
     "iopub.execute_input": "2022-08-29T15:59:10.105318Z",
     "iopub.status.busy": "2022-08-29T15:59:10.104489Z",
     "iopub.status.idle": "2022-08-29T15:59:10.111669Z",
     "shell.execute_reply": "2022-08-29T15:59:10.110688Z"
    },
    "papermill": {
     "duration": 0.055437,
     "end_time": "2022-08-29T15:59:10.114024",
     "exception": false,
     "start_time": "2022-08-29T15:59:10.058587",
     "status": "completed"
    },
    "tags": []
   },
   "outputs": [
    {
     "data": {
      "text/plain": [
       "0.6666160705250689"
      ]
     },
     "execution_count": 102,
     "metadata": {},
     "output_type": "execute_result"
    }
   ],
   "source": [
    "score_knn"
   ]
  },
  {
   "cell_type": "markdown",
   "id": "9160034d",
   "metadata": {
    "papermill": {
     "duration": 0.044468,
     "end_time": "2022-08-29T15:59:10.203685",
     "exception": false,
     "start_time": "2022-08-29T15:59:10.159217",
     "status": "completed"
    },
    "tags": []
   },
   "source": [
    "### Logistic Regression algorithm :"
   ]
  },
  {
   "cell_type": "code",
   "execution_count": 103,
   "id": "51ad9333",
   "metadata": {
    "execution": {
     "iopub.execute_input": "2022-08-29T15:59:10.295113Z",
     "iopub.status.busy": "2022-08-29T15:59:10.294646Z",
     "iopub.status.idle": "2022-08-29T15:59:18.130575Z",
     "shell.execute_reply": "2022-08-29T15:59:18.129163Z"
    },
    "papermill": {
     "duration": 7.884475,
     "end_time": "2022-08-29T15:59:18.133094",
     "exception": false,
     "start_time": "2022-08-29T15:59:10.248619",
     "status": "completed"
    },
    "tags": []
   },
   "outputs": [
    {
     "data": {
      "image/png": "[encoded data removed]",
      "text/plain": [
       "<Figure size 432x288 with 2 Axes>"
      ]
     },
     "metadata": {
      "needs_background": "light"
     },
     "output_type": "display_data"
    }
   ],
   "source": [
    "best_param_lr, score_lr, Mat = evaluate_model(model_lr, params_lr,X_train,y_train)"
   ]
  },
  {
   "cell_type": "code",
   "execution_count": 104,
   "id": "2e4e0bb7",
   "metadata": {
    "execution": {
     "iopub.execute_input": "2022-08-29T15:59:18.225392Z",
     "iopub.status.busy": "2022-08-29T15:59:18.224953Z",
     "iopub.status.idle": "2022-08-29T15:59:18.231909Z",
     "shell.execute_reply": "2022-08-29T15:59:18.230625Z"
    },
    "papermill": {
     "duration": 0.056333,
     "end_time": "2022-08-29T15:59:18.233999",
     "exception": false,
     "start_time": "2022-08-29T15:59:18.177666",
     "status": "completed"
    },
    "tags": []
   },
   "outputs": [
    {
     "data": {
      "text/plain": [
       "{'class_weight': 'balanced', 'penalty': 'l2'}"
      ]
     },
     "execution_count": 104,
     "metadata": {},
     "output_type": "execute_result"
    }
   ],
   "source": [
    "best_param_lr"
   ]
  },
  {
   "cell_type": "code",
   "execution_count": 105,
   "id": "85337c47",
   "metadata": {
    "execution": {
     "iopub.execute_input": "2022-08-29T15:59:18.327130Z",
     "iopub.status.busy": "2022-08-29T15:59:18.326721Z",
     "iopub.status.idle": "2022-08-29T15:59:18.334123Z",
     "shell.execute_reply": "2022-08-29T15:59:18.332745Z"
    },
    "papermill": {
     "duration": 0.057331,
     "end_time": "2022-08-29T15:59:18.336709",
     "exception": false,
     "start_time": "2022-08-29T15:59:18.279378",
     "status": "completed"
    },
    "tags": []
   },
   "outputs": [
    {
     "data": {
      "text/plain": [
       "0.5676232313672268"
      ]
     },
     "execution_count": 105,
     "metadata": {},
     "output_type": "execute_result"
    }
   ],
   "source": [
    "score_lr"
   ]
  }
 ],
 "metadata": {
  "kernelspec": {
   "display_name": "Python 3",
   "language": "python",
   "name": "python3"
  },
  "language_info": {
   "codemirror_mode": {
    "name": "ipython",
    "version": 3
   },
   "file_extension": ".py",
   "mimetype": "text/x-python",
   "name": "python",
   "nbconvert_exporter": "python",
   "pygments_lexer": "ipython3",
   "version": "3.7.12"
  },
  "papermill": {
   "default_parameters": {},
   "duration": 12006.034732,
   "end_time": "2022-08-29T15:59:19.830405",
   "environment_variables": {},
   "exception": null,
   "input_path": "__notebook__.ipynb",
   "output_path": "__notebook__.ipynb",
   "parameters": {},
   "start_time": "2022-08-29T12:39:13.795673",
   "version": "2.3.4"
  }
 },
 "nbformat": 4,
 "nbformat_minor": 5
}
